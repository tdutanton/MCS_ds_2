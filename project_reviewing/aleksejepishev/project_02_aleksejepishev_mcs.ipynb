{
 "cells": [
  {
   "cell_type": "markdown",
   "metadata": {},
   "source": [
    "<p><img src=\"https://files.cdn.thinkific.com/file_uploads/133292/images/a9e/c1a/bc3/P02.jpg\"></p>"
   ]
  },
  {
   "cell_type": "markdown",
   "metadata": {
    "id": "e5Vts0g2oUvy"
   },
   "source": [
    "`MCSDSC02P01V3______`\n",
    "\n",
    "`MCSDSC02P01V2______`\n",
    "\n",
    "`MCSDSELIMC02P01V1010621`"
   ]
  },
  {
   "cell_type": "markdown",
   "metadata": {},
   "source": [
    "<h3><font color=\"#FF0F00\">Комментарий ассистента</font></h3>\n",
    "\n",
    "Неплохо, учитывая, что ты выполнял проект совсем без подсказок! Критических замечаний не так много, но есть доработки.\n",
    "\n",
    "Как обычно, заголовки (комментариев) будут трех цветов. <font color=\"89DD00\">Зеленый</font> — все правильно (и если комментария нет, то это также значит, что все правильно). <font color=\"FFB800\">Желтый</font> — можно доработать. <font color=\"FF0F00\">Красный</font> — нужно исправить.\n",
    "\n",
    "Постарайся учесть эти комментарии в ходе доработки проекта и не удаляй их."
   ]
  },
  {
   "cell_type": "markdown",
   "metadata": {},
   "source": [
    "## Постановка задачи"
   ]
  },
  {
   "cell_type": "markdown",
   "metadata": {},
   "source": [
    "Необходимо изучить данные сервиса \"Без очереди\", которое помогает сделать заказ до прихода в кафе, чтобы не ждать официанта, приготовление еды и счет. Это приложение было протестировано на территории дизайн-завода Флакон и Хлебозавода №9. В задачу также входитответить на вопросы, поставленные менеджером проекта:\n",
    "- На какие кафе приходится больше всего заказов? А на какие дни?\n",
    "- Чаще ли приложением пользуются именно в обеденное время?\n",
    "- Насколько большими компаниями  (или наоборот поодиночке) приходят в кафе?"
   ]
  },
  {
   "cell_type": "markdown",
   "metadata": {},
   "source": [
    "<h3><font color=\"#89DD00\">Комментарий ассистента 2</font></h3>\n",
    "\n",
    "Ок."
   ]
  },
  {
   "cell_type": "markdown",
   "metadata": {},
   "source": [
    "<h3><font color=\"#FFB800\">Комментарий ассистента</font></h3>\n",
    "\n",
    "Для третьего читателя не очень понятно о каком именно сервисе идет речь и какие вопросы поставил менеджер."
   ]
  },
  {
   "cell_type": "markdown",
   "metadata": {},
   "source": [
    "## Импорт данных и библиотек"
   ]
  },
  {
   "cell_type": "markdown",
   "metadata": {},
   "source": [
    "Прочитаем файл `bez_ocheredi.csv` и сохраним его в переменную `bo_data`."
   ]
  },
  {
   "cell_type": "code",
   "execution_count": 1,
   "metadata": {},
   "outputs": [],
   "source": [
    "import pandas as pd"
   ]
  },
  {
   "cell_type": "code",
   "execution_count": 2,
   "metadata": {},
   "outputs": [],
   "source": [
    "bo_data = pd.read_csv('bez_ocheredi.csv')"
   ]
  },
  {
   "cell_type": "markdown",
   "metadata": {},
   "source": [
    "<h3><font color=\"#89DD00\">Комментарий ассистента 2</font></h3>\n",
    "\n",
    "Ок."
   ]
  },
  {
   "cell_type": "markdown",
   "metadata": {},
   "source": [
    "<h3><font color=\"#FFB800\">Комментарий ассистента</font></h3>\n",
    "\n",
    "Рекомендуем загружать все модули в отдельной ячейке. Лучше разбить эти 2 команды и не грузить все в одну ячейку."
   ]
  },
  {
   "cell_type": "markdown",
   "metadata": {},
   "source": [
    "Получим первые 10 строк таблицы."
   ]
  },
  {
   "cell_type": "code",
   "execution_count": 3,
   "metadata": {
    "scrolled": true
   },
   "outputs": [
    {
     "data": {
      "text/html": [
       "<div>\n",
       "<style scoped>\n",
       "    .dataframe tbody tr th:only-of-type {\n",
       "        vertical-align: middle;\n",
       "    }\n",
       "\n",
       "    .dataframe tbody tr th {\n",
       "        vertical-align: top;\n",
       "    }\n",
       "\n",
       "    .dataframe thead th {\n",
       "        text-align: right;\n",
       "    }\n",
       "</style>\n",
       "<table border=\"1\" class=\"dataframe\">\n",
       "  <thead>\n",
       "    <tr style=\"text-align: right;\">\n",
       "      <th></th>\n",
       "      <th>userID</th>\n",
       "      <th>ресторан</th>\n",
       "      <th>weekday</th>\n",
       "      <th>ordered</th>\n",
       "      <th>Столик для</th>\n",
       "    </tr>\n",
       "  </thead>\n",
       "  <tbody>\n",
       "    <tr>\n",
       "      <th>0</th>\n",
       "      <td>b912c3c6a6ad</td>\n",
       "      <td>Iskra Bar</td>\n",
       "      <td>Monday</td>\n",
       "      <td>10:00</td>\n",
       "      <td>1</td>\n",
       "    </tr>\n",
       "    <tr>\n",
       "      <th>1</th>\n",
       "      <td>2dac0150717d</td>\n",
       "      <td>Iskra Bar</td>\n",
       "      <td>Monday</td>\n",
       "      <td>13:30</td>\n",
       "      <td>2</td>\n",
       "    </tr>\n",
       "    <tr>\n",
       "      <th>2</th>\n",
       "      <td>ba83aefab5dc</td>\n",
       "      <td>Iskra Bar</td>\n",
       "      <td>Tuesday</td>\n",
       "      <td>12:30</td>\n",
       "      <td>3</td>\n",
       "    </tr>\n",
       "    <tr>\n",
       "      <th>3</th>\n",
       "      <td>02996f1dd2ea</td>\n",
       "      <td>Iskra Bar</td>\n",
       "      <td>Wednesday</td>\n",
       "      <td>12:00</td>\n",
       "      <td>2</td>\n",
       "    </tr>\n",
       "    <tr>\n",
       "      <th>4</th>\n",
       "      <td>7c90be56d2ab</td>\n",
       "      <td>Iskra Bar</td>\n",
       "      <td>Thursday</td>\n",
       "      <td>14:30</td>\n",
       "      <td>3</td>\n",
       "    </tr>\n",
       "    <tr>\n",
       "      <th>5</th>\n",
       "      <td>51e0962387f7</td>\n",
       "      <td>Там Ем</td>\n",
       "      <td>Friday</td>\n",
       "      <td>12:30</td>\n",
       "      <td>2</td>\n",
       "    </tr>\n",
       "    <tr>\n",
       "      <th>6</th>\n",
       "      <td>c4f260a2b48a</td>\n",
       "      <td>NaN</td>\n",
       "      <td>Saturday</td>\n",
       "      <td>15:00</td>\n",
       "      <td>6</td>\n",
       "    </tr>\n",
       "    <tr>\n",
       "      <th>7</th>\n",
       "      <td>6b71309d6a8a</td>\n",
       "      <td>Крафтейнер</td>\n",
       "      <td>Monday</td>\n",
       "      <td>10:30</td>\n",
       "      <td>1</td>\n",
       "    </tr>\n",
       "    <tr>\n",
       "      <th>8</th>\n",
       "      <td>c5b969cb63a2</td>\n",
       "      <td>Бар Сибирь</td>\n",
       "      <td>Wednesday</td>\n",
       "      <td>15:30</td>\n",
       "      <td>2</td>\n",
       "    </tr>\n",
       "    <tr>\n",
       "      <th>9</th>\n",
       "      <td>b1570962e68c</td>\n",
       "      <td>Бар Сибирь</td>\n",
       "      <td>Wednesday</td>\n",
       "      <td>12:30</td>\n",
       "      <td>3</td>\n",
       "    </tr>\n",
       "  </tbody>\n",
       "</table>\n",
       "</div>"
      ],
      "text/plain": [
       "        userID    ресторан     weekday  ordered    Столик для \n",
       "0  b912c3c6a6ad   Iskra Bar     Monday     10:00             1\n",
       "1  2dac0150717d   Iskra Bar     Monday     13:30             2\n",
       "2  ba83aefab5dc   Iskra Bar    Tuesday     12:30             3\n",
       "3  02996f1dd2ea   Iskra Bar  Wednesday     12:00             2\n",
       "4  7c90be56d2ab   Iskra Bar   Thursday     14:30             3\n",
       "5  51e0962387f7      Там Ем     Friday     12:30             2\n",
       "6  c4f260a2b48a         NaN   Saturday     15:00             6\n",
       "7  6b71309d6a8a  Крафтейнер     Monday     10:30             1\n",
       "8  c5b969cb63a2  Бар Сибирь  Wednesday     15:30             2\n",
       "9  b1570962e68c  Бар Сибирь  Wednesday     12:30             3"
      ]
     },
     "execution_count": 3,
     "metadata": {},
     "output_type": "execute_result"
    }
   ],
   "source": [
    "bo_data.head(10)"
   ]
  },
  {
   "cell_type": "markdown",
   "metadata": {},
   "source": [
    "Получим общую информацию о данных из таблицы."
   ]
  },
  {
   "cell_type": "code",
   "execution_count": 4,
   "metadata": {
    "scrolled": true
   },
   "outputs": [
    {
     "name": "stdout",
     "output_type": "stream",
     "text": [
      "<class 'pandas.core.frame.DataFrame'>\n",
      "RangeIndex: 1024 entries, 0 to 1023\n",
      "Data columns (total 5 columns):\n",
      " #   Column        Non-Null Count  Dtype \n",
      "---  ------        --------------  ----- \n",
      " 0   userID        1024 non-null   object\n",
      " 1    ресторан     959 non-null    object\n",
      " 2    weekday      1024 non-null   object\n",
      " 3    ordered      1024 non-null   object\n",
      " 4    Столик для   1024 non-null   int64 \n",
      "dtypes: int64(1), object(4)\n",
      "memory usage: 40.1+ KB\n"
     ]
    }
   ],
   "source": [
    "bo_data.info()"
   ]
  },
  {
   "cell_type": "markdown",
   "metadata": {},
   "source": [
    "Столбцы в `bo_data` содержат следующую информацию:\n",
    "\n",
    "* имена пользователей\n",
    "* название ресторанов\n",
    "* дни недели\n",
    "* когда заказан столик\n",
    "* для скольких людей заказан столик\n"
   ]
  },
  {
   "cell_type": "markdown",
   "metadata": {},
   "source": [
    "### Выводы"
   ]
  },
  {
   "cell_type": "markdown",
   "metadata": {},
   "source": [
    "* похоже, что в столбце \"ресторан\" есть NaN values. На это указывает показатель Non-Null Count\n",
    "* кроме того, названия столбцов написаны на разных языках и разного регистра, с пробелами и без"
   ]
  },
  {
   "cell_type": "markdown",
   "metadata": {},
   "source": [
    "<h3><font color=\"#89DD00\">Комментарий ассистента</font></h3>\n",
    "\n",
    "Да, в выводах нужно указать на структуру данных, а также наличие пропусков."
   ]
  },
  {
   "cell_type": "markdown",
   "metadata": {},
   "source": [
    "## Предобработка данных"
   ]
  },
  {
   "cell_type": "markdown",
   "metadata": {},
   "source": [
    "Получим названия столбцов."
   ]
  },
  {
   "cell_type": "code",
   "execution_count": 5,
   "metadata": {
    "scrolled": false
   },
   "outputs": [
    {
     "data": {
      "text/plain": [
       "Index(['userID ', ' ресторан ', ' weekday', ' ordered ', ' Столик для '], dtype='object')"
      ]
     },
     "execution_count": 5,
     "metadata": {},
     "output_type": "execute_result"
    }
   ],
   "source": [
    "bo_data.columns"
   ]
  },
  {
   "cell_type": "markdown",
   "metadata": {},
   "source": [
    "Обращаем внимание, что помимо названий на разном языке, в них есть пробелы, которые затрудняют доступ к данным. Переименуем столбцы и проверим результат."
   ]
  },
  {
   "cell_type": "code",
   "execution_count": 6,
   "metadata": {
    "scrolled": true
   },
   "outputs": [
    {
     "data": {
      "text/plain": [
       "Index(['user_id', 'restaurant', 'weekday', 'ordered_time', 'num_of_guests'], dtype='object')"
      ]
     },
     "execution_count": 6,
     "metadata": {},
     "output_type": "execute_result"
    }
   ],
   "source": [
    "columns = ['user_id', 'restaurant', 'weekday', 'ordered_time', 'num_of_guests']\n",
    "bo_data.set_axis(columns, axis = 'columns', inplace = True)\n",
    "bo_data.columns"
   ]
  },
  {
   "cell_type": "markdown",
   "metadata": {},
   "source": [
    "<h3><font color=\"#89DD00\">Комментарий ассистента 2</font></h3>\n",
    "\n",
    "Отлично."
   ]
  },
  {
   "cell_type": "markdown",
   "metadata": {},
   "source": [
    "<h3><font color=\"#FF0F00\">Комментарий ассистента</font></h3>\n",
    "\n",
    "Не надо переименовывать столбцы через атрибут columns, потому что так ты неявно учитываешь порядок столбцов. Если порядок поменяется, то код не будет работать. \n",
    "\n",
    "Все столбцы можно переименовать с помощью метода `set_axis()`. Передавай ему список с названиями столбцов, `axis='columns'`, `inplace = True` (последний аргумент — меняет структуру данных, а не создает копию). Также можно использовать метод `rename()`, но опять же указывай `inplace = True`.\n",
    "\n",
    "Еще момент: ordered стоит назвать очевиднее: например, ordered_time."
   ]
  },
  {
   "cell_type": "markdown",
   "metadata": {},
   "source": [
    "Еще раз проверим данные на наличие пропусков, просуммировав их."
   ]
  },
  {
   "cell_type": "code",
   "execution_count": 7,
   "metadata": {
    "scrolled": true
   },
   "outputs": [
    {
     "data": {
      "text/plain": [
       "user_id           0\n",
       "restaurant       65\n",
       "weekday           0\n",
       "ordered_time      0\n",
       "num_of_guests     0\n",
       "dtype: int64"
      ]
     },
     "execution_count": 7,
     "metadata": {},
     "output_type": "execute_result"
    }
   ],
   "source": [
    "bo_data.isna().sum()"
   ]
  },
  {
   "cell_type": "markdown",
   "metadata": {},
   "source": [
    "Менеджер проекта предупреждал, что некоторые заказы заводились на тестовую карточку кафе без названия, поэтому есть смысл заполнить такой пропуск словом admin."
   ]
  },
  {
   "cell_type": "code",
   "execution_count": 8,
   "metadata": {
    "scrolled": false
   },
   "outputs": [],
   "source": [
    "bo_data['restaurant'].fillna('admin', inplace=True)"
   ]
  },
  {
   "cell_type": "markdown",
   "metadata": {},
   "source": [
    "Проверяем, что пропусков не осталось."
   ]
  },
  {
   "cell_type": "code",
   "execution_count": 9,
   "metadata": {
    "scrolled": true
   },
   "outputs": [
    {
     "data": {
      "text/plain": [
       "user_id          0\n",
       "restaurant       0\n",
       "weekday          0\n",
       "ordered_time     0\n",
       "num_of_guests    0\n",
       "dtype: int64"
      ]
     },
     "execution_count": 9,
     "metadata": {},
     "output_type": "execute_result"
    }
   ],
   "source": [
    "bo_data.isna().sum()"
   ]
  },
  {
   "cell_type": "markdown",
   "metadata": {},
   "source": [
    "Установим количество явных дубликатов. Если найдутся, то удалим и снова проверим, что их не осталось."
   ]
  },
  {
   "cell_type": "code",
   "execution_count": 10,
   "metadata": {
    "scrolled": true
   },
   "outputs": [
    {
     "data": {
      "text/plain": [
       "24"
      ]
     },
     "execution_count": 10,
     "metadata": {},
     "output_type": "execute_result"
    }
   ],
   "source": [
    "#bo_data[bo_data['user_id'].duplicated() == True]\n",
    "bo_data.duplicated().sum()"
   ]
  },
  {
   "cell_type": "markdown",
   "metadata": {},
   "source": [
    "<h3><font color=\"#89DD00\">Комментарий ассистента 2</font></h3>\n",
    "\n",
    "Ок."
   ]
  },
  {
   "cell_type": "markdown",
   "metadata": {},
   "source": [
    "<h3><font color=\"#FF0F00\">Комментарий ассистента</font></h3>\n",
    "\n",
    "Лучше использовать цепочку методов `duplicated().sum()`, вывод компактнее."
   ]
  },
  {
   "cell_type": "code",
   "execution_count": 11,
   "metadata": {
    "scrolled": true
   },
   "outputs": [],
   "source": [
    "#bo_data = bo_data.drop(bo_data.index[(bo_data['user_id'].duplicated() == True)], axis=0)\n",
    "bo_data = bo_data.drop_duplicates().reset_index(drop=True)"
   ]
  },
  {
   "cell_type": "code",
   "execution_count": 12,
   "metadata": {
    "scrolled": true
   },
   "outputs": [
    {
     "data": {
      "text/plain": [
       "0"
      ]
     },
     "execution_count": 12,
     "metadata": {},
     "output_type": "execute_result"
    }
   ],
   "source": [
    "bo_data.duplicated().sum()"
   ]
  },
  {
   "cell_type": "markdown",
   "metadata": {},
   "source": [
    "<h3><font color=\"#89DD00\">Комментарий ассистента 2</font></h3>\n",
    "\n",
    "Все так."
   ]
  },
  {
   "cell_type": "markdown",
   "metadata": {},
   "source": [
    "<h3><font color=\"#FF0F00\">Комментарий ассистента</font></h3>\n",
    "\n",
    "Сложновато. Ты можешь удалить дубликаты и перенумеровать строки с помощью цепочки `df.drop_duplicates().reset_index(drop = True)`. Во второй методе обязательно указывай `drop = True`, иначе будет дырка в нумерации строк (20, 21, 26...)\n",
    "\n",
    "Посчитать количество дубликатов можно с помощью `bo_data.duplicated().sum()`. "
   ]
  },
  {
   "cell_type": "markdown",
   "metadata": {},
   "source": [
    "Скорее всего, такие полные дубликаты говорят о сбое при выгрузке данных. Необходимо сообщить об этом."
   ]
  },
  {
   "cell_type": "markdown",
   "metadata": {},
   "source": [
    "Еще одна проблема, о которой предупреждал менеджер проекта — дубликаты карточки Iskra Bar с неправильными названием бара - \"Искра\" и \"Искр\". На них заводились реальные заказы, поэтому необходимо вычислить их и переименовать на правильное название — Iskra Bar.\n",
    "\n",
    "Объявим функцию `replace_restaurant()`, которая заменяет неправильное название, а потом проверяет успешность выполнения замены подсчетом (если замена прошла успешно — результат подсчета должен быть 0)."
   ]
  },
  {
   "cell_type": "code",
   "execution_count": 13,
   "metadata": {},
   "outputs": [],
   "source": [
    "'''def replace_restaurant(df, name1, name2):\n",
    "    for i in range(len(df)):\n",
    "        if df['restaurant'].iloc[i] == name1 or df['restaurant'].iloc[i] == name2:\n",
    "            df['restaurant'].iloc[i] = df['restaurant'].iloc[i].replace(df['restaurant'].iloc[i], 'Iskra Bar')'''\n",
    "\n",
    "def replace_restaurant(df, wrong_name, correct_name):\n",
    "    df = df.replace(wrong_name, correct_name)\n",
    "    return df['restaurant'][(df['restaurant'] == wrong_name)].count()"
   ]
  },
  {
   "cell_type": "markdown",
   "metadata": {},
   "source": [
    "Передаем функции названия 'Искра' и 'Искр'."
   ]
  },
  {
   "cell_type": "code",
   "execution_count": 14,
   "metadata": {
    "scrolled": true
   },
   "outputs": [
    {
     "data": {
      "text/plain": [
       "0"
      ]
     },
     "execution_count": 14,
     "metadata": {},
     "output_type": "execute_result"
    }
   ],
   "source": [
    "replace_restaurant(bo_data, 'Искра', 'Iskra Bar')"
   ]
  },
  {
   "cell_type": "code",
   "execution_count": 15,
   "metadata": {},
   "outputs": [
    {
     "data": {
      "text/plain": [
       "0"
      ]
     },
     "execution_count": 15,
     "metadata": {},
     "output_type": "execute_result"
    }
   ],
   "source": [
    "replace_restaurant(bo_data, 'Искр', 'Iskra Bar')"
   ]
  },
  {
   "cell_type": "markdown",
   "metadata": {},
   "source": [
    "<h3><font color=\"#89DD00\">Комментарий ассистента 2</font></h3>\n",
    "\n",
    "Красота"
   ]
  },
  {
   "cell_type": "markdown",
   "metadata": {},
   "source": [
    "<h3><font color=\"#FF0F00\">Комментарий ассистента</font></h3>\n",
    "\n",
    "Здесь тоже стоит упрощать. В первой строке функции можно использовать метод `replace()`, который заменит на нужное значение: `df.replace('first_value', 'second_value')`. Первый аргумент — текущее название, второй аргумент — новое значение.\n",
    "\n",
    "А во второй строке \"проверяй\" как этот метод отработал и считай неправильные названия с помощью метода `count()`."
   ]
  },
  {
   "cell_type": "markdown",
   "metadata": {},
   "source": [
    "### Выводы"
   ]
  },
  {
   "cell_type": "markdown",
   "metadata": {},
   "source": [
    "* в данных были дупликаты от которых мы избавились\n",
    "* кроме того, мы избавились от Nan values\n",
    "* переименовали названия столбцов, чтобы сделать их одинаковыми\n",
    "* названия одних и тех же заведений мы тоже унифицировали"
   ]
  },
  {
   "cell_type": "markdown",
   "metadata": {},
   "source": [
    "<h3><font color=\"#FFB800\">Комментарий ассистента</font></h3>\n",
    "\n",
    "Все так, но доработай реализацию."
   ]
  },
  {
   "cell_type": "markdown",
   "metadata": {},
   "source": [
    "## Распределение заказов в течение недели"
   ]
  },
  {
   "cell_type": "markdown",
   "metadata": {},
   "source": [
    "Считаем, на какие кафе приходится больше всего заказов."
   ]
  },
  {
   "cell_type": "code",
   "execution_count": 16,
   "metadata": {
    "scrolled": true
   },
   "outputs": [
    {
     "data": {
      "text/plain": [
       "restaurant\n",
       "Искра           6\n",
       "Искр           12\n",
       "admin          41\n",
       "Азия           62\n",
       "Коворкафе      66\n",
       "Крафтейнер     78\n",
       "Северия       107\n",
       "Бар Сибирь    159\n",
       "Там Ем        200\n",
       "Iskra Bar     269\n",
       "Name: weekday, dtype: int64"
      ]
     },
     "execution_count": 16,
     "metadata": {},
     "output_type": "execute_result"
    }
   ],
   "source": [
    "bo_data['weekday'].groupby(bo_data['restaurant']).count().sort_values()"
   ]
  },
  {
   "cell_type": "markdown",
   "metadata": {},
   "source": [
    "Группируем по `weekday` и считаем, на какие дни приходится больше всего заказов."
   ]
  },
  {
   "cell_type": "code",
   "execution_count": 17,
   "metadata": {
    "scrolled": true
   },
   "outputs": [
    {
     "data": {
      "text/plain": [
       "weekday\n",
       "Sunday        24\n",
       "Saturday      52\n",
       "Friday       110\n",
       "Monday       141\n",
       "Thursday     180\n",
       "Wednesday    242\n",
       "Tuesday      251\n",
       "Name: restaurant, dtype: int64"
      ]
     },
     "execution_count": 17,
     "metadata": {},
     "output_type": "execute_result"
    }
   ],
   "source": [
    "bo_data['restaurant'].groupby(bo_data['weekday']).count().sort_values()"
   ]
  },
  {
   "cell_type": "markdown",
   "metadata": {},
   "source": [
    "<h3><font color=\"#89DD00\">Комментарий ассистента</font></h3>\n",
    "\n",
    "Круто, что используешь группировку, но на самом деле здесь в обоих случаях можно применить метод `value_counts()` — он тебе еще и отсортирует по убыванию результат. Возможно, поправим здесь описание шага.\n",
    "\n",
    "Если все же захочешь `groupby()` оставить, то добавляй тогда и `sort_values()` для сортировки."
   ]
  },
  {
   "cell_type": "markdown",
   "metadata": {},
   "source": [
    "Объявляем функцию, которая возвращает количество заказов для ресторана в определенный день."
   ]
  },
  {
   "cell_type": "code",
   "execution_count": 18,
   "metadata": {
    "scrolled": false
   },
   "outputs": [
    {
     "data": {
      "text/plain": [
       "\"def weekday_rest(weekday, rest):\\n    df = bo_data['restaurant'][(bo_data['restaurant'] == rest)].groupby(bo_data['weekday'] == weekday).count()\\n    return df[True]\\n\\nprint(weekday_rest( 'Monday', 'Iskra Bar'))\\nprint(weekday_rest('Wednesday', 'Iskra Bar'))\\nprint(weekday_rest('Friday', 'Iskra Bar'))\\n\\nprint(weekday_rest( 'Monday', 'Там Ем'))\\nprint(weekday_rest('Wednesday', 'Там Ем'))\\nprint(weekday_rest( 'Friday', 'Там Ем'))\""
      ]
     },
     "execution_count": 18,
     "metadata": {},
     "output_type": "execute_result"
    }
   ],
   "source": [
    "'''def weekday_rest(weekday, rest):\n",
    "    df = bo_data['restaurant'][(bo_data['restaurant'] == rest)].groupby(bo_data['weekday'] == weekday).count()\n",
    "    return df[True]\n",
    "\n",
    "print(weekday_rest( 'Monday', 'Iskra Bar'))\n",
    "print(weekday_rest('Wednesday', 'Iskra Bar'))\n",
    "print(weekday_rest('Friday', 'Iskra Bar'))\n",
    "\n",
    "print(weekday_rest( 'Monday', 'Там Ем'))\n",
    "print(weekday_rest('Wednesday', 'Там Ем'))\n",
    "print(weekday_rest( 'Friday', 'Там Ем'))'''"
   ]
  },
  {
   "cell_type": "code",
   "execution_count": 19,
   "metadata": {
    "scrolled": true
   },
   "outputs": [
    {
     "name": "stdout",
     "output_type": "stream",
     "text": [
      "46\n",
      "51\n",
      "26\n",
      "25\n",
      "52\n",
      "24\n"
     ]
    }
   ],
   "source": [
    "def weekday_rest(df, weekday, rest):\n",
    "    restaurants_list = df[(df['weekday'] == weekday) & (df['restaurant'] == rest)]\n",
    "    restaurant_list_count = restaurants_list['restaurant'].count()\n",
    "    return restaurant_list_count\n",
    "\n",
    "print(weekday_rest(bo_data, 'Monday', 'Iskra Bar'))\n",
    "print(weekday_rest(bo_data, 'Wednesday', 'Iskra Bar'))\n",
    "print(weekday_rest(bo_data, 'Friday', 'Iskra Bar'))\n",
    "\n",
    "print(weekday_rest(bo_data, 'Monday', 'Там Ем'))\n",
    "print(weekday_rest(bo_data, 'Wednesday', 'Там Ем'))\n",
    "print(weekday_rest(bo_data, 'Friday', 'Там Ем'))"
   ]
  },
  {
   "cell_type": "markdown",
   "metadata": {},
   "source": [
    "<h3><font color=\"#89DD00\">Комментарий ассистента 2</font></h3>\n",
    "\n",
    "Отлично"
   ]
  },
  {
   "cell_type": "markdown",
   "metadata": {},
   "source": [
    "<h3><font color=\"#FF0F00\">Комментарий ассистента</font></h3>\n",
    "\n",
    "Реализация у функции `weekday_rest` очень простая. Ты можешь использовать логическое условие: `restaurants_list = df[(df['weekday'] == day) & (df['restaurant'] == restaurant)]`. Внутри квадратных скобок указываем 2 условия, которые записываются в круглых, а между ними специальный оператор `&`, который работает как `and` в питоне. Второй строкой считаем кол-во ресторанов: `restaurants_list_count = restaurants_list['restaurant'].count()`.\n",
    "\n",
    "Либо ты можешь сразу же в одной строке (после `return`) возвращать логическое условие с прицепленным методом `count()`\n",
    "\n",
    "И используй 3 аргумента — данные, ресторан и день недели, чтобы эту функцию можно было переиспользовать. Сейчас она у тебя конкретно для `bo_data`."
   ]
  },
  {
   "cell_type": "markdown",
   "metadata": {},
   "source": [
    "Передадим ей заведения Iskra Bar и Там Ем — два флагманских места, по которым просили результаты прежде всего — и понедельник, среду и пятницу в качестве дня недели."
   ]
  },
  {
   "cell_type": "markdown",
   "metadata": {},
   "source": [
    "Сведем результат в таблицу."
   ]
  },
  {
   "cell_type": "code",
   "execution_count": 20,
   "metadata": {},
   "outputs": [],
   "source": [
    "'''iskra_tam = pd.DataFrame(index = ['Iskra Bar', 'Там Ем'], columns = ['Monday', 'Wednesday', 'Friday'])\n",
    "iskra_tam['Monday'].iloc[0] = weekday_rest(bo_data, 'Monday', 'Iskra Bar')\n",
    "iskra_tam['Monday'].iloc[1] = weekday_rest(bo_data, 'Monday', 'Там Ем')\n",
    "iskra_tam['Wednesday'].iloc[0] = weekday_rest(bo_data, 'Wednesday', 'Iskra Bar')\n",
    "iskra_tam['Wednesday'].iloc[1] = weekday_rest(bo_data, 'Wednesday', 'Там Ем')\n",
    "iskra_tam['Friday'].iloc[0] = weekday_rest(bo_data, 'Friday', 'Iskra Bar')\n",
    "iskra_tam['Friday'].iloc[1] = weekday_rest(bo_data, 'Friday', 'Там Ем')'''"
   ]
  },
  {
   "cell_type": "code",
   "execution_count": 42,
   "metadata": {},
   "outputs": [],
   "source": [
    "days = ['Monday', 'Wednesday', 'Friday']\n",
    "places = ['Iskra Bar', 'Там Ем']\n",
    "iskra_tam = pd.DataFrame(index = ['Iskra Bar', 'Там Ем'], columns = ['Monday', 'Wednesday', 'Friday'])\n",
    "\n",
    "def rest_place():\n",
    "    for i in range(len(days)):\n",
    "        if i == 0:\n",
    "            iskra_tam[days[i]].iloc[i] = weekday_rest(bo_data, days[i], places[i])\n",
    "            iskra_tam[days[i]].iloc[i+1] = weekday_rest(bo_data, days[i], places[i+1])\n",
    "        elif i == 1:\n",
    "            iskra_tam[days[i]].iloc[i-1] = weekday_rest(bo_data, days[i], places[i-1])\n",
    "            iskra_tam[days[i]].iloc[i] = weekday_rest(bo_data, days[i], places[i])\n",
    "        else:\n",
    "            iskra_tam[days[i]].iloc[i-2] = weekday_rest(bo_data, days[i], places[i-2])\n",
    "            iskra_tam[days[i]].iloc[i-1] = weekday_rest(bo_data, days[i], places[i-1])\n",
    "            \n",
    "rest_place()    "
   ]
  },
  {
   "cell_type": "code",
   "execution_count": 43,
   "metadata": {
    "scrolled": false
   },
   "outputs": [
    {
     "data": {
      "text/html": [
       "<div>\n",
       "<style scoped>\n",
       "    .dataframe tbody tr th:only-of-type {\n",
       "        vertical-align: middle;\n",
       "    }\n",
       "\n",
       "    .dataframe tbody tr th {\n",
       "        vertical-align: top;\n",
       "    }\n",
       "\n",
       "    .dataframe thead th {\n",
       "        text-align: right;\n",
       "    }\n",
       "</style>\n",
       "<table border=\"1\" class=\"dataframe\">\n",
       "  <thead>\n",
       "    <tr style=\"text-align: right;\">\n",
       "      <th></th>\n",
       "      <th>Monday</th>\n",
       "      <th>Wednesday</th>\n",
       "      <th>Friday</th>\n",
       "    </tr>\n",
       "  </thead>\n",
       "  <tbody>\n",
       "    <tr>\n",
       "      <th>Iskra Bar</th>\n",
       "      <td>46</td>\n",
       "      <td>51</td>\n",
       "      <td>26</td>\n",
       "    </tr>\n",
       "    <tr>\n",
       "      <th>Там Ем</th>\n",
       "      <td>25</td>\n",
       "      <td>52</td>\n",
       "      <td>24</td>\n",
       "    </tr>\n",
       "  </tbody>\n",
       "</table>\n",
       "</div>"
      ],
      "text/plain": [
       "          Monday Wednesday Friday\n",
       "Iskra Bar     46        51     26\n",
       "Там Ем        25        52     24"
      ]
     },
     "execution_count": 43,
     "metadata": {},
     "output_type": "execute_result"
    }
   ],
   "source": [
    "iskra_tam"
   ]
  },
  {
   "cell_type": "markdown",
   "metadata": {},
   "source": [
    "<h3><font color=\"#89DD00\">Комментарий ассистента 2</font></h3>\n",
    "\n",
    "Хорошо, что оптимизируешь код и используешь функцию и цикл!"
   ]
  },
  {
   "cell_type": "markdown",
   "metadata": {},
   "source": [
    "<h3><font color=\"#FFB800\">Комментарий ассистента</font></h3>\n",
    "\n",
    "Результат правильный, только сделай функцию с использованием логического условия. Мне важно понять, что ты освоил этот прием."
   ]
  },
  {
   "cell_type": "markdown",
   "metadata": {},
   "source": [
    "### Выводы"
   ]
  },
  {
   "cell_type": "markdown",
   "metadata": {},
   "source": [
    "* судя по всему, среда наиболее загруженный день в обоих местах\n",
    "* в целом Iskra Bar загружена больше, чем Там Ем\n",
    "* больше всего заказов приходится на Iskra Bar\n",
    "* самый загруженный день среди всех ресторанов вторник"
   ]
  },
  {
   "cell_type": "markdown",
   "metadata": {},
   "source": [
    "## Распределение заказов в течение дня"
   ]
  },
  {
   "cell_type": "markdown",
   "metadata": {},
   "source": [
    "Сравним количества заказов, сделанных в обеденное и вечернее время — с 12 до 16 и с 16 до 22. Для этого объявим функцию, которая принимает данные и 2 аргумента времени."
   ]
  },
  {
   "cell_type": "code",
   "execution_count": 23,
   "metadata": {},
   "outputs": [],
   "source": [
    "def time(df, von, bis):\n",
    "    return df['restaurant'][(df['ordered_time'] >= von) & (df['ordered_time'] < bis)].count()   "
   ]
  },
  {
   "cell_type": "code",
   "execution_count": 24,
   "metadata": {},
   "outputs": [
    {
     "data": {
      "text/plain": [
       "543"
      ]
     },
     "execution_count": 24,
     "metadata": {},
     "output_type": "execute_result"
    }
   ],
   "source": [
    "time(bo_data, '12:00', '16:00') #543"
   ]
  },
  {
   "cell_type": "markdown",
   "metadata": {},
   "source": [
    "Передадим промежуток с 12:00 и 16:00"
   ]
  },
  {
   "cell_type": "code",
   "execution_count": 25,
   "metadata": {
    "scrolled": true
   },
   "outputs": [
    {
     "data": {
      "text/plain": [
       "543"
      ]
     },
     "execution_count": 25,
     "metadata": {},
     "output_type": "execute_result"
    }
   ],
   "source": [
    "#вручную посчитал на всякий\n",
    "bo_data['restaurant'].groupby(bo_data['ordered_time']).count()[4:12].sum()"
   ]
  },
  {
   "cell_type": "markdown",
   "metadata": {},
   "source": [
    "<h3><font color=\"#89DD00\">Комментарий ассистента 2</font></h3>\n",
    "\n",
    "Найс"
   ]
  },
  {
   "cell_type": "markdown",
   "metadata": {},
   "source": [
    "<h3><font color=\"#FF0F00\">Комментарий ассистента</font></h3>\n",
    "\n",
    "А зачем? Ты хорошую функцию написал, ее и проверяй. Единственное, заказ, сделанный в 16:00 — уже к вечернему времени относится, его нельзя учитывать. С 12 до 16 у тебя должно 543 заказа получится. "
   ]
  },
  {
   "cell_type": "markdown",
   "metadata": {},
   "source": [
    "И с 16:00 до 22:00"
   ]
  },
  {
   "cell_type": "code",
   "execution_count": 26,
   "metadata": {
    "scrolled": false
   },
   "outputs": [
    {
     "data": {
      "text/plain": [
       "338"
      ]
     },
     "execution_count": 26,
     "metadata": {},
     "output_type": "execute_result"
    }
   ],
   "source": [
    "time(bo_data, '16:00', '22:00') #338"
   ]
  },
  {
   "cell_type": "markdown",
   "metadata": {},
   "source": [
    "### Выводы"
   ]
  },
  {
   "cell_type": "markdown",
   "metadata": {},
   "source": [
    "* с 12:00 до 16:00 заказов больше, чем с 16:00 до 22:00\n"
   ]
  },
  {
   "cell_type": "markdown",
   "metadata": {},
   "source": [
    "<h3><font color=\"#89DD00\">Комментарий ассистента</font></h3>\n",
    "\n",
    "В обеденное время бронируется больше столиков, все верно. Это от нас и просили узнать."
   ]
  },
  {
   "cell_type": "markdown",
   "metadata": {},
   "source": [
    "## Типичное количество человек за столиком"
   ]
  },
  {
   "cell_type": "markdown",
   "metadata": {},
   "source": [
    "Выясним, для какого количества человек обычно заказывают столик в разное время на примере Iskra Bar и Там Ем. Для этого напишем функцию, которая принимает данные, название ресторана, 2 времени и считает моду."
   ]
  },
  {
   "cell_type": "code",
   "execution_count": 27,
   "metadata": {},
   "outputs": [],
   "source": [
    "def time_guests(df, place, von, bis):\n",
    "    return df[(df['restaurant'] == place) & ((df['ordered_time'] >= von) & (df['ordered_time'] <= bis))]['num_of_guests'].mode()"
   ]
  },
  {
   "cell_type": "markdown",
   "metadata": {},
   "source": [
    "Проверим функцию на двух ресторанах, а также дневном и вечернем промежутке времени."
   ]
  },
  {
   "cell_type": "code",
   "execution_count": 28,
   "metadata": {},
   "outputs": [
    {
     "data": {
      "text/plain": [
       "0    1\n",
       "dtype: int64"
      ]
     },
     "execution_count": 28,
     "metadata": {},
     "output_type": "execute_result"
    }
   ],
   "source": [
    "time_guests(bo_data, 'Iskra Bar', '20:00', '23:00')"
   ]
  },
  {
   "cell_type": "code",
   "execution_count": 29,
   "metadata": {},
   "outputs": [
    {
     "data": {
      "text/plain": [
       "0    2\n",
       "dtype: int64"
      ]
     },
     "execution_count": 29,
     "metadata": {},
     "output_type": "execute_result"
    }
   ],
   "source": [
    "time_guests(bo_data, 'Iskra Bar', '10:00', '16:00')"
   ]
  },
  {
   "cell_type": "code",
   "execution_count": 30,
   "metadata": {},
   "outputs": [
    {
     "data": {
      "text/plain": [
       "0    2\n",
       "dtype: int64"
      ]
     },
     "execution_count": 30,
     "metadata": {},
     "output_type": "execute_result"
    }
   ],
   "source": [
    "time_guests(bo_data, 'Там Ем', '20:00', '23:00')"
   ]
  },
  {
   "cell_type": "code",
   "execution_count": 31,
   "metadata": {
    "scrolled": false
   },
   "outputs": [
    {
     "data": {
      "text/plain": [
       "0    2\n",
       "dtype: int64"
      ]
     },
     "execution_count": 31,
     "metadata": {},
     "output_type": "execute_result"
    }
   ],
   "source": [
    "time_guests(bo_data, 'Там Ем', '10:00', '16:00')"
   ]
  },
  {
   "cell_type": "markdown",
   "metadata": {},
   "source": [
    "<h3><font color=\"#89DD00\">Комментарий ассистента 2</font></h3>\n",
    "\n",
    "Супер. Видим, что вне зависимости от времени пользователи используют приложение для 1-2 человек."
   ]
  },
  {
   "cell_type": "markdown",
   "metadata": {},
   "source": [
    "<h3><font color=\"#FF0F00\">Комментарий ассистента</font></h3>\n",
    "\n",
    "1.64705 человека не делает смысла. В описании шага написано, что используем `mode()`, а ты в итоге `mean()` берешь. Тут бы я поправил."
   ]
  },
  {
   "cell_type": "markdown",
   "metadata": {},
   "source": [
    "---- Это был один из тех моментов, которые я не понял до конца ----"
   ]
  },
  {
   "cell_type": "markdown",
   "metadata": {},
   "source": [
    "### Выводы"
   ]
  },
  {
   "cell_type": "markdown",
   "metadata": {},
   "source": [
    "* вечером рестораны загружены меньше, чем в первой половине дня\n",
    "* Там Ем утром загружен больше чем Iskra Bar\n",
    "* меньше всего людей в среднем в Iskra Bar вечером"
   ]
  },
  {
   "cell_type": "markdown",
   "metadata": {},
   "source": [
    "## Общие выводы"
   ]
  },
  {
   "cell_type": "markdown",
   "metadata": {},
   "source": [
    "На какие кафе приходится больше всего заказов? А на какие дни?\n",
    "* больше всего заказов приходится на кафе Там Ем и Iskra Bar\n",
    "* чаще всего люди заказывают там еду во вторник, среду и четверг\n",
    "\n",
    "Чаще ли приложением пользуются именно в обеденное время?\n",
    "* Да\n",
    "\n",
    "Насколько большими компаниями  (или наоборот поодиночке) приходят в кафе?\n",
    "* В целом люди приходят либо небольшими компаниями (2-3 человека), либо чаще всего по одиночке"
   ]
  },
  {
   "cell_type": "markdown",
   "metadata": {},
   "source": [
    "<h3><font color=\"#89DD00\">Комментарий ассистента</font></h3>\n",
    "\n",
    "Ты ответил на все вопросы правильно, отлично. Осталось доработать код в некоторых местах."
   ]
  }
 ],
 "metadata": {
  "colab": {
   "collapsed_sections": [],
   "name": "Копия блокнота \"notebook_03_username.ipynb\"",
   "provenance": [],
   "toc_visible": true
  },
  "kernelspec": {
   "display_name": "Python 3",
   "language": "python",
   "name": "python3"
  },
  "language_info": {
   "codemirror_mode": {
    "name": "ipython",
    "version": 3
   },
   "file_extension": ".py",
   "mimetype": "text/x-python",
   "name": "python",
   "nbconvert_exporter": "python",
   "pygments_lexer": "ipython3",
   "version": "3.8.3"
  }
 },
 "nbformat": 4,
 "nbformat_minor": 1
}

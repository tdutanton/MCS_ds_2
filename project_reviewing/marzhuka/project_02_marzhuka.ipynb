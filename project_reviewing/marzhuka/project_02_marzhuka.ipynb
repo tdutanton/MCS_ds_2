{
 "cells": [
  {
   "cell_type": "markdown",
   "metadata": {},
   "source": [
    "<p><img src=\"https://files.cdn.thinkific.com/file_uploads/133292/images/a9e/c1a/bc3/P02.jpg\"></p>"
   ]
  },
  {
   "cell_type": "markdown",
   "metadata": {
    "id": "e5Vts0g2oUvy"
   },
   "source": [
    "`MCSDSC02P01V3______`\n",
    "\n",
    "`MCSDSC02P01V2______`\n",
    "\n",
    "`MCSDSELIMC02P01V1010621`"
   ]
  },
  {
   "cell_type": "markdown",
   "metadata": {},
   "source": [
    "<h3><font color=\"#89DD00\">Комментарий ассистента</font></h3>\n",
    "\n",
    "Отлично! Проект принят с первого раза!\n",
    "Оставил несколько комментариев ниже."
   ]
  },
  {
   "cell_type": "markdown",
   "metadata": {},
   "source": [
    "## Постановка задачи"
   ]
  },
  {
   "cell_type": "markdown",
   "metadata": {},
   "source": [
    "Необходимо проанализировать данные сервиса предоставленного менеджером проекта. Данные предоставленые для опреденной территории и включает в себя некоторые данные по работе объектов находящихся на этой территории. \n",
    "\n",
    "*Пославленные задачи для анализа:*\n",
    ">* На какие кафе приходится больше всего заказов? А на какие дни?\n",
    ">* Чаще ли приложением пользуются именно в обеденное время?\n",
    ">* Насколько большими компаниями  (или наоборот поодиночке) приходят в кафе?"
   ]
  },
  {
   "cell_type": "markdown",
   "metadata": {},
   "source": [
    "## Импорт данных и библиотек"
   ]
  },
  {
   "cell_type": "code",
   "execution_count": 191,
   "metadata": {},
   "outputs": [],
   "source": [
    "import pandas as pd"
   ]
  },
  {
   "cell_type": "markdown",
   "metadata": {},
   "source": [
    "Прочитаем файл `bez_ocheredi.csv` и сохраним его в переменную `bo_data`."
   ]
  },
  {
   "cell_type": "code",
   "execution_count": 219,
   "metadata": {},
   "outputs": [],
   "source": [
    "bo_data = pd.read_csv(\"../../data/bez_ocheredi.csv\")"
   ]
  },
  {
   "cell_type": "markdown",
   "metadata": {},
   "source": [
    "Получим первые 10 строк таблицы."
   ]
  },
  {
   "cell_type": "code",
   "execution_count": 220,
   "metadata": {
    "scrolled": true
   },
   "outputs": [
    {
     "data": {
      "text/html": [
       "<div>\n",
       "<style scoped>\n",
       "    .dataframe tbody tr th:only-of-type {\n",
       "        vertical-align: middle;\n",
       "    }\n",
       "\n",
       "    .dataframe tbody tr th {\n",
       "        vertical-align: top;\n",
       "    }\n",
       "\n",
       "    .dataframe thead th {\n",
       "        text-align: right;\n",
       "    }\n",
       "</style>\n",
       "<table border=\"1\" class=\"dataframe\">\n",
       "  <thead>\n",
       "    <tr style=\"text-align: right;\">\n",
       "      <th></th>\n",
       "      <th>userID</th>\n",
       "      <th>ресторан</th>\n",
       "      <th>weekday</th>\n",
       "      <th>ordered</th>\n",
       "      <th>Столик для</th>\n",
       "    </tr>\n",
       "  </thead>\n",
       "  <tbody>\n",
       "    <tr>\n",
       "      <th>0</th>\n",
       "      <td>b912c3c6a6ad</td>\n",
       "      <td>Iskra Bar</td>\n",
       "      <td>Monday</td>\n",
       "      <td>10:00</td>\n",
       "      <td>1</td>\n",
       "    </tr>\n",
       "    <tr>\n",
       "      <th>1</th>\n",
       "      <td>2dac0150717d</td>\n",
       "      <td>Iskra Bar</td>\n",
       "      <td>Monday</td>\n",
       "      <td>13:30</td>\n",
       "      <td>2</td>\n",
       "    </tr>\n",
       "    <tr>\n",
       "      <th>2</th>\n",
       "      <td>ba83aefab5dc</td>\n",
       "      <td>Iskra Bar</td>\n",
       "      <td>Tuesday</td>\n",
       "      <td>12:30</td>\n",
       "      <td>3</td>\n",
       "    </tr>\n",
       "    <tr>\n",
       "      <th>3</th>\n",
       "      <td>02996f1dd2ea</td>\n",
       "      <td>Iskra Bar</td>\n",
       "      <td>Wednesday</td>\n",
       "      <td>12:00</td>\n",
       "      <td>2</td>\n",
       "    </tr>\n",
       "    <tr>\n",
       "      <th>4</th>\n",
       "      <td>7c90be56d2ab</td>\n",
       "      <td>Iskra Bar</td>\n",
       "      <td>Thursday</td>\n",
       "      <td>14:30</td>\n",
       "      <td>3</td>\n",
       "    </tr>\n",
       "    <tr>\n",
       "      <th>5</th>\n",
       "      <td>51e0962387f7</td>\n",
       "      <td>Там Ем</td>\n",
       "      <td>Friday</td>\n",
       "      <td>12:30</td>\n",
       "      <td>2</td>\n",
       "    </tr>\n",
       "    <tr>\n",
       "      <th>6</th>\n",
       "      <td>c4f260a2b48a</td>\n",
       "      <td>NaN</td>\n",
       "      <td>Saturday</td>\n",
       "      <td>15:00</td>\n",
       "      <td>6</td>\n",
       "    </tr>\n",
       "    <tr>\n",
       "      <th>7</th>\n",
       "      <td>6b71309d6a8a</td>\n",
       "      <td>Крафтейнер</td>\n",
       "      <td>Monday</td>\n",
       "      <td>10:30</td>\n",
       "      <td>1</td>\n",
       "    </tr>\n",
       "    <tr>\n",
       "      <th>8</th>\n",
       "      <td>c5b969cb63a2</td>\n",
       "      <td>Бар Сибирь</td>\n",
       "      <td>Wednesday</td>\n",
       "      <td>15:30</td>\n",
       "      <td>2</td>\n",
       "    </tr>\n",
       "    <tr>\n",
       "      <th>9</th>\n",
       "      <td>b1570962e68c</td>\n",
       "      <td>Бар Сибирь</td>\n",
       "      <td>Wednesday</td>\n",
       "      <td>12:30</td>\n",
       "      <td>3</td>\n",
       "    </tr>\n",
       "  </tbody>\n",
       "</table>\n",
       "</div>"
      ],
      "text/plain": [
       "        userID    ресторан     weekday  ordered    Столик для \n",
       "0  b912c3c6a6ad   Iskra Bar     Monday     10:00             1\n",
       "1  2dac0150717d   Iskra Bar     Monday     13:30             2\n",
       "2  ba83aefab5dc   Iskra Bar    Tuesday     12:30             3\n",
       "3  02996f1dd2ea   Iskra Bar  Wednesday     12:00             2\n",
       "4  7c90be56d2ab   Iskra Bar   Thursday     14:30             3\n",
       "5  51e0962387f7      Там Ем     Friday     12:30             2\n",
       "6  c4f260a2b48a         NaN   Saturday     15:00             6\n",
       "7  6b71309d6a8a  Крафтейнер     Monday     10:30             1\n",
       "8  c5b969cb63a2  Бар Сибирь  Wednesday     15:30             2\n",
       "9  b1570962e68c  Бар Сибирь  Wednesday     12:30             3"
      ]
     },
     "execution_count": 220,
     "metadata": {},
     "output_type": "execute_result"
    }
   ],
   "source": [
    "bo_data.head(10)"
   ]
  },
  {
   "cell_type": "markdown",
   "metadata": {},
   "source": [
    "Получим общую информацию о данных из таблицы."
   ]
  },
  {
   "cell_type": "code",
   "execution_count": 196,
   "metadata": {
    "scrolled": false
   },
   "outputs": [
    {
     "name": "stdout",
     "output_type": "stream",
     "text": [
      "<class 'pandas.core.frame.DataFrame'>\n",
      "RangeIndex: 1024 entries, 0 to 1023\n",
      "Data columns (total 5 columns):\n",
      " #   Column        Non-Null Count  Dtype \n",
      "---  ------        --------------  ----- \n",
      " 0   userID        1024 non-null   object\n",
      " 1    ресторан     959 non-null    object\n",
      " 2    weekday      1024 non-null   object\n",
      " 3    ordered      1024 non-null   object\n",
      " 4    Столик для   1024 non-null   int64 \n",
      "dtypes: int64(1), object(4)\n",
      "memory usage: 40.1+ KB\n"
     ]
    }
   ],
   "source": [
    "bo_data.info()"
   ]
  },
  {
   "cell_type": "markdown",
   "metadata": {},
   "source": [
    "Столбцы в `bo_data` содержат следующую информацию:\n",
    "\n",
    "* userId - id пользователя \n",
    "* ресторан - название ресторана в котором был сделан заказ\n",
    "* weekday - день недели в котором был сделан заказ\n",
    "* ordered - время создание заказа\n",
    "* столик для - количество мест за столиком на который был сделан заказ"
   ]
  },
  {
   "cell_type": "markdown",
   "metadata": {},
   "source": [
    "### Выводы"
   ]
  },
  {
   "cell_type": "markdown",
   "metadata": {},
   "source": [
    "* Таблица с данными состоит из 5 (4 не нулевых столбца типа object и 1 ненулевой столбец типа int64) столбцов и 1024 строк\n",
    "* Некоторые строки содержат пропуски типа NaN\n",
    "* Название колонок не однородные: имеют пробелы, некоторые колонки написаны на русском языке."
   ]
  },
  {
   "cell_type": "markdown",
   "metadata": {},
   "source": [
    "<h3><font color=\"#89DD00\">Комментарий ассистента</font></h3>\n",
    "\n",
    "Всё верно!"
   ]
  },
  {
   "cell_type": "markdown",
   "metadata": {},
   "source": [
    "## Предобработка данных"
   ]
  },
  {
   "cell_type": "markdown",
   "metadata": {},
   "source": [
    "Получим названия столбцов."
   ]
  },
  {
   "cell_type": "code",
   "execution_count": 222,
   "metadata": {
    "scrolled": false
   },
   "outputs": [
    {
     "data": {
      "text/plain": [
       "Index(['userID ', ' ресторан ', ' weekday', ' ordered ', ' Столик для '], dtype='object')"
      ]
     },
     "execution_count": 222,
     "metadata": {},
     "output_type": "execute_result"
    }
   ],
   "source": [
    "bo_data.columns"
   ]
  },
  {
   "cell_type": "markdown",
   "metadata": {},
   "source": [
    "Обращаем внимание, что помимо названий на разном языке, в них есть пробелы, которые затрудняют доступ к данным. Переименуем столбцы и проверим результат."
   ]
  },
  {
   "cell_type": "code",
   "execution_count": 223,
   "metadata": {},
   "outputs": [
    {
     "data": {
      "text/html": [
       "<div>\n",
       "<style scoped>\n",
       "    .dataframe tbody tr th:only-of-type {\n",
       "        vertical-align: middle;\n",
       "    }\n",
       "\n",
       "    .dataframe tbody tr th {\n",
       "        vertical-align: top;\n",
       "    }\n",
       "\n",
       "    .dataframe thead th {\n",
       "        text-align: right;\n",
       "    }\n",
       "</style>\n",
       "<table border=\"1\" class=\"dataframe\">\n",
       "  <thead>\n",
       "    <tr style=\"text-align: right;\">\n",
       "      <th></th>\n",
       "      <th>user_id</th>\n",
       "      <th>restaurant</th>\n",
       "      <th>weekday</th>\n",
       "      <th>ordered_time</th>\n",
       "      <th>seats_number</th>\n",
       "    </tr>\n",
       "  </thead>\n",
       "  <tbody>\n",
       "    <tr>\n",
       "      <th>0</th>\n",
       "      <td>b912c3c6a6ad</td>\n",
       "      <td>Iskra Bar</td>\n",
       "      <td>Monday</td>\n",
       "      <td>10:00</td>\n",
       "      <td>1</td>\n",
       "    </tr>\n",
       "    <tr>\n",
       "      <th>1</th>\n",
       "      <td>2dac0150717d</td>\n",
       "      <td>Iskra Bar</td>\n",
       "      <td>Monday</td>\n",
       "      <td>13:30</td>\n",
       "      <td>2</td>\n",
       "    </tr>\n",
       "    <tr>\n",
       "      <th>2</th>\n",
       "      <td>ba83aefab5dc</td>\n",
       "      <td>Iskra Bar</td>\n",
       "      <td>Tuesday</td>\n",
       "      <td>12:30</td>\n",
       "      <td>3</td>\n",
       "    </tr>\n",
       "    <tr>\n",
       "      <th>3</th>\n",
       "      <td>02996f1dd2ea</td>\n",
       "      <td>Iskra Bar</td>\n",
       "      <td>Wednesday</td>\n",
       "      <td>12:00</td>\n",
       "      <td>2</td>\n",
       "    </tr>\n",
       "    <tr>\n",
       "      <th>4</th>\n",
       "      <td>7c90be56d2ab</td>\n",
       "      <td>Iskra Bar</td>\n",
       "      <td>Thursday</td>\n",
       "      <td>14:30</td>\n",
       "      <td>3</td>\n",
       "    </tr>\n",
       "    <tr>\n",
       "      <th>...</th>\n",
       "      <td>...</td>\n",
       "      <td>...</td>\n",
       "      <td>...</td>\n",
       "      <td>...</td>\n",
       "      <td>...</td>\n",
       "    </tr>\n",
       "    <tr>\n",
       "      <th>1019</th>\n",
       "      <td>4b136de2c16a</td>\n",
       "      <td>Iskra Bar</td>\n",
       "      <td>Saturday</td>\n",
       "      <td>11:30</td>\n",
       "      <td>2</td>\n",
       "    </tr>\n",
       "    <tr>\n",
       "      <th>1020</th>\n",
       "      <td>9e46b91cc547</td>\n",
       "      <td>Бар Сибирь</td>\n",
       "      <td>Thursday</td>\n",
       "      <td>10:00</td>\n",
       "      <td>2</td>\n",
       "    </tr>\n",
       "    <tr>\n",
       "      <th>1021</th>\n",
       "      <td>5ca79042c44d</td>\n",
       "      <td>Там Ем</td>\n",
       "      <td>Thursday</td>\n",
       "      <td>14:00</td>\n",
       "      <td>3</td>\n",
       "    </tr>\n",
       "    <tr>\n",
       "      <th>1022</th>\n",
       "      <td>e0f9dfd1726c</td>\n",
       "      <td>Там Ем</td>\n",
       "      <td>Tuesday</td>\n",
       "      <td>17:30</td>\n",
       "      <td>1</td>\n",
       "    </tr>\n",
       "    <tr>\n",
       "      <th>1023</th>\n",
       "      <td>401d5fa8e55d</td>\n",
       "      <td>Там Ем</td>\n",
       "      <td>Wednesday</td>\n",
       "      <td>20:30</td>\n",
       "      <td>1</td>\n",
       "    </tr>\n",
       "  </tbody>\n",
       "</table>\n",
       "<p>1024 rows × 5 columns</p>\n",
       "</div>"
      ],
      "text/plain": [
       "           user_id  restaurant    weekday ordered_time  seats_number\n",
       "0     b912c3c6a6ad   Iskra Bar     Monday        10:00             1\n",
       "1     2dac0150717d   Iskra Bar     Monday        13:30             2\n",
       "2     ba83aefab5dc   Iskra Bar    Tuesday        12:30             3\n",
       "3     02996f1dd2ea   Iskra Bar  Wednesday        12:00             2\n",
       "4     7c90be56d2ab   Iskra Bar   Thursday        14:30             3\n",
       "...            ...         ...        ...          ...           ...\n",
       "1019  4b136de2c16a   Iskra Bar   Saturday        11:30             2\n",
       "1020  9e46b91cc547  Бар Сибирь   Thursday        10:00             2\n",
       "1021  5ca79042c44d      Там Ем   Thursday        14:00             3\n",
       "1022  e0f9dfd1726c      Там Ем    Tuesday        17:30             1\n",
       "1023  401d5fa8e55d      Там Ем  Wednesday        20:30             1\n",
       "\n",
       "[1024 rows x 5 columns]"
      ]
     },
     "execution_count": 223,
     "metadata": {},
     "output_type": "execute_result"
    }
   ],
   "source": [
    "bo_data.set_axis(['user_id','restaurant','weekday','ordered_time','seats_number'],axis='columns',inplace=True)\n",
    "bo_data"
   ]
  },
  {
   "cell_type": "markdown",
   "metadata": {},
   "source": [
    "Еще раз проверим данные на наличие пропусков, просуммировав их."
   ]
  },
  {
   "cell_type": "code",
   "execution_count": 224,
   "metadata": {
    "scrolled": false
   },
   "outputs": [
    {
     "data": {
      "text/plain": [
       "user_id          0\n",
       "restaurant      65\n",
       "weekday          0\n",
       "ordered_time     0\n",
       "seats_number     0\n",
       "dtype: int64"
      ]
     },
     "execution_count": 224,
     "metadata": {},
     "output_type": "execute_result"
    }
   ],
   "source": [
    "bo_data.isnull().sum()"
   ]
  },
  {
   "cell_type": "markdown",
   "metadata": {},
   "source": [
    "Менеджер проекта предупреждал, что некоторые заказы заводились на тестовую карточку кафе без названия, поэтому есть смысл заполнить такой пропуск словом admin."
   ]
  },
  {
   "cell_type": "code",
   "execution_count": 225,
   "metadata": {},
   "outputs": [],
   "source": [
    "bo_data.fillna('admin', inplace=True)"
   ]
  },
  {
   "cell_type": "markdown",
   "metadata": {},
   "source": [
    "Проверяем, что пропусков не осталось."
   ]
  },
  {
   "cell_type": "code",
   "execution_count": 226,
   "metadata": {
    "scrolled": false
   },
   "outputs": [
    {
     "data": {
      "text/plain": [
       "user_id         0\n",
       "restaurant      0\n",
       "weekday         0\n",
       "ordered_time    0\n",
       "seats_number    0\n",
       "dtype: int64"
      ]
     },
     "execution_count": 226,
     "metadata": {},
     "output_type": "execute_result"
    }
   ],
   "source": [
    "bo_data.isna().sum()"
   ]
  },
  {
   "cell_type": "markdown",
   "metadata": {},
   "source": [
    "Установим количество явных дубликатов. Если найдутся, то удалим и снова проверим, что их не осталось."
   ]
  },
  {
   "cell_type": "code",
   "execution_count": 234,
   "metadata": {
    "scrolled": true
   },
   "outputs": [
    {
     "data": {
      "text/plain": [
       "24"
      ]
     },
     "execution_count": 234,
     "metadata": {},
     "output_type": "execute_result"
    }
   ],
   "source": [
    "bo_data.duplicated().sum()"
   ]
  },
  {
   "cell_type": "code",
   "execution_count": 235,
   "metadata": {},
   "outputs": [
    {
     "data": {
      "text/html": [
       "<div>\n",
       "<style scoped>\n",
       "    .dataframe tbody tr th:only-of-type {\n",
       "        vertical-align: middle;\n",
       "    }\n",
       "\n",
       "    .dataframe tbody tr th {\n",
       "        vertical-align: top;\n",
       "    }\n",
       "\n",
       "    .dataframe thead th {\n",
       "        text-align: right;\n",
       "    }\n",
       "</style>\n",
       "<table border=\"1\" class=\"dataframe\">\n",
       "  <thead>\n",
       "    <tr style=\"text-align: right;\">\n",
       "      <th></th>\n",
       "      <th>user_id</th>\n",
       "      <th>restaurant</th>\n",
       "      <th>weekday</th>\n",
       "      <th>ordered_time</th>\n",
       "      <th>seats_number</th>\n",
       "    </tr>\n",
       "  </thead>\n",
       "  <tbody>\n",
       "    <tr>\n",
       "      <th>0</th>\n",
       "      <td>b912c3c6a6ad</td>\n",
       "      <td>Iskra Bar</td>\n",
       "      <td>Monday</td>\n",
       "      <td>10:00</td>\n",
       "      <td>1</td>\n",
       "    </tr>\n",
       "    <tr>\n",
       "      <th>1</th>\n",
       "      <td>2dac0150717d</td>\n",
       "      <td>Iskra Bar</td>\n",
       "      <td>Monday</td>\n",
       "      <td>13:30</td>\n",
       "      <td>2</td>\n",
       "    </tr>\n",
       "    <tr>\n",
       "      <th>2</th>\n",
       "      <td>ba83aefab5dc</td>\n",
       "      <td>Iskra Bar</td>\n",
       "      <td>Tuesday</td>\n",
       "      <td>12:30</td>\n",
       "      <td>3</td>\n",
       "    </tr>\n",
       "    <tr>\n",
       "      <th>3</th>\n",
       "      <td>02996f1dd2ea</td>\n",
       "      <td>Iskra Bar</td>\n",
       "      <td>Wednesday</td>\n",
       "      <td>12:00</td>\n",
       "      <td>2</td>\n",
       "    </tr>\n",
       "    <tr>\n",
       "      <th>4</th>\n",
       "      <td>7c90be56d2ab</td>\n",
       "      <td>Iskra Bar</td>\n",
       "      <td>Thursday</td>\n",
       "      <td>14:30</td>\n",
       "      <td>3</td>\n",
       "    </tr>\n",
       "    <tr>\n",
       "      <th>...</th>\n",
       "      <td>...</td>\n",
       "      <td>...</td>\n",
       "      <td>...</td>\n",
       "      <td>...</td>\n",
       "      <td>...</td>\n",
       "    </tr>\n",
       "    <tr>\n",
       "      <th>995</th>\n",
       "      <td>4b136de2c16a</td>\n",
       "      <td>Iskra Bar</td>\n",
       "      <td>Saturday</td>\n",
       "      <td>11:30</td>\n",
       "      <td>2</td>\n",
       "    </tr>\n",
       "    <tr>\n",
       "      <th>996</th>\n",
       "      <td>9e46b91cc547</td>\n",
       "      <td>Бар Сибирь</td>\n",
       "      <td>Thursday</td>\n",
       "      <td>10:00</td>\n",
       "      <td>2</td>\n",
       "    </tr>\n",
       "    <tr>\n",
       "      <th>997</th>\n",
       "      <td>5ca79042c44d</td>\n",
       "      <td>Там Ем</td>\n",
       "      <td>Thursday</td>\n",
       "      <td>14:00</td>\n",
       "      <td>3</td>\n",
       "    </tr>\n",
       "    <tr>\n",
       "      <th>998</th>\n",
       "      <td>e0f9dfd1726c</td>\n",
       "      <td>Там Ем</td>\n",
       "      <td>Tuesday</td>\n",
       "      <td>17:30</td>\n",
       "      <td>1</td>\n",
       "    </tr>\n",
       "    <tr>\n",
       "      <th>999</th>\n",
       "      <td>401d5fa8e55d</td>\n",
       "      <td>Там Ем</td>\n",
       "      <td>Wednesday</td>\n",
       "      <td>20:30</td>\n",
       "      <td>1</td>\n",
       "    </tr>\n",
       "  </tbody>\n",
       "</table>\n",
       "<p>1000 rows × 5 columns</p>\n",
       "</div>"
      ],
      "text/plain": [
       "          user_id  restaurant    weekday ordered_time  seats_number\n",
       "0    b912c3c6a6ad   Iskra Bar     Monday        10:00             1\n",
       "1    2dac0150717d   Iskra Bar     Monday        13:30             2\n",
       "2    ba83aefab5dc   Iskra Bar    Tuesday        12:30             3\n",
       "3    02996f1dd2ea   Iskra Bar  Wednesday        12:00             2\n",
       "4    7c90be56d2ab   Iskra Bar   Thursday        14:30             3\n",
       "..            ...         ...        ...          ...           ...\n",
       "995  4b136de2c16a   Iskra Bar   Saturday        11:30             2\n",
       "996  9e46b91cc547  Бар Сибирь   Thursday        10:00             2\n",
       "997  5ca79042c44d      Там Ем   Thursday        14:00             3\n",
       "998  e0f9dfd1726c      Там Ем    Tuesday        17:30             1\n",
       "999  401d5fa8e55d      Там Ем  Wednesday        20:30             1\n",
       "\n",
       "[1000 rows x 5 columns]"
      ]
     },
     "execution_count": 235,
     "metadata": {},
     "output_type": "execute_result"
    }
   ],
   "source": [
    "bo_data.drop_duplicates(inplace=True)\n",
    "bo_data.reset_index(drop=True)"
   ]
  },
  {
   "cell_type": "code",
   "execution_count": 243,
   "metadata": {
    "scrolled": false
   },
   "outputs": [
    {
     "data": {
      "text/plain": [
       "0"
      ]
     },
     "execution_count": 243,
     "metadata": {},
     "output_type": "execute_result"
    }
   ],
   "source": [
    "bo_data.duplicated().sum()"
   ]
  },
  {
   "cell_type": "markdown",
   "metadata": {},
   "source": [
    "Скорее всего, такие полные дубликаты говорят о сбое при выгрузке данных. Необходимо сообщить об этом."
   ]
  },
  {
   "cell_type": "markdown",
   "metadata": {},
   "source": [
    "Еще одна проблема, о которой предупреждал менеджер проекта — дубликаты карточки Iskra Bar с неправильными названием бара - \"Искра\" и \"Искр\". На них заводились реальные заказы, поэтому необходимо вычислить их и переименовать на правильное название — Iskra Bar.\n",
    "\n",
    "Объявим функцию `replace_restaurant()`, которая заменяет неправильное название, а потом проверяет успешность выполнения замены подсчетом (если замена прошла успешно — результат подсчета должен быть 0)."
   ]
  },
  {
   "cell_type": "code",
   "execution_count": 237,
   "metadata": {},
   "outputs": [],
   "source": [
    "def replace_restaurant(data, name, replace_name):\n",
    "    data.replace(name, replace_name, inplace=True)\n",
    "    return data[data['restaurant']==name]['restaurant'].count()"
   ]
  },
  {
   "cell_type": "markdown",
   "metadata": {},
   "source": [
    "Передаем функции названия 'Искра' и 'Искр'."
   ]
  },
  {
   "cell_type": "code",
   "execution_count": 241,
   "metadata": {},
   "outputs": [
    {
     "data": {
      "text/plain": [
       "0"
      ]
     },
     "execution_count": 241,
     "metadata": {},
     "output_type": "execute_result"
    }
   ],
   "source": [
    "replace_restaurant(bo_data, 'Искра', 'Iskra Bar')"
   ]
  },
  {
   "cell_type": "code",
   "execution_count": 242,
   "metadata": {},
   "outputs": [
    {
     "data": {
      "text/plain": [
       "0"
      ]
     },
     "execution_count": 242,
     "metadata": {},
     "output_type": "execute_result"
    }
   ],
   "source": [
    "replace_restaurant(bo_data, 'Искр', 'Iskra Bar')"
   ]
  },
  {
   "cell_type": "code",
   "execution_count": 244,
   "metadata": {},
   "outputs": [
    {
     "data": {
      "text/plain": [
       "0"
      ]
     },
     "execution_count": 244,
     "metadata": {},
     "output_type": "execute_result"
    }
   ],
   "source": [
    "# дополнительная проверка на дубликаты после замены некорректных названии\n",
    "bo_data.duplicated().sum()"
   ]
  },
  {
   "cell_type": "markdown",
   "metadata": {},
   "source": [
    "### Выводы"
   ]
  },
  {
   "cell_type": "markdown",
   "metadata": {},
   "source": [
    "* Название колонок содержат пробелы, что вызвало ошибку при обращении к ним.\n",
    "* Найдено 65 пропущенных значении типа NaN, Null\n",
    "* Найдено 24 полных дубликатов\n",
    "* Некоторые записи содержат некорректные данные, например, название того же ресторана записынный с ошибками, на кириллице, что может привести к появлению дублированных записей отличающими только названием ресторана.\n",
    "* После замены таких записей и проверки замены дополнительных дубликатов не найдено."
   ]
  },
  {
   "cell_type": "markdown",
   "metadata": {},
   "source": [
    "<h3><font color=\"#89DD00\">Комментарий ассистента</font></h3>\n",
    "\n",
    "Тут тоже все отлично)"
   ]
  },
  {
   "cell_type": "markdown",
   "metadata": {},
   "source": [
    "## Распределение заказов в течение недели"
   ]
  },
  {
   "cell_type": "markdown",
   "metadata": {},
   "source": [
    "Считаем, на какие кафе приходится больше всего заказов."
   ]
  },
  {
   "cell_type": "code",
   "execution_count": 245,
   "metadata": {
    "scrolled": false
   },
   "outputs": [
    {
     "data": {
      "text/html": [
       "<div>\n",
       "<style scoped>\n",
       "    .dataframe tbody tr th:only-of-type {\n",
       "        vertical-align: middle;\n",
       "    }\n",
       "\n",
       "    .dataframe tbody tr th {\n",
       "        vertical-align: top;\n",
       "    }\n",
       "\n",
       "    .dataframe thead th {\n",
       "        text-align: right;\n",
       "    }\n",
       "</style>\n",
       "<table border=\"1\" class=\"dataframe\">\n",
       "  <thead>\n",
       "    <tr style=\"text-align: right;\">\n",
       "      <th></th>\n",
       "      <th>user_id</th>\n",
       "      <th>weekday</th>\n",
       "      <th>ordered_time</th>\n",
       "      <th>seats_number</th>\n",
       "    </tr>\n",
       "    <tr>\n",
       "      <th>restaurant</th>\n",
       "      <th></th>\n",
       "      <th></th>\n",
       "      <th></th>\n",
       "      <th></th>\n",
       "    </tr>\n",
       "  </thead>\n",
       "  <tbody>\n",
       "    <tr>\n",
       "      <th>Iskra Bar</th>\n",
       "      <td>287</td>\n",
       "      <td>287</td>\n",
       "      <td>287</td>\n",
       "      <td>287</td>\n",
       "    </tr>\n",
       "    <tr>\n",
       "      <th>Там Ем</th>\n",
       "      <td>200</td>\n",
       "      <td>200</td>\n",
       "      <td>200</td>\n",
       "      <td>200</td>\n",
       "    </tr>\n",
       "    <tr>\n",
       "      <th>Бар Сибирь</th>\n",
       "      <td>159</td>\n",
       "      <td>159</td>\n",
       "      <td>159</td>\n",
       "      <td>159</td>\n",
       "    </tr>\n",
       "    <tr>\n",
       "      <th>Северия</th>\n",
       "      <td>107</td>\n",
       "      <td>107</td>\n",
       "      <td>107</td>\n",
       "      <td>107</td>\n",
       "    </tr>\n",
       "    <tr>\n",
       "      <th>Крафтейнер</th>\n",
       "      <td>78</td>\n",
       "      <td>78</td>\n",
       "      <td>78</td>\n",
       "      <td>78</td>\n",
       "    </tr>\n",
       "    <tr>\n",
       "      <th>Коворкафе</th>\n",
       "      <td>66</td>\n",
       "      <td>66</td>\n",
       "      <td>66</td>\n",
       "      <td>66</td>\n",
       "    </tr>\n",
       "    <tr>\n",
       "      <th>Азия</th>\n",
       "      <td>62</td>\n",
       "      <td>62</td>\n",
       "      <td>62</td>\n",
       "      <td>62</td>\n",
       "    </tr>\n",
       "    <tr>\n",
       "      <th>admin</th>\n",
       "      <td>41</td>\n",
       "      <td>41</td>\n",
       "      <td>41</td>\n",
       "      <td>41</td>\n",
       "    </tr>\n",
       "  </tbody>\n",
       "</table>\n",
       "</div>"
      ],
      "text/plain": [
       "            user_id  weekday  ordered_time  seats_number\n",
       "restaurant                                              \n",
       "Iskra Bar       287      287           287           287\n",
       "Там Ем          200      200           200           200\n",
       "Бар Сибирь      159      159           159           159\n",
       "Северия         107      107           107           107\n",
       "Крафтейнер       78       78            78            78\n",
       "Коворкафе        66       66            66            66\n",
       "Азия             62       62            62            62\n",
       "admin            41       41            41            41"
      ]
     },
     "execution_count": 245,
     "metadata": {},
     "output_type": "execute_result"
    }
   ],
   "source": [
    "bo_data.groupby('restaurant').count().sort_values(by='user_id', ascending=False)"
   ]
  },
  {
   "cell_type": "markdown",
   "metadata": {},
   "source": [
    "Группируем по `weekday` и считаем, на какие дни приходится больше всего заказов."
   ]
  },
  {
   "cell_type": "code",
   "execution_count": 246,
   "metadata": {
    "scrolled": true
   },
   "outputs": [
    {
     "data": {
      "text/html": [
       "<div>\n",
       "<style scoped>\n",
       "    .dataframe tbody tr th:only-of-type {\n",
       "        vertical-align: middle;\n",
       "    }\n",
       "\n",
       "    .dataframe tbody tr th {\n",
       "        vertical-align: top;\n",
       "    }\n",
       "\n",
       "    .dataframe thead th {\n",
       "        text-align: right;\n",
       "    }\n",
       "</style>\n",
       "<table border=\"1\" class=\"dataframe\">\n",
       "  <thead>\n",
       "    <tr style=\"text-align: right;\">\n",
       "      <th></th>\n",
       "      <th>user_id</th>\n",
       "      <th>restaurant</th>\n",
       "      <th>ordered_time</th>\n",
       "      <th>seats_number</th>\n",
       "    </tr>\n",
       "    <tr>\n",
       "      <th>weekday</th>\n",
       "      <th></th>\n",
       "      <th></th>\n",
       "      <th></th>\n",
       "      <th></th>\n",
       "    </tr>\n",
       "  </thead>\n",
       "  <tbody>\n",
       "    <tr>\n",
       "      <th>Tuesday</th>\n",
       "      <td>251</td>\n",
       "      <td>251</td>\n",
       "      <td>251</td>\n",
       "      <td>251</td>\n",
       "    </tr>\n",
       "    <tr>\n",
       "      <th>Wednesday</th>\n",
       "      <td>242</td>\n",
       "      <td>242</td>\n",
       "      <td>242</td>\n",
       "      <td>242</td>\n",
       "    </tr>\n",
       "    <tr>\n",
       "      <th>Thursday</th>\n",
       "      <td>180</td>\n",
       "      <td>180</td>\n",
       "      <td>180</td>\n",
       "      <td>180</td>\n",
       "    </tr>\n",
       "    <tr>\n",
       "      <th>Monday</th>\n",
       "      <td>141</td>\n",
       "      <td>141</td>\n",
       "      <td>141</td>\n",
       "      <td>141</td>\n",
       "    </tr>\n",
       "    <tr>\n",
       "      <th>Friday</th>\n",
       "      <td>110</td>\n",
       "      <td>110</td>\n",
       "      <td>110</td>\n",
       "      <td>110</td>\n",
       "    </tr>\n",
       "    <tr>\n",
       "      <th>Saturday</th>\n",
       "      <td>52</td>\n",
       "      <td>52</td>\n",
       "      <td>52</td>\n",
       "      <td>52</td>\n",
       "    </tr>\n",
       "    <tr>\n",
       "      <th>Sunday</th>\n",
       "      <td>24</td>\n",
       "      <td>24</td>\n",
       "      <td>24</td>\n",
       "      <td>24</td>\n",
       "    </tr>\n",
       "  </tbody>\n",
       "</table>\n",
       "</div>"
      ],
      "text/plain": [
       "           user_id  restaurant  ordered_time  seats_number\n",
       "weekday                                                   \n",
       "Tuesday        251         251           251           251\n",
       "Wednesday      242         242           242           242\n",
       "Thursday       180         180           180           180\n",
       "Monday         141         141           141           141\n",
       "Friday         110         110           110           110\n",
       "Saturday        52          52            52            52\n",
       "Sunday          24          24            24            24"
      ]
     },
     "execution_count": 246,
     "metadata": {},
     "output_type": "execute_result"
    }
   ],
   "source": [
    "bo_data.groupby('weekday').count().sort_values(by='user_id', ascending=False)"
   ]
  },
  {
   "cell_type": "markdown",
   "metadata": {},
   "source": [
    "Объявляем функцию, которая возвращает количество заказов для ресторана в определенный день."
   ]
  },
  {
   "cell_type": "code",
   "execution_count": 247,
   "metadata": {},
   "outputs": [],
   "source": [
    "def order_count(data, restaurant, weekday):\n",
    "    count = data[ (data.restaurant.str.lower() == restaurant.lower()) &\n",
    "                  (data.weekday.str.lower() == weekday.lower()) ].count().user_id\n",
    "    return count"
   ]
  },
  {
   "cell_type": "markdown",
   "metadata": {},
   "source": [
    "<h3><font color=\"#89DD00\">Комментарий ассистента</font></h3>\n",
    "\n",
    "Круто!\n",
    "Вот еще пример функции в две строки:\n",
    "\n",
    "`def rest_weekday(dataset, rest, weekday):  \n",
    "    return dataset[(dataset['restaurant'] == rest) & (dataset['weekday'] == weekday)].count()['user_id']`"
   ]
  },
  {
   "cell_type": "markdown",
   "metadata": {},
   "source": [
    "Передадим ей заведения Iskra Bar и Там Ем — два флагманских места, по которым просили результаты прежде всего — и понедельник, среду и пятницу в качестве дня недели."
   ]
  },
  {
   "cell_type": "code",
   "execution_count": 248,
   "metadata": {},
   "outputs": [
    {
     "data": {
      "text/plain": [
       "48"
      ]
     },
     "execution_count": 248,
     "metadata": {},
     "output_type": "execute_result"
    }
   ],
   "source": [
    "order_count(bo_data, 'Iskra Bar', 'monday')"
   ]
  },
  {
   "cell_type": "code",
   "execution_count": 249,
   "metadata": {},
   "outputs": [
    {
     "data": {
      "text/plain": [
       "53"
      ]
     },
     "execution_count": 249,
     "metadata": {},
     "output_type": "execute_result"
    }
   ],
   "source": [
    "order_count(bo_data, 'iskra bar', 'wednesday')"
   ]
  },
  {
   "cell_type": "code",
   "execution_count": 250,
   "metadata": {},
   "outputs": [
    {
     "data": {
      "text/plain": [
       "29"
      ]
     },
     "execution_count": 250,
     "metadata": {},
     "output_type": "execute_result"
    }
   ],
   "source": [
    "order_count(bo_data, 'iskra bar', 'friday')"
   ]
  },
  {
   "cell_type": "code",
   "execution_count": 251,
   "metadata": {},
   "outputs": [
    {
     "data": {
      "text/plain": [
       "25"
      ]
     },
     "execution_count": 251,
     "metadata": {},
     "output_type": "execute_result"
    }
   ],
   "source": [
    "order_count(bo_data, 'там ем', 'monday')"
   ]
  },
  {
   "cell_type": "code",
   "execution_count": 252,
   "metadata": {},
   "outputs": [
    {
     "data": {
      "text/plain": [
       "52"
      ]
     },
     "execution_count": 252,
     "metadata": {},
     "output_type": "execute_result"
    }
   ],
   "source": [
    "order_count(bo_data, 'там ем', 'wednesday')"
   ]
  },
  {
   "cell_type": "code",
   "execution_count": 253,
   "metadata": {
    "scrolled": true
   },
   "outputs": [
    {
     "data": {
      "text/plain": [
       "24"
      ]
     },
     "execution_count": 253,
     "metadata": {},
     "output_type": "execute_result"
    }
   ],
   "source": [
    "order_count(bo_data, 'там ем', 'friday')"
   ]
  },
  {
   "cell_type": "markdown",
   "metadata": {},
   "source": [
    "Сведем результат в таблицу."
   ]
  },
  {
   "cell_type": "code",
   "execution_count": 1,
   "metadata": {},
   "outputs": [
    {
     "ename": "NameError",
     "evalue": "name 'bo_data' is not defined",
     "output_type": "error",
     "traceback": [
      "\u001b[1;31m---------------------------------------------------------------------------\u001b[0m",
      "\u001b[1;31mNameError\u001b[0m                                 Traceback (most recent call last)",
      "\u001b[1;32m<ipython-input-1-85552f101306>\u001b[0m in \u001b[0;36m<module>\u001b[1;34m\u001b[0m\n\u001b[1;32m----> 1\u001b[1;33m df_orders = bo_data[\n\u001b[0m\u001b[0;32m      2\u001b[0m         \u001b[1;33m(\u001b[0m\u001b[1;33m(\u001b[0m\u001b[0mbo_data\u001b[0m\u001b[1;33m.\u001b[0m\u001b[0mrestaurant\u001b[0m\u001b[1;33m.\u001b[0m\u001b[0mstr\u001b[0m\u001b[1;33m.\u001b[0m\u001b[0mlower\u001b[0m\u001b[1;33m(\u001b[0m\u001b[1;33m)\u001b[0m \u001b[1;33m==\u001b[0m \u001b[1;34m'iskra bar'\u001b[0m\u001b[1;33m)\u001b[0m \u001b[1;33m|\u001b[0m \u001b[1;33m(\u001b[0m\u001b[0mbo_data\u001b[0m\u001b[1;33m.\u001b[0m\u001b[0mrestaurant\u001b[0m\u001b[1;33m.\u001b[0m\u001b[0mstr\u001b[0m\u001b[1;33m.\u001b[0m\u001b[0mlower\u001b[0m\u001b[1;33m(\u001b[0m\u001b[1;33m)\u001b[0m \u001b[1;33m==\u001b[0m \u001b[1;34m'там ем'\u001b[0m\u001b[1;33m)\u001b[0m\u001b[1;33m)\u001b[0m \u001b[1;33m&\u001b[0m\u001b[1;33m\u001b[0m\u001b[1;33m\u001b[0m\u001b[0m\n\u001b[0;32m      3\u001b[0m         \u001b[1;33m(\u001b[0m\u001b[1;33m(\u001b[0m\u001b[0mbo_data\u001b[0m\u001b[1;33m.\u001b[0m\u001b[0mweekday\u001b[0m\u001b[1;33m.\u001b[0m\u001b[0mstr\u001b[0m\u001b[1;33m.\u001b[0m\u001b[0mlower\u001b[0m\u001b[1;33m(\u001b[0m\u001b[1;33m)\u001b[0m \u001b[1;33m==\u001b[0m \u001b[1;34m'monday'\u001b[0m\u001b[1;33m)\u001b[0m \u001b[1;33m|\u001b[0m \u001b[1;33m(\u001b[0m\u001b[0mbo_data\u001b[0m\u001b[1;33m.\u001b[0m\u001b[0mweekday\u001b[0m\u001b[1;33m.\u001b[0m\u001b[0mstr\u001b[0m\u001b[1;33m.\u001b[0m\u001b[0mlower\u001b[0m\u001b[1;33m(\u001b[0m\u001b[1;33m)\u001b[0m \u001b[1;33m==\u001b[0m \u001b[1;34m'wednesday'\u001b[0m\u001b[1;33m)\u001b[0m \u001b[1;33m|\u001b[0m \u001b[1;33m(\u001b[0m\u001b[0mbo_data\u001b[0m\u001b[1;33m.\u001b[0m\u001b[0mweekday\u001b[0m\u001b[1;33m.\u001b[0m\u001b[0mstr\u001b[0m\u001b[1;33m.\u001b[0m\u001b[0mlower\u001b[0m\u001b[1;33m(\u001b[0m\u001b[1;33m)\u001b[0m \u001b[1;33m==\u001b[0m \u001b[1;34m'friday'\u001b[0m\u001b[1;33m)\u001b[0m\u001b[1;33m)\u001b[0m\u001b[1;33m\u001b[0m\u001b[1;33m\u001b[0m\u001b[0m\n\u001b[0;32m      4\u001b[0m         ][['restaurant','weekday','seats_number']]\n\u001b[0;32m      5\u001b[0m \u001b[0mdf_orders\u001b[0m\u001b[1;33m\u001b[0m\u001b[1;33m\u001b[0m\u001b[0m\n",
      "\u001b[1;31mNameError\u001b[0m: name 'bo_data' is not defined"
     ]
    }
   ],
   "source": [
    "df_orders = bo_data[\n",
    "        ((bo_data.restaurant.str.lower() == 'iskra bar') | (bo_data.restaurant.str.lower() == 'там ем')) &\n",
    "        ((bo_data.weekday.str.lower() == 'monday') | (bo_data.weekday.str.lower() == 'wednesday') | (bo_data.weekday.str.lower() == 'friday'))\n",
    "        ][['restaurant','weekday','seats_number']]\n",
    "df_orders\n",
    "df_orders.groupby(['restaurant','weekday']).agg({'seats_number':'count'})\n"
   ]
  },
  {
   "cell_type": "markdown",
   "metadata": {},
   "source": [
    "<h3><font color=\"#89DD00\">Комментарий ассистента</font></h3>\n",
    "\n",
    "Здесь еще можно сделать pivot таблицу, немного лаконичнее:\n",
    "\n",
    "`table = bo_data.pivot_table(index = ['restaurant', 'weekday'], values = 'user_id', aggfunc = 'count')\n",
    "table.query('weekday == [\"Monday\", \"Wednesday\", \"Friday\"] and restaurant == [\"Iskra Bar\", \"Там Ем\"]').transpose()`"
   ]
  },
  {
   "cell_type": "markdown",
   "metadata": {},
   "source": [
    "### Выводы"
   ]
  },
  {
   "cell_type": "markdown",
   "metadata": {},
   "source": [
    "* По данным больше всего количество заказов приходится на ресторан Iskra Bar - 287\n",
    "* Больше всего заказов поступает во вторник - 251\n",
    "* Проанализировав два ресторана с большим колчеством заказов и взяв 3 дня недели понедельник, среда, пятница получили результат:\n",
    "> * Iskra Bar - больше всего заказов приходится на среду 53, наименьшее количество заказов в пятницу.\n",
    "> * Там Ем - больше всего заказов приходится на среду 52, наименьшее количество заказов в пятницу.\n",
    "> * В понедельник Iskra Bar получает почти в два раза больше заказов чем ресторан Там Ем."
   ]
  },
  {
   "cell_type": "markdown",
   "metadata": {},
   "source": [
    "## Распределение заказов в течение дня"
   ]
  },
  {
   "cell_type": "markdown",
   "metadata": {},
   "source": [
    "Сравним количества заказов, сделанных в обеденное и вечернее время — с 12 до 16 и с 16 до 22. Для этого объявим функцию, которая принимает данные и 2 аргумента времени."
   ]
  },
  {
   "cell_type": "code",
   "execution_count": 180,
   "metadata": {},
   "outputs": [],
   "source": [
    "def order_count_by_time(data, time_from, time_to):\n",
    "    import datetime as dt\n",
    "    \n",
    "    df_time_range = data[ (pd.to_datetime(data.ordered_time,format='%H:%M').dt.time >= dt.datetime.strptime(time_from,'%H:%M').time()) &\n",
    "                          (pd.to_datetime(data.ordered_time,format='%H:%M').dt.time <= dt.datetime.strptime(time_to,'%H:%M').time()) ]\n",
    "    return df_time_range.count().user_id\n",
    "    "
   ]
  },
  {
   "cell_type": "markdown",
   "metadata": {},
   "source": [
    "Передадим промежуток с 12:00 и 16:00"
   ]
  },
  {
   "cell_type": "code",
   "execution_count": 290,
   "metadata": {
    "scrolled": true
   },
   "outputs": [
    {
     "data": {
      "text/plain": [
       "588"
      ]
     },
     "execution_count": 290,
     "metadata": {},
     "output_type": "execute_result"
    }
   ],
   "source": [
    "order_count_by_time(bo_data, '12:00', '16:00')"
   ]
  },
  {
   "cell_type": "markdown",
   "metadata": {},
   "source": [
    "И с 16:00 до 22:00"
   ]
  },
  {
   "cell_type": "code",
   "execution_count": 291,
   "metadata": {
    "scrolled": false
   },
   "outputs": [
    {
     "data": {
      "text/plain": [
       "338"
      ]
     },
     "execution_count": 291,
     "metadata": {},
     "output_type": "execute_result"
    }
   ],
   "source": [
    "order_count_by_time(bo_data, '16:00', '22:00')"
   ]
  },
  {
   "cell_type": "markdown",
   "metadata": {},
   "source": [
    "### Выводы"
   ]
  },
  {
   "cell_type": "markdown",
   "metadata": {},
   "source": [
    "* Больше всего заказов приходится на обеденное время в промежутке с 12:00 - 16:00 - 588\n",
    "* В вечернее время в промежутке с 16:00 - 22:00 количество заказов сравнимо меньше - 338"
   ]
  },
  {
   "cell_type": "markdown",
   "metadata": {},
   "source": [
    "## Типичное количество человек за столиком"
   ]
  },
  {
   "cell_type": "markdown",
   "metadata": {},
   "source": [
    "Выясним, для какого количества человек обычно заказывают столик в разное время на примере Iskra Bar и Там Ем. Для этого напишем функцию, которая принимает данные, название ресторана, 2 времени и считает моду."
   ]
  },
  {
   "cell_type": "code",
   "execution_count": 169,
   "metadata": {},
   "outputs": [],
   "source": [
    "def table_seats_mode(data, restaurant, time_from, time_to):\n",
    "    df_time_range = data[ (pd.to_datetime(data.ordered_time,format='%H:%M').dt.time >= dt.datetime.strptime(time_from,'%H:%M').time()) &\n",
    "                          (pd.to_datetime(data.ordered_time,format='%H:%M').dt.time <= dt.datetime.strptime(time_to,'%H:%M').time()) ]\n",
    "    return df_time_range[df_time_range.restaurant.str.lower() == restaurant.lower()].seats_number.mode() "
   ]
  },
  {
   "cell_type": "markdown",
   "metadata": {},
   "source": [
    "Проверим функцию на двух ресторанах, а также дневном и вечернем промежутке времени."
   ]
  },
  {
   "cell_type": "code",
   "execution_count": 170,
   "metadata": {},
   "outputs": [
    {
     "data": {
      "text/plain": [
       "0    2\n",
       "dtype: int64"
      ]
     },
     "execution_count": 170,
     "metadata": {},
     "output_type": "execute_result"
    }
   ],
   "source": [
    "table_seats_mode(bo_data, 'iskra bar', '12:00', '16:00')"
   ]
  },
  {
   "cell_type": "code",
   "execution_count": 177,
   "metadata": {},
   "outputs": [
    {
     "data": {
      "text/plain": [
       "0    1\n",
       "dtype: int64"
      ]
     },
     "execution_count": 177,
     "metadata": {},
     "output_type": "execute_result"
    }
   ],
   "source": [
    "table_seats_mode(bo_data, 'iskra bar', '16:00', '22:00')"
   ]
  },
  {
   "cell_type": "code",
   "execution_count": 187,
   "metadata": {},
   "outputs": [
    {
     "data": {
      "text/plain": [
       "0    2\n",
       "dtype: int64"
      ]
     },
     "execution_count": 187,
     "metadata": {},
     "output_type": "execute_result"
    }
   ],
   "source": [
    "table_seats_mode(bo_data, 'там ем', '12:00', '16:00')"
   ]
  },
  {
   "cell_type": "code",
   "execution_count": 188,
   "metadata": {},
   "outputs": [
    {
     "data": {
      "text/plain": [
       "0    1\n",
       "dtype: int64"
      ]
     },
     "execution_count": 188,
     "metadata": {},
     "output_type": "execute_result"
    }
   ],
   "source": [
    "table_seats_mode(bo_data, 'там ем', '16:00', '22:00')"
   ]
  },
  {
   "cell_type": "markdown",
   "metadata": {},
   "source": [
    "### Выводы"
   ]
  },
  {
   "cell_type": "markdown",
   "metadata": {},
   "source": [
    "* Были проаналищированы два наипопулярнейших ресторана - Iskra Bar, Там Ем\n",
    "* Как видно по результатам, обычно заказывают столы на 1, 2 количества человек\n",
    "* В обеденное время в промежутке с 12:00 - 16:00 чаще всего заказывают стол на 2х\n",
    "* В вечернее время в промежутке с 16:00 - 22:00 чаще всего заказывают стол на 1 человека."
   ]
  },
  {
   "cell_type": "markdown",
   "metadata": {},
   "source": [
    "## Общие выводы"
   ]
  },
  {
   "cell_type": "markdown",
   "metadata": {},
   "source": [
    "* Три наипопулярных ресторанов на данной территории - Iskra Bar, Там Ем, Бар Сибирь.\n",
    "* Наибольшее количество заказов 287 имеет ресторан Iskra Bar - 287 заказов. На втором месте ресторан Там Ем - 200. На третьем Бар Сибирь - 159.\n",
    "* Больше всего заказов в неделе приходится на вторник и среду. Меньше всего заказов приходится на субботу и воскресенье.\n",
    "* Проанализировав время сделанных заказов делам вывод что чаще всего сервисом пользуются в обеденное время в промежутке с 12:00 - 16:00.\n",
    "* В рестораны чаще всего приходят небольшими компаниями в обед 2 человека, а в вечернее время чаще всего заказывают стол на 1го (что то даже немного грусно). Можно сделать вывод что чаще всего вечером приходят быстро поужинать в одиночестве потому что не хочется готовить дома :)"
   ]
  },
  {
   "cell_type": "markdown",
   "metadata": {},
   "source": [
    "<h3><font color=\"#89DD00\">Комментарий ассистента</font></h3>\n",
    "\n",
    "Замечательная работа!"
   ]
  }
 ],
 "metadata": {
  "colab": {
   "collapsed_sections": [],
   "name": "Копия блокнота \"notebook_03_username.ipynb\"",
   "provenance": [],
   "toc_visible": true
  },
  "kernelspec": {
   "display_name": "Python 3",
   "language": "python",
   "name": "python3"
  },
  "language_info": {
   "codemirror_mode": {
    "name": "ipython",
    "version": 3
   },
   "file_extension": ".py",
   "mimetype": "text/x-python",
   "name": "python",
   "nbconvert_exporter": "python",
   "pygments_lexer": "ipython3",
   "version": "3.8.3"
  }
 },
 "nbformat": 4,
 "nbformat_minor": 1
}

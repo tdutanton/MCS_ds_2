{
 "cells": [
  {
   "cell_type": "markdown",
   "metadata": {},
   "source": [
    "<img src=\"https://files.cdn.thinkific.com/file_uploads/133292/images/d57/1b0/1a9/P03.jpg\">"
   ]
  },
  {
   "cell_type": "markdown",
   "metadata": {
    "id": "e5Vts0g2oUvy"
   },
   "source": [
    "`MCSDSC02P03V3______`\n",
    "\n",
    "`MCSDSELIMC02P03V2250621`\n",
    "\n",
    "`MCSDSELIMC02P03V1130621`"
   ]
  },
  {
   "cell_type": "markdown",
   "metadata": {},
   "source": [
    "<h3><font color=\"#89DD00\">Комментарий ассистента</font></h3>\n",
    "\n",
    "Отличная работа! Проект принят.\n",
    "Несколько комментариев ниже"
   ]
  },
  {
   "cell_type": "markdown",
   "metadata": {},
   "source": [
    "## Постановка задачи"
   ]
  },
  {
   "cell_type": "markdown",
   "metadata": {},
   "source": [
    "Провести анализ данных страховой компании:\n",
    "* Проанализировать страховые случае, возраст клиента и доход\n",
    "* Выяснить как проанализированные данные влияют статус выплаты страховой компенсации"
   ]
  },
  {
   "cell_type": "markdown",
   "metadata": {},
   "source": [
    "## Импорт данных и библиотек"
   ]
  },
  {
   "cell_type": "markdown",
   "metadata": {},
   "source": [
    "Импортируем библиотеки, прочитаем файл `insurance.csv` и получим общую информацию о данных."
   ]
  },
  {
   "cell_type": "code",
   "execution_count": 232,
   "metadata": {
    "scrolled": false
   },
   "outputs": [
    {
     "name": "stdout",
     "output_type": "stream",
     "text": [
      "<class 'pandas.core.frame.DataFrame'>\n",
      "RangeIndex: 2301 entries, 0 to 2300\n",
      "Data columns (total 10 columns):\n",
      " #   Column                          Non-Null Count  Dtype  \n",
      "---  ------                          --------------  -----  \n",
      " 0   id                              2301 non-null   int64  \n",
      " 1   perc_of_compensation_paid       2301 non-null   float64\n",
      " 2   age_in_days                     2301 non-null   float64\n",
      " 3   age_id                          2301 non-null   int64  \n",
      " 4   age_group                       2301 non-null   object \n",
      " 5   income                          2236 non-null   float64\n",
      " 6   count_3-6_months_late           2301 non-null   int64  \n",
      " 7   count_6-12_months_late          2301 non-null   int64  \n",
      " 8   count_more_than_12_months_late  2301 non-null   int64  \n",
      " 9   cause                           2301 non-null   object \n",
      "dtypes: float64(3), int64(5), object(2)\n",
      "memory usage: 179.9+ KB\n"
     ]
    }
   ],
   "source": [
    "import pandas as pd\n",
    "user_data = pd.read_csv('../../data/insurance.csv')\n",
    "user_data.info()"
   ]
  },
  {
   "cell_type": "markdown",
   "metadata": {},
   "source": [
    "Столбцы содержат следующую информацию:\n",
    "\n",
    "* id - ID клиента\n",
    "* perc_of_compensation_paid - процент выплачиваемой компенсации\n",
    "* age_in_days - возраст клиента в днях\n",
    "* age_id - ID категории возраста клиента\n",
    "* age_group - категория возраста клиента\n",
    "* income - доход клиента\n",
    "* count_3-6_mounth_late - полис оформлен не позднее 3-6 месяцев\n",
    "* count_6-12_mounth_late - полис оформлен не позднее 6-12 месяцев\n",
    "* count_more_than_12_mounth_late - полис оформлен больше года назад\n",
    "* couse - причина страховой выплаты"
   ]
  },
  {
   "cell_type": "markdown",
   "metadata": {},
   "source": [
    "### Выводы"
   ]
  },
  {
   "cell_type": "markdown",
   "metadata": {},
   "source": [
    "* Данные содержат информацию о держателе страхового полиса и и информацию о самом старховом полисе.\n",
    "* Датасет с данными состоит из 10 столбцов и 2301 строк.\n",
    "* Датасет содержит 3 ненулевых столбца типа float64, 5 ненулевых столбца типа int64, 2 ненулевых столбца типа object."
   ]
  },
  {
   "cell_type": "markdown",
   "metadata": {},
   "source": [
    "## Предобработка данных"
   ]
  },
  {
   "cell_type": "markdown",
   "metadata": {},
   "source": [
    "**Обработка пропусков**"
   ]
  },
  {
   "cell_type": "markdown",
   "metadata": {},
   "source": [
    "Проверим данные на наличие пропусков, просуммировав их."
   ]
  },
  {
   "cell_type": "code",
   "execution_count": 233,
   "metadata": {
    "scrolled": true
   },
   "outputs": [
    {
     "data": {
      "text/plain": [
       "id                                 0\n",
       "perc_of_compensation_paid          0\n",
       "age_in_days                        0\n",
       "age_id                             0\n",
       "age_group                          0\n",
       "income                            65\n",
       "count_3-6_months_late              0\n",
       "count_6-12_months_late             0\n",
       "count_more_than_12_months_late     0\n",
       "cause                              0\n",
       "dtype: int64"
      ]
     },
     "execution_count": 233,
     "metadata": {},
     "output_type": "execute_result"
    }
   ],
   "source": [
    "user_data.isnull().sum()\n",
    "#user_data.isna().sum()"
   ]
  },
  {
   "cell_type": "markdown",
   "metadata": {},
   "source": [
    "Заполним пропуски в столбце `income`."
   ]
  },
  {
   "cell_type": "code",
   "execution_count": 174,
   "metadata": {},
   "outputs": [],
   "source": [
    "#user_data[user_data.age_id == 2][['age_group','income']]\n",
    "#user_data.query('age_id == 2')[['age_group','income']]\n",
    "#user_data.loc[user_data.age_id == 2, ['age_group', 'income']]"
   ]
  },
  {
   "cell_type": "code",
   "execution_count": 234,
   "metadata": {},
   "outputs": [],
   "source": [
    "#user_data.loc[user_data.age_id == 2, 'income'].mean()\n",
    "user_data.loc[user_data.age_id == 2, 'income'] = user_data.loc[user_data.age_id == 2, 'income'].fillna(user_data.loc[user_data.age_id == 2, 'income'].mean())\n",
    "user_data.loc[user_data.age_id == 3, 'income'] = user_data.loc[user_data.age_id == 3, 'income'].fillna(user_data.loc[user_data.age_id == 3, 'income'].mean())\n",
    "user_data.loc[user_data.age_id == 4, 'income'] = user_data.loc[user_data.age_id == 4, 'income'].fillna(user_data.loc[user_data.age_id == 4, 'income'].mean())\n",
    "    "
   ]
  },
  {
   "cell_type": "markdown",
   "metadata": {},
   "source": [
    "<h3><font color=\"#89DD00\">Комментарий ассистента</font></h3>\n",
    "\n",
    "Вариант рабочий, но можно попроще)\n",
    "\n",
    "```insur_data=insur_data.fillna(insur_data.groupby(['age_id']).transform(\"median\"))```"
   ]
  },
  {
   "cell_type": "code",
   "execution_count": 173,
   "metadata": {},
   "outputs": [],
   "source": [
    "#user_data.loc[user_data.age_id == 2].isnull().sum() #11\n",
    "#user_data.loc[user_data.age_id == 3].isnull().sum() #23\n",
    "#user_data.loc[user_data.age_id == 4].isnull().sum() #31"
   ]
  },
  {
   "cell_type": "markdown",
   "metadata": {},
   "source": [
    "Проверяем, что пропусков в `income` не осталось."
   ]
  },
  {
   "cell_type": "code",
   "execution_count": 235,
   "metadata": {
    "scrolled": false
   },
   "outputs": [
    {
     "data": {
      "text/plain": [
       "0"
      ]
     },
     "execution_count": 235,
     "metadata": {},
     "output_type": "execute_result"
    }
   ],
   "source": [
    "user_data.income.isnull().sum()"
   ]
  },
  {
   "cell_type": "markdown",
   "metadata": {},
   "source": [
    "**Замена типа данных**"
   ]
  },
  {
   "cell_type": "markdown",
   "metadata": {},
   "source": [
    "Проверяем, что в столбцах `age_in_days` и `income` вещественный тип данных."
   ]
  },
  {
   "cell_type": "code",
   "execution_count": 236,
   "metadata": {
    "scrolled": false
   },
   "outputs": [
    {
     "data": {
      "text/plain": [
       "age_in_days    float64\n",
       "income         float64\n",
       "dtype: object"
      ]
     },
     "execution_count": 236,
     "metadata": {},
     "output_type": "execute_result"
    }
   ],
   "source": [
    "user_data[['age_in_days','income']].dtypes"
   ]
  },
  {
   "cell_type": "markdown",
   "metadata": {},
   "source": [
    "Для этих столбцов нужен целочисленный тип, поэтому переведем их, а также избавимся от отрицательных значений в `income`."
   ]
  },
  {
   "cell_type": "code",
   "execution_count": 237,
   "metadata": {},
   "outputs": [],
   "source": [
    "user_data.income = user_data.income.astype('int64').abs()"
   ]
  },
  {
   "cell_type": "code",
   "execution_count": 239,
   "metadata": {
    "scrolled": true
   },
   "outputs": [],
   "source": [
    "user_data.age_in_days = user_data.age_in_days.astype('int64').abs()"
   ]
  },
  {
   "cell_type": "code",
   "execution_count": 241,
   "metadata": {},
   "outputs": [
    {
     "data": {
      "text/plain": [
       "age_in_days    int64\n",
       "income         int64\n",
       "dtype: object"
      ]
     },
     "execution_count": 241,
     "metadata": {},
     "output_type": "execute_result"
    }
   ],
   "source": [
    "# проверка\n",
    "user_data.loc[:,('age_in_days','income')].dtypes"
   ]
  },
  {
   "cell_type": "code",
   "execution_count": 262,
   "metadata": {},
   "outputs": [
    {
     "name": "stdout",
     "output_type": "stream",
     "text": [
      "all good\n"
     ]
    }
   ],
   "source": [
    "# проверка 2\n",
    "if not (user_data.loc[user_data.income < 0].income.count() | user_data.loc[user_data.age_in_days < 0].age_in_days.count()):\n",
    "    print('all good')"
   ]
  },
  {
   "cell_type": "markdown",
   "metadata": {},
   "source": [
    "<h3><font color=\"#89DD00\">Комментарий ассистента</font></h3>\n",
    "\n",
    "С проверкой крутое решение!"
   ]
  },
  {
   "cell_type": "markdown",
   "metadata": {},
   "source": [
    "**Поиск дубликатов с учетом регистра**"
   ]
  },
  {
   "cell_type": "markdown",
   "metadata": {},
   "source": [
    "Проверим уникальные категории в столбце `age_group`."
   ]
  },
  {
   "cell_type": "code",
   "execution_count": 263,
   "metadata": {
    "scrolled": true
   },
   "outputs": [
    {
     "data": {
      "text/plain": [
       "array(['Пожилой', 'пожилой', 'Зрелый', 'Молодой', 'ЗРЕЛЫЙ', 'ПОЖИЛОЙ',\n",
       "       'зрелый', 'молодой', 'МОЛОДОЙ'], dtype=object)"
      ]
     },
     "execution_count": 263,
     "metadata": {},
     "output_type": "execute_result"
    }
   ],
   "source": [
    "user_data.age_group.unique()"
   ]
  },
  {
   "cell_type": "markdown",
   "metadata": {},
   "source": [
    "Приведем их к нижнему регистру."
   ]
  },
  {
   "cell_type": "code",
   "execution_count": 264,
   "metadata": {
    "scrolled": false
   },
   "outputs": [],
   "source": [
    "user_data.age_group = user_data.age_group.str.lower()"
   ]
  },
  {
   "cell_type": "markdown",
   "metadata": {},
   "source": [
    "**Обработка дубликатов**"
   ]
  },
  {
   "cell_type": "markdown",
   "metadata": {},
   "source": [
    "Установим количество явных дубликатов. Если найдутся, то удалим и снова проверим, что их не осталось."
   ]
  },
  {
   "cell_type": "code",
   "execution_count": 265,
   "metadata": {
    "scrolled": true
   },
   "outputs": [
    {
     "data": {
      "text/plain": [
       "7"
      ]
     },
     "execution_count": 265,
     "metadata": {},
     "output_type": "execute_result"
    }
   ],
   "source": [
    "user_data.duplicated().sum()"
   ]
  },
  {
   "cell_type": "code",
   "execution_count": 266,
   "metadata": {},
   "outputs": [
    {
     "data": {
      "text/html": [
       "<div>\n",
       "<style scoped>\n",
       "    .dataframe tbody tr th:only-of-type {\n",
       "        vertical-align: middle;\n",
       "    }\n",
       "\n",
       "    .dataframe tbody tr th {\n",
       "        vertical-align: top;\n",
       "    }\n",
       "\n",
       "    .dataframe thead th {\n",
       "        text-align: right;\n",
       "    }\n",
       "</style>\n",
       "<table border=\"1\" class=\"dataframe\">\n",
       "  <thead>\n",
       "    <tr style=\"text-align: right;\">\n",
       "      <th></th>\n",
       "      <th>id</th>\n",
       "      <th>perc_of_compensation_paid</th>\n",
       "      <th>age_in_days</th>\n",
       "      <th>age_id</th>\n",
       "      <th>age_group</th>\n",
       "      <th>income</th>\n",
       "      <th>count_3-6_months_late</th>\n",
       "      <th>count_6-12_months_late</th>\n",
       "      <th>count_more_than_12_months_late</th>\n",
       "      <th>cause</th>\n",
       "    </tr>\n",
       "  </thead>\n",
       "  <tbody>\n",
       "    <tr>\n",
       "      <th>0</th>\n",
       "      <td>649</td>\n",
       "      <td>0.001</td>\n",
       "      <td>27384</td>\n",
       "      <td>4</td>\n",
       "      <td>пожилой</td>\n",
       "      <td>195212</td>\n",
       "      <td>0</td>\n",
       "      <td>0</td>\n",
       "      <td>0</td>\n",
       "      <td>повреждение автомобиля</td>\n",
       "    </tr>\n",
       "    <tr>\n",
       "      <th>1</th>\n",
       "      <td>81136</td>\n",
       "      <td>0.124</td>\n",
       "      <td>23735</td>\n",
       "      <td>4</td>\n",
       "      <td>пожилой</td>\n",
       "      <td>285140</td>\n",
       "      <td>0</td>\n",
       "      <td>0</td>\n",
       "      <td>0</td>\n",
       "      <td>упало дерево на автомобиль</td>\n",
       "    </tr>\n",
       "    <tr>\n",
       "      <th>2</th>\n",
       "      <td>70762</td>\n",
       "      <td>1.000</td>\n",
       "      <td>17170</td>\n",
       "      <td>3</td>\n",
       "      <td>зрелый</td>\n",
       "      <td>186030</td>\n",
       "      <td>0</td>\n",
       "      <td>0</td>\n",
       "      <td>0</td>\n",
       "      <td>сломала ногу в отпуске</td>\n",
       "    </tr>\n",
       "    <tr>\n",
       "      <th>3</th>\n",
       "      <td>53935</td>\n",
       "      <td>0.198</td>\n",
       "      <td>16068</td>\n",
       "      <td>3</td>\n",
       "      <td>зрелый</td>\n",
       "      <td>123540</td>\n",
       "      <td>0</td>\n",
       "      <td>0</td>\n",
       "      <td>0</td>\n",
       "      <td>хищение автомобиля (каско)</td>\n",
       "    </tr>\n",
       "    <tr>\n",
       "      <th>4</th>\n",
       "      <td>15476</td>\n",
       "      <td>0.041</td>\n",
       "      <td>10591</td>\n",
       "      <td>2</td>\n",
       "      <td>молодой</td>\n",
       "      <td>200020</td>\n",
       "      <td>1</td>\n",
       "      <td>0</td>\n",
       "      <td>0</td>\n",
       "      <td>несчастный случай в отпуске</td>\n",
       "    </tr>\n",
       "    <tr>\n",
       "      <th>...</th>\n",
       "      <td>...</td>\n",
       "      <td>...</td>\n",
       "      <td>...</td>\n",
       "      <td>...</td>\n",
       "      <td>...</td>\n",
       "      <td>...</td>\n",
       "      <td>...</td>\n",
       "      <td>...</td>\n",
       "      <td>...</td>\n",
       "      <td>...</td>\n",
       "    </tr>\n",
       "    <tr>\n",
       "      <th>2289</th>\n",
       "      <td>16440</td>\n",
       "      <td>0.474</td>\n",
       "      <td>18628</td>\n",
       "      <td>3</td>\n",
       "      <td>зрелый</td>\n",
       "      <td>201292</td>\n",
       "      <td>0</td>\n",
       "      <td>0</td>\n",
       "      <td>0</td>\n",
       "      <td>дтп</td>\n",
       "    </tr>\n",
       "    <tr>\n",
       "      <th>2290</th>\n",
       "      <td>109416</td>\n",
       "      <td>0.413</td>\n",
       "      <td>17525</td>\n",
       "      <td>3</td>\n",
       "      <td>зрелый</td>\n",
       "      <td>201292</td>\n",
       "      <td>0</td>\n",
       "      <td>0</td>\n",
       "      <td>0</td>\n",
       "      <td>кража в квартире</td>\n",
       "    </tr>\n",
       "    <tr>\n",
       "      <th>2291</th>\n",
       "      <td>4268</td>\n",
       "      <td>0.109</td>\n",
       "      <td>21906</td>\n",
       "      <td>4</td>\n",
       "      <td>пожилой</td>\n",
       "      <td>195212</td>\n",
       "      <td>0</td>\n",
       "      <td>0</td>\n",
       "      <td>0</td>\n",
       "      <td>проникли в жилье</td>\n",
       "    </tr>\n",
       "    <tr>\n",
       "      <th>2292</th>\n",
       "      <td>85708</td>\n",
       "      <td>0.036</td>\n",
       "      <td>25925</td>\n",
       "      <td>4</td>\n",
       "      <td>пожилой</td>\n",
       "      <td>195212</td>\n",
       "      <td>0</td>\n",
       "      <td>0</td>\n",
       "      <td>0</td>\n",
       "      <td>обокрали дачу</td>\n",
       "    </tr>\n",
       "    <tr>\n",
       "      <th>2293</th>\n",
       "      <td>105186</td>\n",
       "      <td>0.010</td>\n",
       "      <td>23370</td>\n",
       "      <td>4</td>\n",
       "      <td>пожилой</td>\n",
       "      <td>195212</td>\n",
       "      <td>0</td>\n",
       "      <td>0</td>\n",
       "      <td>0</td>\n",
       "      <td>повреждение автомобиля</td>\n",
       "    </tr>\n",
       "  </tbody>\n",
       "</table>\n",
       "<p>2294 rows × 10 columns</p>\n",
       "</div>"
      ],
      "text/plain": [
       "          id  perc_of_compensation_paid  age_in_days  age_id age_group  \\\n",
       "0        649                      0.001        27384       4   пожилой   \n",
       "1      81136                      0.124        23735       4   пожилой   \n",
       "2      70762                      1.000        17170       3    зрелый   \n",
       "3      53935                      0.198        16068       3    зрелый   \n",
       "4      15476                      0.041        10591       2   молодой   \n",
       "...      ...                        ...          ...     ...       ...   \n",
       "2289   16440                      0.474        18628       3    зрелый   \n",
       "2290  109416                      0.413        17525       3    зрелый   \n",
       "2291    4268                      0.109        21906       4   пожилой   \n",
       "2292   85708                      0.036        25925       4   пожилой   \n",
       "2293  105186                      0.010        23370       4   пожилой   \n",
       "\n",
       "      income  count_3-6_months_late  count_6-12_months_late  \\\n",
       "0     195212                      0                       0   \n",
       "1     285140                      0                       0   \n",
       "2     186030                      0                       0   \n",
       "3     123540                      0                       0   \n",
       "4     200020                      1                       0   \n",
       "...      ...                    ...                     ...   \n",
       "2289  201292                      0                       0   \n",
       "2290  201292                      0                       0   \n",
       "2291  195212                      0                       0   \n",
       "2292  195212                      0                       0   \n",
       "2293  195212                      0                       0   \n",
       "\n",
       "      count_more_than_12_months_late                        cause  \n",
       "0                                  0       повреждение автомобиля  \n",
       "1                                  0   упало дерево на автомобиль  \n",
       "2                                  0       сломала ногу в отпуске  \n",
       "3                                  0   хищение автомобиля (каско)  \n",
       "4                                  0  несчастный случай в отпуске  \n",
       "...                              ...                          ...  \n",
       "2289                               0                          дтп  \n",
       "2290                               0             кража в квартире  \n",
       "2291                               0             проникли в жилье  \n",
       "2292                               0                обокрали дачу  \n",
       "2293                               0       повреждение автомобиля  \n",
       "\n",
       "[2294 rows x 10 columns]"
      ]
     },
     "execution_count": 266,
     "metadata": {},
     "output_type": "execute_result"
    }
   ],
   "source": [
    "user_data.drop_duplicates(inplace=True)\n",
    "user_data.reset_index(drop=True)"
   ]
  },
  {
   "cell_type": "code",
   "execution_count": 267,
   "metadata": {},
   "outputs": [
    {
     "data": {
      "text/plain": [
       "0"
      ]
     },
     "execution_count": 267,
     "metadata": {},
     "output_type": "execute_result"
    }
   ],
   "source": [
    "user_data.duplicated().sum()"
   ]
  },
  {
   "cell_type": "markdown",
   "metadata": {},
   "source": [
    "**Стэмминг**"
   ]
  },
  {
   "cell_type": "markdown",
   "metadata": {},
   "source": [
    "Посчитаем уникальные значения в столбце `cause`."
   ]
  },
  {
   "cell_type": "code",
   "execution_count": 268,
   "metadata": {
    "scrolled": false
   },
   "outputs": [
    {
     "data": {
      "text/plain": [
       "26"
      ]
     },
     "execution_count": 268,
     "metadata": {},
     "output_type": "execute_result"
    }
   ],
   "source": [
    "user_data.cause.value_counts().count()"
   ]
  },
  {
   "cell_type": "code",
   "execution_count": 269,
   "metadata": {},
   "outputs": [
    {
     "data": {
      "text/plain": [
       "кража автомобиля               112\n",
       "травма во время отдыха         107\n",
       "сломала ногу в отпуске          95\n",
       "упало дерево на автомобиль      94\n",
       "украли багаж в отпуске          94\n",
       "травма в отпуске                94\n",
       "сгорел дом                      93\n",
       "замкнуло электричество дома     91\n",
       "сгорела квартира                91\n",
       "врезались в автомобиль          91\n",
       "несчастный случай в отпуске     91\n",
       "сотрясение во время отдыха      90\n",
       "проникли в жилье                89\n",
       "повреждение автомобиля          89\n",
       "потоп в квартире                88\n",
       "хищение автомобиля (каско)      88\n",
       "несчастный случай на отдыхе     85\n",
       "повреждение авто                85\n",
       "кража авто                      82\n",
       "обокрали дачу                   81\n",
       "поломка авто                    81\n",
       "кража в квартире                79\n",
       "украли авто                     78\n",
       "взломали квартиру               77\n",
       "дтп                             76\n",
       "затопило дом                    73\n",
       "Name: cause, dtype: int64"
      ]
     },
     "execution_count": 269,
     "metadata": {},
     "output_type": "execute_result"
    }
   ],
   "source": [
    "user_data.cause.value_counts()"
   ]
  },
  {
   "cell_type": "markdown",
   "metadata": {},
   "source": [
    "Выделим очевидные разные стеммы: \n",
    "* авто\n",
    "* отпуск\n",
    "* квартира\n",
    "* дом\n",
    "* отдых\n",
    "* дтп\n",
    "\n",
    "Из них можно выделить следующие виды страхования: \n",
    "* страхование автомобиля\n",
    "* страхование во время отпуска\n",
    "* страхование имущества\n",
    "\n",
    "Напишем функцию, которая принимает неизменяемую часть слова и возвращает все названия категорий с ним. Сначала попробуем стемминг и если не поймаем «чужих» названий — значит этот метод подойдет."
   ]
  },
  {
   "cell_type": "code",
   "execution_count": 270,
   "metadata": {},
   "outputs": [],
   "source": [
    "from nltk.stem import SnowballStemmer\n",
    "russian_stemmer = SnowballStemmer('russian')"
   ]
  },
  {
   "cell_type": "code",
   "execution_count": 271,
   "metadata": {},
   "outputs": [],
   "source": [
    "def get_cause_by_word(data, search_word):\n",
    "    return [ cat for cat in data.cause.unique() if russian_stemmer.stem(search_word) in cat]"
   ]
  },
  {
   "cell_type": "code",
   "execution_count": 272,
   "metadata": {},
   "outputs": [
    {
     "data": {
      "text/plain": [
       "['травма во время отдыха',\n",
       " 'сотрясение во время отдыха',\n",
       " 'несчастный случай на отдыхе']"
      ]
     },
     "execution_count": 272,
     "metadata": {},
     "output_type": "execute_result"
    }
   ],
   "source": [
    "get_cause_by_word(user_data, 'отдых')"
   ]
  },
  {
   "cell_type": "markdown",
   "metadata": {},
   "source": [
    "**Категоризация данных**"
   ]
  },
  {
   "cell_type": "markdown",
   "metadata": {},
   "source": [
    "Cловарь — распространенный способ хранения информации, который помогает убрать текстовые параметры из основной таблицы и увеличить эффективность работы с данными. Выделим словарь для возрастных групп."
   ]
  },
  {
   "cell_type": "code",
   "execution_count": 290,
   "metadata": {
    "scrolled": true
   },
   "outputs": [
    {
     "data": {
      "text/html": [
       "<div>\n",
       "<style scoped>\n",
       "    .dataframe tbody tr th:only-of-type {\n",
       "        vertical-align: middle;\n",
       "    }\n",
       "\n",
       "    .dataframe tbody tr th {\n",
       "        vertical-align: top;\n",
       "    }\n",
       "\n",
       "    .dataframe thead th {\n",
       "        text-align: right;\n",
       "    }\n",
       "</style>\n",
       "<table border=\"1\" class=\"dataframe\">\n",
       "  <thead>\n",
       "    <tr style=\"text-align: right;\">\n",
       "      <th></th>\n",
       "      <th>age_group</th>\n",
       "    </tr>\n",
       "    <tr>\n",
       "      <th>age_id</th>\n",
       "      <th></th>\n",
       "    </tr>\n",
       "  </thead>\n",
       "  <tbody>\n",
       "    <tr>\n",
       "      <th>4</th>\n",
       "      <td>пожилой</td>\n",
       "    </tr>\n",
       "    <tr>\n",
       "      <th>3</th>\n",
       "      <td>зрелый</td>\n",
       "    </tr>\n",
       "    <tr>\n",
       "      <th>2</th>\n",
       "      <td>молодой</td>\n",
       "    </tr>\n",
       "  </tbody>\n",
       "</table>\n",
       "</div>"
      ],
      "text/plain": [
       "       age_group\n",
       "age_id          \n",
       "4        пожилой\n",
       "3         зрелый\n",
       "2        молодой"
      ]
     },
     "execution_count": 290,
     "metadata": {},
     "output_type": "execute_result"
    }
   ],
   "source": [
    "#age_group_df = user_data[['age_id', 'age_group']].drop_duplicates().reset_index(drop=True)\n",
    "age_group_df = user_data.loc[:,('age_id', 'age_group')].drop_duplicates().set_index('age_id')\n",
    "age_group_df"
   ]
  },
  {
   "cell_type": "markdown",
   "metadata": {},
   "source": [
    "Категоризируем причины выплаты страховых платежей с помощью лемматизации."
   ]
  },
  {
   "cell_type": "code",
   "execution_count": 399,
   "metadata": {},
   "outputs": [],
   "source": [
    "# тут прям очень долго мучалась с перформансом, пока не вынесла инициализацию Mystem :)\n",
    "m = Mystem()\n",
    "def insurance_cause_category(cause_text):\n",
    "    from pymystem3 import Mystem\n",
    "    \n",
    "    cat_1, cat_1_list = 'страхование автомобиля', ['автомобиль', 'авто', 'дтп']\n",
    "    cat_2, cat_2_list = 'страхование во время отпуска', ['отдых', 'отпуск']\n",
    "    cat_3, cat_3_list = 'страхование имущества', ['квартира', 'дом', 'дача', 'жилье']\n",
    "    \n",
    "    #m = Mystem()\n",
    "    lemmas = m.lemmatize(cause_text)\n",
    "    \n",
    "    # categorize\n",
    "    if any(el in cat_1_list for el in lemmas):\n",
    "        return cat_1\n",
    "    elif any(el in cat_2_list for el in lemmas):\n",
    "        return cat_2\n",
    "    elif any(el in cat_3_list for el in lemmas):\n",
    "        return cat_3\n",
    "    return 'unknown'"
   ]
  },
  {
   "cell_type": "code",
   "execution_count": 429,
   "metadata": {},
   "outputs": [
    {
     "data": {
      "text/plain": [
       "страхование автомобиля          876\n",
       "страхование имущества           762\n",
       "страхование во время отпуска    656\n",
       "Name: insurance_category, dtype: int64"
      ]
     },
     "execution_count": 429,
     "metadata": {},
     "output_type": "execute_result"
    }
   ],
   "source": [
    "user_data.loc[:,'insurance_category'] = user_data.cause.apply(insurance_cause_category)\n",
    "#user_data.groupby('insurance_category').count()\n",
    "user_data.insurance_category.value_counts()"
   ]
  },
  {
   "cell_type": "markdown",
   "metadata": {},
   "source": [
    "Категоризируем статус выплаты компенсации — 0 выплат, выплачена часть, полностью выплачена."
   ]
  },
  {
   "cell_type": "code",
   "execution_count": 279,
   "metadata": {
    "scrolled": false
   },
   "outputs": [],
   "source": [
    "def compensation_paid_category(value):\n",
    "    if value == 1:\n",
    "        return 'fully'\n",
    "    elif value == 0:\n",
    "        return 'not paid'\n",
    "    else: return 'partially'"
   ]
  },
  {
   "cell_type": "code",
   "execution_count": 280,
   "metadata": {},
   "outputs": [
    {
     "data": {
      "text/plain": [
       "partially    1788\n",
       "fully         356\n",
       "not paid      150\n",
       "Name: compensation_paid, dtype: int64"
      ]
     },
     "execution_count": 280,
     "metadata": {},
     "output_type": "execute_result"
    }
   ],
   "source": [
    "user_data.loc[:,'compensation_paid'] = user_data.perc_of_compensation_paid.apply(compensation_paid_category)\n",
    "#user_data.groupby('compensation_paid').id.count()\n",
    "user_data.compensation_paid.value_counts()"
   ]
  },
  {
   "cell_type": "markdown",
   "metadata": {},
   "source": [
    "Категоризируем `income`, разбив данные по квантилям."
   ]
  },
  {
   "cell_type": "code",
   "execution_count": 430,
   "metadata": {},
   "outputs": [
    {
     "data": {
      "text/plain": [
       "(-1.0, 106888.0]         574\n",
       "(241590.0, 2700040.0]    574\n",
       "(106888.0, 168690.0]     573\n",
       "(168690.0, 241590.0]     573\n",
       "Name: income_quantile, dtype: int64"
      ]
     },
     "execution_count": 430,
     "metadata": {},
     "output_type": "execute_result"
    }
   ],
   "source": [
    "user_data.loc[:,'income_quantile'] = pd.qcut(user_data['income'], q=4, precision=0)\n",
    "user_data.income_quantile.value_counts()"
   ]
  },
  {
   "cell_type": "markdown",
   "metadata": {},
   "source": [
    "## Результаты"
   ]
  },
  {
   "cell_type": "markdown",
   "metadata": {},
   "source": [
    "Подготовим 3 таблицы и изучим результат."
   ]
  },
  {
   "cell_type": "code",
   "execution_count": 418,
   "metadata": {},
   "outputs": [
    {
     "data": {
      "text/html": [
       "<div>\n",
       "<style scoped>\n",
       "    .dataframe tbody tr th:only-of-type {\n",
       "        vertical-align: middle;\n",
       "    }\n",
       "\n",
       "    .dataframe tbody tr th {\n",
       "        vertical-align: top;\n",
       "    }\n",
       "\n",
       "    .dataframe thead tr th {\n",
       "        text-align: left;\n",
       "    }\n",
       "</style>\n",
       "<table border=\"1\" class=\"dataframe\">\n",
       "  <thead>\n",
       "    <tr>\n",
       "      <th>compensation_paid</th>\n",
       "      <th colspan=\"3\" halign=\"left\">fully</th>\n",
       "      <th colspan=\"3\" halign=\"left\">not paid</th>\n",
       "      <th colspan=\"3\" halign=\"left\">partially</th>\n",
       "    </tr>\n",
       "    <tr>\n",
       "      <th>age_group</th>\n",
       "      <th>зрелый</th>\n",
       "      <th>молодой</th>\n",
       "      <th>пожилой</th>\n",
       "      <th>зрелый</th>\n",
       "      <th>молодой</th>\n",
       "      <th>пожилой</th>\n",
       "      <th>зрелый</th>\n",
       "      <th>молодой</th>\n",
       "      <th>пожилой</th>\n",
       "    </tr>\n",
       "  </thead>\n",
       "  <tbody>\n",
       "    <tr>\n",
       "      <th>id</th>\n",
       "      <td>100</td>\n",
       "      <td>52</td>\n",
       "      <td>204</td>\n",
       "      <td>62</td>\n",
       "      <td>31</td>\n",
       "      <td>57</td>\n",
       "      <td>884</td>\n",
       "      <td>206</td>\n",
       "      <td>698</td>\n",
       "    </tr>\n",
       "  </tbody>\n",
       "</table>\n",
       "</div>"
      ],
      "text/plain": [
       "compensation_paid  fully                 not paid                 partially  \\\n",
       "age_group         зрелый молодой пожилой   зрелый молодой пожилой    зрелый   \n",
       "id                   100      52     204       62      31      57       884   \n",
       "\n",
       "compensation_paid                  \n",
       "age_group         молодой пожилой  \n",
       "id                    206     698  "
      ]
     },
     "execution_count": 418,
     "metadata": {},
     "output_type": "execute_result"
    }
   ],
   "source": [
    "compensation_by_age = user_data.pivot_table(index=['compensation_paid','age_group'], values='id', aggfunc='count').transpose()\n",
    "compensation_by_age"
   ]
  },
  {
   "cell_type": "code",
   "execution_count": 422,
   "metadata": {},
   "outputs": [
    {
     "data": {
      "text/html": [
       "<div>\n",
       "<style scoped>\n",
       "    .dataframe tbody tr th:only-of-type {\n",
       "        vertical-align: middle;\n",
       "    }\n",
       "\n",
       "    .dataframe tbody tr th {\n",
       "        vertical-align: top;\n",
       "    }\n",
       "\n",
       "    .dataframe thead tr th {\n",
       "        text-align: left;\n",
       "    }\n",
       "</style>\n",
       "<table border=\"1\" class=\"dataframe\">\n",
       "  <thead>\n",
       "    <tr>\n",
       "      <th>compensation_paid</th>\n",
       "      <th colspan=\"3\" halign=\"left\">fully</th>\n",
       "      <th colspan=\"3\" halign=\"left\">not paid</th>\n",
       "      <th colspan=\"3\" halign=\"left\">partially</th>\n",
       "    </tr>\n",
       "    <tr>\n",
       "      <th>insurance_category</th>\n",
       "      <th>страхование автомобиля</th>\n",
       "      <th>страхование во время отпуска</th>\n",
       "      <th>страхование имущества</th>\n",
       "      <th>страхование автомобиля</th>\n",
       "      <th>страхование во время отпуска</th>\n",
       "      <th>страхование имущества</th>\n",
       "      <th>страхование автомобиля</th>\n",
       "      <th>страхование во время отпуска</th>\n",
       "      <th>страхование имущества</th>\n",
       "    </tr>\n",
       "  </thead>\n",
       "  <tbody>\n",
       "    <tr>\n",
       "      <th>id</th>\n",
       "      <td>182</td>\n",
       "      <td>78</td>\n",
       "      <td>96</td>\n",
       "      <td>54</td>\n",
       "      <td>42</td>\n",
       "      <td>54</td>\n",
       "      <td>640</td>\n",
       "      <td>536</td>\n",
       "      <td>612</td>\n",
       "    </tr>\n",
       "  </tbody>\n",
       "</table>\n",
       "</div>"
      ],
      "text/plain": [
       "compensation_paid                   fully                               \\\n",
       "insurance_category страхование автомобиля страхование во время отпуска   \n",
       "id                                    182                           78   \n",
       "\n",
       "compensation_paid                                      not paid  \\\n",
       "insurance_category страхование имущества страхование автомобиля   \n",
       "id                                    96                     54   \n",
       "\n",
       "compensation_paid                                                      \\\n",
       "insurance_category страхование во время отпуска страхование имущества   \n",
       "id                                           42                    54   \n",
       "\n",
       "compensation_paid               partially                               \\\n",
       "insurance_category страхование автомобиля страхование во время отпуска   \n",
       "id                                    640                          536   \n",
       "\n",
       "compensation_paid                         \n",
       "insurance_category страхование имущества  \n",
       "id                                   612  "
      ]
     },
     "execution_count": 422,
     "metadata": {},
     "output_type": "execute_result"
    }
   ],
   "source": [
    "compensation_by_cause = user_data.pivot_table(index=['compensation_paid','insurance_category'], values='id', aggfunc='count').transpose()\n",
    "compensation_by_cause"
   ]
  },
  {
   "cell_type": "code",
   "execution_count": 423,
   "metadata": {},
   "outputs": [
    {
     "data": {
      "text/html": [
       "<div>\n",
       "<style scoped>\n",
       "    .dataframe tbody tr th:only-of-type {\n",
       "        vertical-align: middle;\n",
       "    }\n",
       "\n",
       "    .dataframe tbody tr th {\n",
       "        vertical-align: top;\n",
       "    }\n",
       "\n",
       "    .dataframe thead tr th {\n",
       "        text-align: left;\n",
       "    }\n",
       "</style>\n",
       "<table border=\"1\" class=\"dataframe\">\n",
       "  <thead>\n",
       "    <tr>\n",
       "      <th>compensation_paid</th>\n",
       "      <th colspan=\"4\" halign=\"left\">fully</th>\n",
       "      <th colspan=\"4\" halign=\"left\">not paid</th>\n",
       "      <th colspan=\"4\" halign=\"left\">partially</th>\n",
       "    </tr>\n",
       "    <tr>\n",
       "      <th>income_quantile</th>\n",
       "      <th>(-1.0, 106888.0]</th>\n",
       "      <th>(106888.0, 168690.0]</th>\n",
       "      <th>(168690.0, 241590.0]</th>\n",
       "      <th>(241590.0, 2700040.0]</th>\n",
       "      <th>(-1.0, 106888.0]</th>\n",
       "      <th>(106888.0, 168690.0]</th>\n",
       "      <th>(168690.0, 241590.0]</th>\n",
       "      <th>(241590.0, 2700040.0]</th>\n",
       "      <th>(-1.0, 106888.0]</th>\n",
       "      <th>(106888.0, 168690.0]</th>\n",
       "      <th>(168690.0, 241590.0]</th>\n",
       "      <th>(241590.0, 2700040.0]</th>\n",
       "    </tr>\n",
       "  </thead>\n",
       "  <tbody>\n",
       "    <tr>\n",
       "      <th>id</th>\n",
       "      <td>110</td>\n",
       "      <td>85</td>\n",
       "      <td>79</td>\n",
       "      <td>82</td>\n",
       "      <td>56</td>\n",
       "      <td>34</td>\n",
       "      <td>32</td>\n",
       "      <td>28</td>\n",
       "      <td>408</td>\n",
       "      <td>454</td>\n",
       "      <td>462</td>\n",
       "      <td>464</td>\n",
       "    </tr>\n",
       "  </tbody>\n",
       "</table>\n",
       "</div>"
      ],
      "text/plain": [
       "compensation_paid            fully                                            \\\n",
       "income_quantile   (-1.0, 106888.0] (106888.0, 168690.0] (168690.0, 241590.0]   \n",
       "id                             110                   85                   79   \n",
       "\n",
       "compensation_paid                               not paid                       \\\n",
       "income_quantile   (241590.0, 2700040.0] (-1.0, 106888.0] (106888.0, 168690.0]   \n",
       "id                                   82               56                   34   \n",
       "\n",
       "compensation_paid                                                   partially  \\\n",
       "income_quantile   (168690.0, 241590.0] (241590.0, 2700040.0] (-1.0, 106888.0]   \n",
       "id                                  32                    28              408   \n",
       "\n",
       "compensation_paid                                            \\\n",
       "income_quantile   (106888.0, 168690.0] (168690.0, 241590.0]   \n",
       "id                                 454                  462   \n",
       "\n",
       "compensation_paid                        \n",
       "income_quantile   (241590.0, 2700040.0]  \n",
       "id                                  464  "
      ]
     },
     "execution_count": 423,
     "metadata": {},
     "output_type": "execute_result"
    }
   ],
   "source": [
    "compensation_by_income = user_data.pivot_table(index=['compensation_paid','income_quantile'], values='id', aggfunc='count').transpose()\n",
    "compensation_by_income"
   ]
  },
  {
   "cell_type": "markdown",
   "metadata": {},
   "source": [
    "*ответьте на вопрос — есть ли зависимость между возрастной группой и статусом выплаты?*"
   ]
  },
  {
   "cell_type": "markdown",
   "metadata": {
    "scrolled": true
   },
   "source": [
    "По данным можно сделать вывод, что \n",
    "* клиентам относящие к категории \"пожилой\" в большем количестве выплачивается полная компенсация.\n",
    "* клиентам относящие к категории \"зрелый\" в большем количестве не выплачивается компенсация.\n",
    "* клиентам относящие к категории \"зрелый\" в большем количестве частично выплачивается компенсация."
   ]
  },
  {
   "cell_type": "markdown",
   "metadata": {},
   "source": [
    "*есть ли зависимость между причиной страхового случая и статусом выплаты?*"
   ]
  },
  {
   "cell_type": "markdown",
   "metadata": {
    "scrolled": false
   },
   "source": [
    "По данным можно сделать вывод, что\n",
    "\n",
    "* больше всего полная компенсация выплачивается в случае страхование автомобиля\n",
    "* больше всего компенсация не выплачивается в случае страхование автомобиля и страхование имущества.\n",
    "* больше всего частично компенсация выплачивается так же в случае страхование автомобиля и страхование имущества."
   ]
  },
  {
   "cell_type": "markdown",
   "metadata": {},
   "source": [
    "*есть ли зависимость между доходом клиента и статусом выплаты?*"
   ]
  },
  {
   "cell_type": "markdown",
   "metadata": {},
   "source": [
    "По данным можно сделать вывод, что\n",
    "\n",
    "* больше всего полная компенсация выплачивается клиентам с самым низким доходом\n",
    "* больше всего компенсация не выплачивается так же клиентам с самым низким доходом\n",
    "* больше всего частично компенсация выплачивается клиентам с самым высоким доходом и с доходом в интервале третьего квантиля"
   ]
  },
  {
   "cell_type": "markdown",
   "metadata": {},
   "source": [
    "<h3><font color=\"#89DD00\">Комментарий ассистента</font></h3>\n",
    "\n",
    "Всё отлично!"
   ]
  }
 ],
 "metadata": {
  "colab": {
   "collapsed_sections": [],
   "name": "Копия блокнота \"notebook_03_username.ipynb\"",
   "provenance": [],
   "toc_visible": true
  },
  "kernelspec": {
   "display_name": "Python 3",
   "language": "python",
   "name": "python3"
  },
  "language_info": {
   "codemirror_mode": {
    "name": "ipython",
    "version": 3
   },
   "file_extension": ".py",
   "mimetype": "text/x-python",
   "name": "python",
   "nbconvert_exporter": "python",
   "pygments_lexer": "ipython3",
   "version": "3.8.3"
  }
 },
 "nbformat": 4,
 "nbformat_minor": 1
}

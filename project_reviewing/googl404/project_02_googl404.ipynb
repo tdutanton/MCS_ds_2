{
 "cells": [
  {
   "cell_type": "markdown",
   "metadata": {},
   "source": [
    "<p><img src=\"https://files.cdn.thinkific.com/file_uploads/133292/images/a9e/c1a/bc3/P02.jpg\"></p>"
   ]
  },
  {
   "cell_type": "markdown",
   "metadata": {
    "id": "e5Vts0g2oUvy"
   },
   "source": [
    "`MCSDSC02P01V3______`\n",
    "\n",
    "`MCSDSC02P01V2______`\n",
    "\n",
    "`MCSDSELIMC02P01V1010621`"
   ]
  },
  {
   "cell_type": "markdown",
   "metadata": {},
   "source": [
    "<h3><font color=\"#FF0F00\">Комментарий ассистента</font></h3>\n",
    "\n",
    "Привет! Учитывая, что сейчас на курсе нет теории по предобратке на Pandas (не считая модуля в курсе по ML), твоя итерация очень достойная!\n",
    "\n",
    "Как обычно, заголовки (комментариев) будут трех цветов. <font color=\"89DD00\">Зеленый</font> — все правильно (и если комментария нет, то это также значит, что все правильно). <font color=\"FFB800\">Желтый</font> — можно доработать. <font color=\"FF0F00\">Красный</font> — нужно исправить.\n",
    "\n",
    "Постарайся учесть эти комментарии в ходе доработки проекта и не удаляй их."
   ]
  },
  {
   "cell_type": "markdown",
   "metadata": {},
   "source": [
    "## Постановка задачи"
   ]
  },
  {
   "cell_type": "markdown",
   "metadata": {},
   "source": [
    "Предоставлена информация об использовании приложении предварительного заказа столиков в ректоранах на территории дизайн-завода Флакон и Хлебозавода №9 с возможностью предзаказа блюд к приходу. Необходимо изучить данные сервиса с тестового запускаи ответить на вопросы, поставленные менеджером проекта:\n",
    "\n",
    "- На какие кафе приходится больше всего заказов? А на какие дни?\n",
    "- Чаще ли приложением пользуются именно в обеденное время?\n",
    "- Насколько большими компаниями  (или наоборот поодиночке) приходят в кафе?\n",
    "### План работы:\n",
    " 1. Подготовить датасет: \n",
    "        1. Привести к общим значениям и формату наименования столбцов и кафе.\n",
    "        2. Удалить дубликаты.\n",
    "        3. Проверить на наличие  пропусков.\n",
    " 2. Рассмотреть распределение заказов: \n",
    "    1. Посчитать общее количество заказов для каждого ресторана, выявить популярные.\n",
    "    2. Выявить распределение бронирований по дням недели.\n",
    "    3. Проанализировать время посещения.\n",
    "    4. Найти наиболее частое количество персон за заказанным столиком.\n",
    " 3. Сформулировать выводы на основании полученных данных."
   ]
  },
  {
   "cell_type": "markdown",
   "metadata": {},
   "source": [
    "<h3><font color=\"#FFB800\">Комментарий ассистента</font></h3>\n",
    "\n",
    "Желательно еще добавить строчку про сам сервис — что он из себя представляет, что делает.\n",
    "\n",
    "В остальном тут ОК."
   ]
  },
  {
   "cell_type": "markdown",
   "metadata": {},
   "source": [
    "## Импорт данных и библиотек"
   ]
  },
  {
   "cell_type": "code",
   "execution_count": 1,
   "metadata": {},
   "outputs": [],
   "source": [
    "import pandas as pd\n",
    "from datetime import datetime as dt"
   ]
  },
  {
   "cell_type": "markdown",
   "metadata": {},
   "source": [
    "Прочитаем файл `bez_ocheredi.csv` и сохраним его в переменную `bo_data`."
   ]
  },
  {
   "cell_type": "code",
   "execution_count": 2,
   "metadata": {},
   "outputs": [],
   "source": [
    "bo_data=pd.read_csv(\"../../data/bez_ocheredi.csv\")"
   ]
  },
  {
   "cell_type": "markdown",
   "metadata": {},
   "source": [
    "<h3><font color=\"#FFB800\">Комментарий ассистента</font></h3>\n",
    "\n",
    "Название `df` не позволяет понять какие именно данные в нем записаны. Желательно учесть рекомендации и назвать датафрейм, например, `bo_data`."
   ]
  },
  {
   "cell_type": "markdown",
   "metadata": {},
   "source": [
    "Получим первые 10 строк таблицы."
   ]
  },
  {
   "cell_type": "code",
   "execution_count": 3,
   "metadata": {
    "scrolled": false
   },
   "outputs": [
    {
     "data": {
      "text/html": [
       "<div>\n",
       "<style scoped>\n",
       "    .dataframe tbody tr th:only-of-type {\n",
       "        vertical-align: middle;\n",
       "    }\n",
       "\n",
       "    .dataframe tbody tr th {\n",
       "        vertical-align: top;\n",
       "    }\n",
       "\n",
       "    .dataframe thead th {\n",
       "        text-align: right;\n",
       "    }\n",
       "</style>\n",
       "<table border=\"1\" class=\"dataframe\">\n",
       "  <thead>\n",
       "    <tr style=\"text-align: right;\">\n",
       "      <th></th>\n",
       "      <th>userID</th>\n",
       "      <th>ресторан</th>\n",
       "      <th>weekday</th>\n",
       "      <th>ordered</th>\n",
       "      <th>Столик для</th>\n",
       "    </tr>\n",
       "  </thead>\n",
       "  <tbody>\n",
       "    <tr>\n",
       "      <th>0</th>\n",
       "      <td>b912c3c6a6ad</td>\n",
       "      <td>Iskra Bar</td>\n",
       "      <td>Monday</td>\n",
       "      <td>10:00</td>\n",
       "      <td>1</td>\n",
       "    </tr>\n",
       "    <tr>\n",
       "      <th>1</th>\n",
       "      <td>2dac0150717d</td>\n",
       "      <td>Iskra Bar</td>\n",
       "      <td>Monday</td>\n",
       "      <td>13:30</td>\n",
       "      <td>2</td>\n",
       "    </tr>\n",
       "    <tr>\n",
       "      <th>2</th>\n",
       "      <td>ba83aefab5dc</td>\n",
       "      <td>Iskra Bar</td>\n",
       "      <td>Tuesday</td>\n",
       "      <td>12:30</td>\n",
       "      <td>3</td>\n",
       "    </tr>\n",
       "    <tr>\n",
       "      <th>3</th>\n",
       "      <td>02996f1dd2ea</td>\n",
       "      <td>Iskra Bar</td>\n",
       "      <td>Wednesday</td>\n",
       "      <td>12:00</td>\n",
       "      <td>2</td>\n",
       "    </tr>\n",
       "    <tr>\n",
       "      <th>4</th>\n",
       "      <td>7c90be56d2ab</td>\n",
       "      <td>Iskra Bar</td>\n",
       "      <td>Thursday</td>\n",
       "      <td>14:30</td>\n",
       "      <td>3</td>\n",
       "    </tr>\n",
       "    <tr>\n",
       "      <th>5</th>\n",
       "      <td>51e0962387f7</td>\n",
       "      <td>Там Ем</td>\n",
       "      <td>Friday</td>\n",
       "      <td>12:30</td>\n",
       "      <td>2</td>\n",
       "    </tr>\n",
       "    <tr>\n",
       "      <th>6</th>\n",
       "      <td>c4f260a2b48a</td>\n",
       "      <td>NaN</td>\n",
       "      <td>Saturday</td>\n",
       "      <td>15:00</td>\n",
       "      <td>6</td>\n",
       "    </tr>\n",
       "    <tr>\n",
       "      <th>7</th>\n",
       "      <td>6b71309d6a8a</td>\n",
       "      <td>Крафтейнер</td>\n",
       "      <td>Monday</td>\n",
       "      <td>10:30</td>\n",
       "      <td>1</td>\n",
       "    </tr>\n",
       "    <tr>\n",
       "      <th>8</th>\n",
       "      <td>c5b969cb63a2</td>\n",
       "      <td>Бар Сибирь</td>\n",
       "      <td>Wednesday</td>\n",
       "      <td>15:30</td>\n",
       "      <td>2</td>\n",
       "    </tr>\n",
       "    <tr>\n",
       "      <th>9</th>\n",
       "      <td>b1570962e68c</td>\n",
       "      <td>Бар Сибирь</td>\n",
       "      <td>Wednesday</td>\n",
       "      <td>12:30</td>\n",
       "      <td>3</td>\n",
       "    </tr>\n",
       "  </tbody>\n",
       "</table>\n",
       "</div>"
      ],
      "text/plain": [
       "        userID    ресторан     weekday  ordered    Столик для \n",
       "0  b912c3c6a6ad   Iskra Bar     Monday     10:00             1\n",
       "1  2dac0150717d   Iskra Bar     Monday     13:30             2\n",
       "2  ba83aefab5dc   Iskra Bar    Tuesday     12:30             3\n",
       "3  02996f1dd2ea   Iskra Bar  Wednesday     12:00             2\n",
       "4  7c90be56d2ab   Iskra Bar   Thursday     14:30             3\n",
       "5  51e0962387f7      Там Ем     Friday     12:30             2\n",
       "6  c4f260a2b48a         NaN   Saturday     15:00             6\n",
       "7  6b71309d6a8a  Крафтейнер     Monday     10:30             1\n",
       "8  c5b969cb63a2  Бар Сибирь  Wednesday     15:30             2\n",
       "9  b1570962e68c  Бар Сибирь  Wednesday     12:30             3"
      ]
     },
     "execution_count": 3,
     "metadata": {},
     "output_type": "execute_result"
    }
   ],
   "source": [
    "bo_data.head(10)"
   ]
  },
  {
   "cell_type": "markdown",
   "metadata": {},
   "source": [
    "Получим общую информацию о данных из таблицы."
   ]
  },
  {
   "cell_type": "code",
   "execution_count": 4,
   "metadata": {
    "scrolled": true
   },
   "outputs": [
    {
     "name": "stdout",
     "output_type": "stream",
     "text": [
      "<class 'pandas.core.frame.DataFrame'>\n",
      "RangeIndex: 1024 entries, 0 to 1023\n",
      "Data columns (total 5 columns):\n",
      " #   Column        Non-Null Count  Dtype \n",
      "---  ------        --------------  ----- \n",
      " 0   userID        1024 non-null   object\n",
      " 1    ресторан     959 non-null    object\n",
      " 2    weekday      1024 non-null   object\n",
      " 3    ordered      1024 non-null   object\n",
      " 4    Столик для   1024 non-null   int64 \n",
      "dtypes: int64(1), object(4)\n",
      "memory usage: 40.1+ KB\n"
     ]
    }
   ],
   "source": [
    "bo_data.info()"
   ]
  },
  {
   "cell_type": "markdown",
   "metadata": {},
   "source": [
    "<h3><font color=\"#FFB800\">Комментарий ассистента</font></h3>\n",
    "\n",
    "Самым оптимальным для этого набора данных будет метод `info()`. Проверку на пропуски `isnull()` выполним дальше, отсюда можно убрать. Также рекомендуем выводить разные запросы в отдельных ячейках"
   ]
  },
  {
   "cell_type": "markdown",
   "metadata": {},
   "source": [
    "Столбцы в `bo_data` содержат следующую информацию:\n",
    "\n",
    " - ID посетителя\n",
    " - название ресторана\n",
    " - день бронирования\n",
    " - время прихода \n",
    " - планируемое количество посетителей"
   ]
  },
  {
   "cell_type": "markdown",
   "metadata": {},
   "source": [
    "<h3><font color=\"FFB800\">Комментарий ассистента</font></h3>\n",
    "\n",
    "Через запятую здесь не очень воспринимается, лучше перечислить данные через буллиты:\n",
    "\n",
    "* ...\n",
    "* ..."
   ]
  },
  {
   "cell_type": "markdown",
   "metadata": {},
   "source": [
    "### Выводы"
   ]
  },
  {
   "cell_type": "markdown",
   "metadata": {},
   "source": [
    "* Для работы с датасетом потребуется подготовка и преообразование данных, есть поле времени, текстовые значения дней недели и наименований ресторанов. ID посетителя не потребуется, кроме как для исключения дубликатов."
   ]
  },
  {
   "cell_type": "markdown",
   "metadata": {},
   "source": [
    "<h3><font color=\"89DD00\">Комментарий ассистента</font></h3>\n",
    "\n",
    "Все верно, в выводах обращаем внимание на структуру данных, дубликаты и пропуски. Единственное, попробуй все-таки метод `info()`."
   ]
  },
  {
   "cell_type": "markdown",
   "metadata": {},
   "source": [
    "## Предобработка данных"
   ]
  },
  {
   "cell_type": "markdown",
   "metadata": {},
   "source": [
    "Получим названия столбцов."
   ]
  },
  {
   "cell_type": "code",
   "execution_count": 5,
   "metadata": {
    "scrolled": false
   },
   "outputs": [
    {
     "data": {
      "text/plain": [
       "Index(['userID ', ' ресторан ', ' weekday', ' ordered ', ' Столик для '], dtype='object')"
      ]
     },
     "execution_count": 5,
     "metadata": {},
     "output_type": "execute_result"
    }
   ],
   "source": [
    "bo_data.columns"
   ]
  },
  {
   "cell_type": "markdown",
   "metadata": {},
   "source": [
    "Обращаем внимание, что помимо названий на разном языке, в них есть пробелы, которые затрудняют доступ к данным. Переименуем столбцы и проверим результат."
   ]
  },
  {
   "cell_type": "code",
   "execution_count": 6,
   "metadata": {},
   "outputs": [
    {
     "data": {
      "text/html": [
       "<div>\n",
       "<style scoped>\n",
       "    .dataframe tbody tr th:only-of-type {\n",
       "        vertical-align: middle;\n",
       "    }\n",
       "\n",
       "    .dataframe tbody tr th {\n",
       "        vertical-align: top;\n",
       "    }\n",
       "\n",
       "    .dataframe thead th {\n",
       "        text-align: right;\n",
       "    }\n",
       "</style>\n",
       "<table border=\"1\" class=\"dataframe\">\n",
       "  <thead>\n",
       "    <tr style=\"text-align: right;\">\n",
       "      <th></th>\n",
       "      <th>user_ID</th>\n",
       "      <th>rest_name</th>\n",
       "      <th>weekday</th>\n",
       "      <th>ordered_time</th>\n",
       "      <th>visitor_num</th>\n",
       "    </tr>\n",
       "  </thead>\n",
       "  <tbody>\n",
       "    <tr>\n",
       "      <th>0</th>\n",
       "      <td>b912c3c6a6ad</td>\n",
       "      <td>Iskra Bar</td>\n",
       "      <td>Monday</td>\n",
       "      <td>10:00</td>\n",
       "      <td>1</td>\n",
       "    </tr>\n",
       "    <tr>\n",
       "      <th>1</th>\n",
       "      <td>2dac0150717d</td>\n",
       "      <td>Iskra Bar</td>\n",
       "      <td>Monday</td>\n",
       "      <td>13:30</td>\n",
       "      <td>2</td>\n",
       "    </tr>\n",
       "    <tr>\n",
       "      <th>2</th>\n",
       "      <td>ba83aefab5dc</td>\n",
       "      <td>Iskra Bar</td>\n",
       "      <td>Tuesday</td>\n",
       "      <td>12:30</td>\n",
       "      <td>3</td>\n",
       "    </tr>\n",
       "    <tr>\n",
       "      <th>3</th>\n",
       "      <td>02996f1dd2ea</td>\n",
       "      <td>Iskra Bar</td>\n",
       "      <td>Wednesday</td>\n",
       "      <td>12:00</td>\n",
       "      <td>2</td>\n",
       "    </tr>\n",
       "    <tr>\n",
       "      <th>4</th>\n",
       "      <td>7c90be56d2ab</td>\n",
       "      <td>Iskra Bar</td>\n",
       "      <td>Thursday</td>\n",
       "      <td>14:30</td>\n",
       "      <td>3</td>\n",
       "    </tr>\n",
       "    <tr>\n",
       "      <th>...</th>\n",
       "      <td>...</td>\n",
       "      <td>...</td>\n",
       "      <td>...</td>\n",
       "      <td>...</td>\n",
       "      <td>...</td>\n",
       "    </tr>\n",
       "    <tr>\n",
       "      <th>1019</th>\n",
       "      <td>4b136de2c16a</td>\n",
       "      <td>Iskra Bar</td>\n",
       "      <td>Saturday</td>\n",
       "      <td>11:30</td>\n",
       "      <td>2</td>\n",
       "    </tr>\n",
       "    <tr>\n",
       "      <th>1020</th>\n",
       "      <td>9e46b91cc547</td>\n",
       "      <td>Бар Сибирь</td>\n",
       "      <td>Thursday</td>\n",
       "      <td>10:00</td>\n",
       "      <td>2</td>\n",
       "    </tr>\n",
       "    <tr>\n",
       "      <th>1021</th>\n",
       "      <td>5ca79042c44d</td>\n",
       "      <td>Там Ем</td>\n",
       "      <td>Thursday</td>\n",
       "      <td>14:00</td>\n",
       "      <td>3</td>\n",
       "    </tr>\n",
       "    <tr>\n",
       "      <th>1022</th>\n",
       "      <td>e0f9dfd1726c</td>\n",
       "      <td>Там Ем</td>\n",
       "      <td>Tuesday</td>\n",
       "      <td>17:30</td>\n",
       "      <td>1</td>\n",
       "    </tr>\n",
       "    <tr>\n",
       "      <th>1023</th>\n",
       "      <td>401d5fa8e55d</td>\n",
       "      <td>Там Ем</td>\n",
       "      <td>Wednesday</td>\n",
       "      <td>20:30</td>\n",
       "      <td>1</td>\n",
       "    </tr>\n",
       "  </tbody>\n",
       "</table>\n",
       "<p>1024 rows × 5 columns</p>\n",
       "</div>"
      ],
      "text/plain": [
       "           user_ID   rest_name    weekday ordered_time  visitor_num\n",
       "0     b912c3c6a6ad   Iskra Bar     Monday        10:00            1\n",
       "1     2dac0150717d   Iskra Bar     Monday        13:30            2\n",
       "2     ba83aefab5dc   Iskra Bar    Tuesday        12:30            3\n",
       "3     02996f1dd2ea   Iskra Bar  Wednesday        12:00            2\n",
       "4     7c90be56d2ab   Iskra Bar   Thursday        14:30            3\n",
       "...            ...         ...        ...          ...          ...\n",
       "1019  4b136de2c16a   Iskra Bar   Saturday        11:30            2\n",
       "1020  9e46b91cc547  Бар Сибирь   Thursday        10:00            2\n",
       "1021  5ca79042c44d      Там Ем   Thursday        14:00            3\n",
       "1022  e0f9dfd1726c      Там Ем    Tuesday        17:30            1\n",
       "1023  401d5fa8e55d      Там Ем  Wednesday        20:30            1\n",
       "\n",
       "[1024 rows x 5 columns]"
      ]
     },
     "execution_count": 6,
     "metadata": {},
     "output_type": "execute_result"
    }
   ],
   "source": [
    "bo_data.set_axis(['user_ID', 'rest_name', 'weekday', 'ordered_time', 'visitor_num'], axis='columns',  inplace = True)\n",
    "bo_data"
   ]
  },
  {
   "cell_type": "markdown",
   "metadata": {},
   "source": [
    "<h3><font color=\"#FFB800\">Комментарий ассистента</font></h3>\n",
    "\n",
    "Не надо отдельно удалять пробелы. Все столбцы можно переименовать с помощью одного метода — `set_axis()`. Передавай ему список с названиями столбцов, `axis='columns'`, `inplace = True` (последний аргумент — переименовывает именно существующий датафрейм, а не создает копию). Если хочешь переименовать только некоторые, то `rename()` подойдет, да, но опять же указывай `inplace = True`.\n",
    "\n",
    "userID — это camel case, а rest_name — snake_case. Лучше на чем-то одном остановиться и еще time назвать очевиднее: например, ordered_time."
   ]
  },
  {
   "cell_type": "code",
   "execution_count": 7,
   "metadata": {
    "scrolled": true
   },
   "outputs": [
    {
     "data": {
      "text/plain": [
       "Index(['user_ID', 'rest_name', 'weekday', 'ordered_time', 'visitor_num'], dtype='object')"
      ]
     },
     "execution_count": 7,
     "metadata": {},
     "output_type": "execute_result"
    }
   ],
   "source": [
    "bo_data.columns"
   ]
  },
  {
   "cell_type": "markdown",
   "metadata": {},
   "source": [
    "Еще раз проверим данные на наличие пропусков, просуммировав их."
   ]
  },
  {
   "cell_type": "code",
   "execution_count": 8,
   "metadata": {
    "scrolled": true
   },
   "outputs": [
    {
     "data": {
      "text/plain": [
       "user_ID          0\n",
       "rest_name       65\n",
       "weekday          0\n",
       "ordered_time     0\n",
       "visitor_num      0\n",
       "dtype: int64"
      ]
     },
     "execution_count": 8,
     "metadata": {},
     "output_type": "execute_result"
    }
   ],
   "source": [
    "bo_data.isnull().sum()"
   ]
  },
  {
   "cell_type": "markdown",
   "metadata": {},
   "source": [
    "Менеджер проекта предупреждал, что некоторые заказы заводились на тестовую карточку кафе без названия, поэтому есть смысл заполнить такой пропуск словом admin."
   ]
  },
  {
   "cell_type": "code",
   "execution_count": 9,
   "metadata": {},
   "outputs": [],
   "source": [
    "bo_data['rest_name']=bo_data['rest_name'].fillna(value=\"admin\")"
   ]
  },
  {
   "cell_type": "markdown",
   "metadata": {},
   "source": [
    "Проверяем, что пропусков не осталось."
   ]
  },
  {
   "cell_type": "code",
   "execution_count": 10,
   "metadata": {
    "scrolled": true
   },
   "outputs": [
    {
     "data": {
      "text/plain": [
       "user_ID         0\n",
       "rest_name       0\n",
       "weekday         0\n",
       "ordered_time    0\n",
       "visitor_num     0\n",
       "dtype: int64"
      ]
     },
     "execution_count": 10,
     "metadata": {},
     "output_type": "execute_result"
    }
   ],
   "source": [
    "bo_data.isnull().sum()"
   ]
  },
  {
   "cell_type": "markdown",
   "metadata": {},
   "source": [
    "Установим количество явных дубликатов. Если найдутся, то удалим и снова проверим, что их не осталось."
   ]
  },
  {
   "cell_type": "code",
   "execution_count": 11,
   "metadata": {
    "scrolled": true
   },
   "outputs": [
    {
     "data": {
      "text/plain": [
       "24"
      ]
     },
     "execution_count": 11,
     "metadata": {},
     "output_type": "execute_result"
    }
   ],
   "source": [
    "bo_data.duplicated().sum()"
   ]
  },
  {
   "cell_type": "code",
   "execution_count": 12,
   "metadata": {},
   "outputs": [],
   "source": [
    "bo_data=bo_data.drop_duplicates().reset_index(drop=True)"
   ]
  },
  {
   "cell_type": "code",
   "execution_count": 13,
   "metadata": {
    "scrolled": true
   },
   "outputs": [
    {
     "data": {
      "text/html": [
       "<div>\n",
       "<style scoped>\n",
       "    .dataframe tbody tr th:only-of-type {\n",
       "        vertical-align: middle;\n",
       "    }\n",
       "\n",
       "    .dataframe tbody tr th {\n",
       "        vertical-align: top;\n",
       "    }\n",
       "\n",
       "    .dataframe thead th {\n",
       "        text-align: right;\n",
       "    }\n",
       "</style>\n",
       "<table border=\"1\" class=\"dataframe\">\n",
       "  <thead>\n",
       "    <tr style=\"text-align: right;\">\n",
       "      <th></th>\n",
       "      <th>user_ID</th>\n",
       "      <th>rest_name</th>\n",
       "      <th>weekday</th>\n",
       "      <th>ordered_time</th>\n",
       "      <th>visitor_num</th>\n",
       "    </tr>\n",
       "  </thead>\n",
       "  <tbody>\n",
       "    <tr>\n",
       "      <th>20</th>\n",
       "      <td>ea12aec32ec3</td>\n",
       "      <td>Северия</td>\n",
       "      <td>Tuesday</td>\n",
       "      <td>12:30</td>\n",
       "      <td>4</td>\n",
       "    </tr>\n",
       "    <tr>\n",
       "      <th>21</th>\n",
       "      <td>838a82cec0a6</td>\n",
       "      <td>admin</td>\n",
       "      <td>Wednesday</td>\n",
       "      <td>13:00</td>\n",
       "      <td>4</td>\n",
       "    </tr>\n",
       "    <tr>\n",
       "      <th>22</th>\n",
       "      <td>de310e6aae86</td>\n",
       "      <td>Северия</td>\n",
       "      <td>Thursday</td>\n",
       "      <td>12:00</td>\n",
       "      <td>2</td>\n",
       "    </tr>\n",
       "    <tr>\n",
       "      <th>23</th>\n",
       "      <td>08b24e170109</td>\n",
       "      <td>Северия</td>\n",
       "      <td>Saturday</td>\n",
       "      <td>11:00</td>\n",
       "      <td>3</td>\n",
       "    </tr>\n",
       "    <tr>\n",
       "      <th>24</th>\n",
       "      <td>065a4daba35f</td>\n",
       "      <td>Бар Сибирь</td>\n",
       "      <td>Tuesday</td>\n",
       "      <td>13:30</td>\n",
       "      <td>1</td>\n",
       "    </tr>\n",
       "    <tr>\n",
       "      <th>25</th>\n",
       "      <td>990113ae4f1c</td>\n",
       "      <td>Крафтейнер</td>\n",
       "      <td>Monday</td>\n",
       "      <td>13:30</td>\n",
       "      <td>1</td>\n",
       "    </tr>\n",
       "    <tr>\n",
       "      <th>26</th>\n",
       "      <td>78164bc09657</td>\n",
       "      <td>Там Ем</td>\n",
       "      <td>Sunday</td>\n",
       "      <td>15:30</td>\n",
       "      <td>1</td>\n",
       "    </tr>\n",
       "    <tr>\n",
       "      <th>27</th>\n",
       "      <td>fbe29970a8a5</td>\n",
       "      <td>Бар Сибирь</td>\n",
       "      <td>Friday</td>\n",
       "      <td>16:00</td>\n",
       "      <td>3</td>\n",
       "    </tr>\n",
       "  </tbody>\n",
       "</table>\n",
       "</div>"
      ],
      "text/plain": [
       "         user_ID   rest_name    weekday ordered_time  visitor_num\n",
       "20  ea12aec32ec3     Северия    Tuesday        12:30            4\n",
       "21  838a82cec0a6       admin  Wednesday        13:00            4\n",
       "22  de310e6aae86     Северия   Thursday        12:00            2\n",
       "23  08b24e170109     Северия   Saturday        11:00            3\n",
       "24  065a4daba35f  Бар Сибирь    Tuesday        13:30            1\n",
       "25  990113ae4f1c  Крафтейнер     Monday        13:30            1\n",
       "26  78164bc09657      Там Ем     Sunday        15:30            1\n",
       "27  fbe29970a8a5  Бар Сибирь     Friday        16:00            3"
      ]
     },
     "execution_count": 13,
     "metadata": {},
     "output_type": "execute_result"
    }
   ],
   "source": [
    "bo_data.loc[20:27]"
   ]
  },
  {
   "cell_type": "markdown",
   "metadata": {},
   "source": [
    "<h3><font color=\"#FF0F00\">Комментарий ассистента</font></h3>\n",
    "\n",
    "Вывел срез, в котором были дубликаты, чтобы показать, что если не использовать метод `reset_index()`, то получается дыра. Этому методу также нужно передать `drop=True`, чтобы он создавал не отдельный столбец, а обновлял именно текущие индексы. Пиши цепочкой прямо `drop_duplicates().reset_index(drop=True)`.\n",
    "\n",
    "<h3><font color=\"#000FFF\">Комментарий студента</font></h3>\n",
    "\n",
    "Исправил, здесь кажется не критично, т.к. обращаться по индексу не собираемся, но на будущее конечно следует сбрасывать."
   ]
  },
  {
   "cell_type": "code",
   "execution_count": 14,
   "metadata": {
    "scrolled": true
   },
   "outputs": [
    {
     "data": {
      "text/plain": [
       "0"
      ]
     },
     "execution_count": 14,
     "metadata": {},
     "output_type": "execute_result"
    }
   ],
   "source": [
    "bo_data.duplicated().sum()"
   ]
  },
  {
   "cell_type": "markdown",
   "metadata": {},
   "source": [
    "Скорее всего, такие полные дубликаты говорят о сбое при выгрузке данных. Необходимо сообщить об этом."
   ]
  },
  {
   "cell_type": "markdown",
   "metadata": {},
   "source": [
    "Еще одна проблема, о которой предупреждал менеджер проекта — дубликаты карточки Iskra Bar с неправильными названием бара - @@. На них заводились реальные заказы, поэтому необходимо вычислить их и переименовать на правильное название — Iskra Bar.\n",
    "\n",
    "Объявим функцию `replace_restaurant()`, которая заменяет неправильное название, а потом проверяет успешность выполнения замены подсчетом (если замена прошла успешно — результат подсчета должен быть 0)."
   ]
  },
  {
   "cell_type": "code",
   "execution_count": 15,
   "metadata": {
    "scrolled": false
   },
   "outputs": [],
   "source": [
    "'''\n",
    "def replace_restaurant(name):\n",
    "    df.loc[df['rest_name'] == name, 'rest_name'] = 'Iskra Bar'\n",
    "    print(sum(df['rest_name'].isin({name})))\n",
    "    return df\n",
    "'''\n",
    "def replace_restaurant1(df, wrong):\n",
    "    df['rest_name'] = df['rest_name'].replace(wrong, 'Iskra Bar')\n",
    "    result = df[df['rest_name'] == wrong]['rest_name'].count()\n",
    "    print(result)\n",
    "    return df"
   ]
  },
  {
   "cell_type": "markdown",
   "metadata": {},
   "source": [
    "<h3><font color=\"#FFB800\">Комментарий ассистента</font></h3>\n",
    "\n",
    "Посмотри вот такую реализацию:\n",
    "\n",
    "```\n",
    "def replace_restaurant(df, wrong):\n",
    "    df['restaurant'] = df['restaurant'].replace(wrong, 'Iskra Bar')\n",
    "    result = df[df['restaurant'] == wrong]['restaurant'].count()\n",
    "    \n",
    "    return result\n",
    "```\n",
    "\n",
    "Все можно решить с помощью метода `replace()`, а потом \"проверить\" его выполнение с помощью `count()`. Рекомендую отдавать предпочтение именно методам pandas, а `sum()` или `len()` использовать меньше.\n",
    "\n",
    "Также разделяй ячейки по логике выполнения команд — уникальные рестораны до выполнения функции функции лучше отдельно проверить.\n",
    "\n",
    "\n",
    "<h3><font color=\"#000FFF\">Комментарий студента</font></h3>\n",
    "\n",
    "Не был знаком с `replace()`, учел.\n",
    "Возвращать result некорректно, иначе потеряем весь прогресс."
   ]
  },
  {
   "cell_type": "markdown",
   "metadata": {},
   "source": [
    "Передаем функции названия 'Искра' и 'Искр'."
   ]
  },
  {
   "cell_type": "code",
   "execution_count": 16,
   "metadata": {},
   "outputs": [
    {
     "name": "stdout",
     "output_type": "stream",
     "text": [
      "0\n",
      "0\n"
     ]
    }
   ],
   "source": [
    "bo_data=replace_restaurant1(bo_data, 'Искра')\n",
    "bo_data=replace_restaurant1(bo_data, 'Искр')"
   ]
  },
  {
   "cell_type": "code",
   "execution_count": 17,
   "metadata": {
    "scrolled": false
   },
   "outputs": [
    {
     "data": {
      "text/plain": [
       "array(['Iskra Bar', 'Там Ем', 'admin', 'Крафтейнер', 'Бар Сибирь',\n",
       "       'Северия', 'Коворкафе', 'Азия'], dtype=object)"
      ]
     },
     "execution_count": 17,
     "metadata": {},
     "output_type": "execute_result"
    }
   ],
   "source": [
    "bo_data['rest_name'].unique()"
   ]
  },
  {
   "cell_type": "markdown",
   "metadata": {},
   "source": [
    "### Выводы"
   ]
  },
  {
   "cell_type": "markdown",
   "metadata": {},
   "source": [
    "* Произведена предобработка данных: наименования столбцов приведены к общему стилю, удалены задвоенные значения, некорректные наименования одного из баров приведены к общему наименованию, тестовое заведение обозначено admin."
   ]
  },
  {
   "cell_type": "markdown",
   "metadata": {},
   "source": [
    "<h3><font color=\"#FFB800\">Комментарий ассистента</font></h3>\n",
    "\n",
    "Выводы к шагу хорошие, поправь только все, о чем я выше написал."
   ]
  },
  {
   "cell_type": "markdown",
   "metadata": {},
   "source": [
    "## Распределение заказов в течение недели"
   ]
  },
  {
   "cell_type": "markdown",
   "metadata": {},
   "source": [
    "Считаем, на какие кафе приходится больше всего заказов."
   ]
  },
  {
   "cell_type": "code",
   "execution_count": 18,
   "metadata": {
    "scrolled": true
   },
   "outputs": [
    {
     "data": {
      "text/plain": [
       "Iskra Bar     287\n",
       "Там Ем        200\n",
       "Бар Сибирь    159\n",
       "Северия       107\n",
       "Крафтейнер     78\n",
       "Коворкафе      66\n",
       "Азия           62\n",
       "admin          41\n",
       "Name: rest_name, dtype: int64"
      ]
     },
     "execution_count": 18,
     "metadata": {},
     "output_type": "execute_result"
    }
   ],
   "source": [
    "bo_data['rest_name'].value_counts()"
   ]
  },
  {
   "cell_type": "markdown",
   "metadata": {},
   "source": [
    "Группируем по `weekday` и считаем, на какие дни приходится больше всего заказов."
   ]
  },
  {
   "cell_type": "code",
   "execution_count": 43,
   "metadata": {
    "scrolled": false
   },
   "outputs": [
    {
     "data": {
      "text/plain": [
       "weekday\n",
       "Tuesday      251\n",
       "Wednesday    242\n",
       "Thursday     180\n",
       "Monday       141\n",
       "Friday       110\n",
       "Saturday      52\n",
       "Sunday        24\n",
       "dtype: int64"
      ]
     },
     "execution_count": 43,
     "metadata": {},
     "output_type": "execute_result"
    }
   ],
   "source": [
    "bo_data.groupby('weekday').size().sort_values(ascending=False)"
   ]
  },
  {
   "cell_type": "markdown",
   "metadata": {},
   "source": [
    "<h3><font color=\"#89DD00\">Комментарий ассистента</font></h3>\n",
    "\n",
    "Да, со днями недели тоже можно разобраться с помощью `value_counts()` на самом деле, просто хотелось побольше группировки добавить. Поправим описание шага тут\n",
    "\n",
    "<h3><font color=\"#000FFF\">Комментарий студента</font></h3>\n",
    "\n",
    "Переформулировал, суть не изменилась."
   ]
  },
  {
   "cell_type": "markdown",
   "metadata": {},
   "source": [
    "Объявляем функцию, которая возвращает количество заказов для ресторана в определенный день."
   ]
  },
  {
   "cell_type": "code",
   "execution_count": 20,
   "metadata": {
    "scrolled": false
   },
   "outputs": [
    {
     "name": "stdout",
     "output_type": "stream",
     "text": [
      "В Iskra Bar на Monday заказали  48 столик(ов)!\n"
     ]
    },
    {
     "data": {
      "text/plain": [
       "48"
      ]
     },
     "execution_count": 20,
     "metadata": {},
     "output_type": "execute_result"
    }
   ],
   "source": [
    "def orders_by_day(day, rest):\n",
    "    orders=bo_data[(bo_data['rest_name'] ==rest) & (bo_data['weekday'] ==day)]\n",
    "    orders_count = orders['rest_name'].count()\n",
    "    print(f\"В {rest} на {day} заказали  {orders_count} столик(ов)!\")\n",
    "    return (orders_count)\n",
    "orders_by_day(\"Monday\", \"Iskra Bar\")"
   ]
  },
  {
   "cell_type": "markdown",
   "metadata": {},
   "source": [
    "<h3><font color=\"#FFB800\">Комментарий ассистента</font></h3>\n",
    "\n",
    "Хорошо, что логическое условие используешь, только я рекомендую снять `len()` и использовать `count()`:\n",
    "\n",
    "```\n",
    "def orders_by_day(day, rest):\n",
    "    orders = df[(df['rest_name'] == rest) & (df['weekday'] == day)]\n",
    "    orders_count = orders['rest_name'].count()\n",
    "```"
   ]
  },
  {
   "cell_type": "markdown",
   "metadata": {},
   "source": [
    "Передадим ей заведения Iskra Bar и Там Ем — два флагманских места, по которым просили результаты прежде всего — и понедельник, среду и пятницу в качестве дня недели."
   ]
  },
  {
   "cell_type": "code",
   "execution_count": 21,
   "metadata": {},
   "outputs": [
    {
     "name": "stdout",
     "output_type": "stream",
     "text": [
      "В Iskra Bar на Monday заказали  48 столик(ов)!\n"
     ]
    }
   ],
   "source": [
    "m_is=orders_by_day(\"Monday\", \"Iskra Bar\")"
   ]
  },
  {
   "cell_type": "code",
   "execution_count": 22,
   "metadata": {},
   "outputs": [
    {
     "name": "stdout",
     "output_type": "stream",
     "text": [
      "В Iskra Bar на Wednesday заказали  53 столик(ов)!\n"
     ]
    }
   ],
   "source": [
    "w_is=orders_by_day(\"Wednesday\", \"Iskra Bar\")"
   ]
  },
  {
   "cell_type": "code",
   "execution_count": 23,
   "metadata": {},
   "outputs": [
    {
     "name": "stdout",
     "output_type": "stream",
     "text": [
      "В Iskra Bar на Friday заказали  29 столик(ов)!\n"
     ]
    }
   ],
   "source": [
    "f_is=orders_by_day(\"Friday\", \"Iskra Bar\")"
   ]
  },
  {
   "cell_type": "code",
   "execution_count": 24,
   "metadata": {},
   "outputs": [
    {
     "name": "stdout",
     "output_type": "stream",
     "text": [
      "В Там Ем на Monday заказали  25 столик(ов)!\n"
     ]
    }
   ],
   "source": [
    "m_tam=orders_by_day(\"Monday\", \"Там Ем\")"
   ]
  },
  {
   "cell_type": "code",
   "execution_count": 25,
   "metadata": {},
   "outputs": [
    {
     "name": "stdout",
     "output_type": "stream",
     "text": [
      "В Там Ем на Wednesday заказали  52 столик(ов)!\n"
     ]
    }
   ],
   "source": [
    "w_tam=orders_by_day(\"Wednesday\",\"Там Ем\")"
   ]
  },
  {
   "cell_type": "code",
   "execution_count": 26,
   "metadata": {},
   "outputs": [
    {
     "name": "stdout",
     "output_type": "stream",
     "text": [
      "В Там Ем на Friday заказали  24 столик(ов)!\n"
     ]
    }
   ],
   "source": [
    "f_tam=orders_by_day(\"Friday\", \"Там Ем\")"
   ]
  },
  {
   "cell_type": "markdown",
   "metadata": {},
   "source": [
    "Сведем результат в таблицу **(в которой столбцами являются ресторан и 3 дня недели!)**. "
   ]
  },
  {
   "cell_type": "code",
   "execution_count": 27,
   "metadata": {
    "scrolled": true
   },
   "outputs": [
    {
     "name": "stdout",
     "output_type": "stream",
     "text": [
      "   rest_name  Monday  Wednesday  Friday\n",
      "0  Iskra Bar      48         53      29\n",
      "1     Там Ем      25         52      24\n"
     ]
    }
   ],
   "source": [
    "'''\n",
    "tableI = pd.DataFrame([[\"Iskra Bar\", m_is, w_is , f_is]],\n",
    "                   columns=[\"rest_name\",'Monday','Wednesday',\"Friday\"])\n",
    "tableT=pd.DataFrame([[\"Там Ем\", m_tam, w_tam , f_tam]],\n",
    "                   columns=[\"rest_name\",'Monday','Wednesday',\"Friday\"])\n",
    "tableI = pd.concat([tableI,tableT], axis=0, ignore_index=1)\n",
    "tableI\n",
    "'''\n",
    "data = [\n",
    "    ['Iskra Bar', m_is, w_is, f_is],\n",
    "    ['Там Ем', m_tam, w_tam, f_tam]\n",
    "]\n",
    "\n",
    "columns = ['rest_name', 'Monday', 'Wednesday', 'Friday']\n",
    "\n",
    "table = pd.DataFrame(data=data, columns=columns)\n",
    "print(table)"
   ]
  },
  {
   "cell_type": "markdown",
   "metadata": {},
   "source": [
    "<h3><font color=\"#FFB800\">Комментарий ассистента</font></h3>\n",
    "\n",
    "Результат правильный, но сведение в таблицу усложнил, посмотри вот такой подход:\n",
    "\n",
    "```\n",
    "data = [\n",
    "    ['Iskra Bar', m_is, w_is, f_is],\n",
    "    ['Там Ем', m_tam, w_tam, f_tam]\n",
    "]\n",
    "\n",
    "columns = ['rest_name', 'Monday', 'Wednesday', 'Friday']\n",
    "\n",
    "result = pd.DataFrame(data=data, columns=columns)\n",
    "print(table)\n",
    "```\n",
    "\n",
    "<h3><font color=\"#000FFF\">Комментарий студента</font></h3>\n",
    "Кажется не корректным использовать переменые data=data, columns=columns,\n",
    "Как ни странно, составить таблицу оказалось одним из затруднительных моментов."
   ]
  },
  {
   "cell_type": "markdown",
   "metadata": {},
   "source": [
    "### Выводы"
   ]
  },
  {
   "cell_type": "markdown",
   "metadata": {},
   "source": [
    "* Больше всего заказов по приложению: Искра и Там ем. Вне контекста от потока/наличия посадочных мест/популярности места.\n",
    "* Суммарно чаще всего предзаказывают столики во вторник и среду, во флагманских местах также преобладает среда, но отдельно стоит Iskra Bar - понедельник практически на уровне среды.\n"
   ]
  },
  {
   "cell_type": "markdown",
   "metadata": {},
   "source": [
    "<h3><font color=\"#FFB800\">Комментарий ассистента</font></h3>\n",
    "\n",
    "«Наиболее посещаемые» — спорная категория. Азия может иметь 60 посадочных мест и заполнять их на 100%, а Искра 500 и только половину. Если сравнивать так, то Азия более посещаемая\n",
    "\n",
    "\n",
    "<h3><font color=\"#000FFF\">Комментарий студента</font></h3>\n",
    "\n",
    "Исправил, без расширенных данных возможны только прямые ответы и меньше размышлений."
   ]
  },
  {
   "cell_type": "markdown",
   "metadata": {},
   "source": [
    "## Распределение заказов в течение дня"
   ]
  },
  {
   "cell_type": "markdown",
   "metadata": {},
   "source": [
    "Сравним количества заказов, сделанных в обеденное и вечернее время — с 12 до 16 и с 16 до 22. Для этого объявим функцию, которая принимает данные и 2 аргумента времени."
   ]
  },
  {
   "cell_type": "code",
   "execution_count": 28,
   "metadata": {},
   "outputs": [
    {
     "name": "stdout",
     "output_type": "stream",
     "text": [
      "543\n"
     ]
    }
   ],
   "source": [
    "\n",
    "'''    df['time'] =  pd.to_datetime(df['ordered_time'], format='%H:%M')\n",
    "    time1=dt.strptime(time1, '%H:%M')\n",
    "    time2=dt.strptime(time2, '%H:%M')\n",
    "    orders = sum(df['ordered_time'].between(time1, time2, inclusive=True))\n",
    "    print(f\"C {time1.hour} до {time2.hour} заказали {orders} столик(ов)!\")\n",
    "    return \n",
    "'''\n",
    "def orders_by_day(df, time1, time2):\n",
    "    ord_=df[(df['ordered_time'] >= time1) & (df['ordered_time'] < time2)]\n",
    "    ord_day=ord_['ordered_time'].count()\n",
    "    print(ord_day)\n",
    "orders_by_day(bo_data, \"12:00\", \"16:00\")"
   ]
  },
  {
   "cell_type": "markdown",
   "metadata": {},
   "source": [
    "Передадим промежуток с 12:00 и 16:00"
   ]
  },
  {
   "cell_type": "code",
   "execution_count": 29,
   "metadata": {
    "scrolled": false
   },
   "outputs": [
    {
     "name": "stdout",
     "output_type": "stream",
     "text": [
      "543\n"
     ]
    }
   ],
   "source": [
    "orders_by_day(bo_data, \"12:00\", \"16:00\")"
   ]
  },
  {
   "cell_type": "markdown",
   "metadata": {},
   "source": [
    "И с 16:00 до 22:00"
   ]
  },
  {
   "cell_type": "code",
   "execution_count": 30,
   "metadata": {
    "scrolled": true
   },
   "outputs": [
    {
     "name": "stdout",
     "output_type": "stream",
     "text": [
      "338\n"
     ]
    }
   ],
   "source": [
    "orders_by_day(bo_data, \"16:00\", \"22:00\")"
   ]
  },
  {
   "cell_type": "markdown",
   "metadata": {},
   "source": [
    "<h3><font color=\"FFB800\">Комментарий ассистента</font></h3>\n",
    "\n",
    "Круто, что пришел к мысли преобразовать время! В этом проекте мы не закладывали такой подход, поэтому я рекомендую пока использовать логическое условие как и раньше `df[(df['column1'] == value1) & (df['column2'] == value2)]` и в конце прицеплять к нему метод `count()`. Если сравнивать сами строки без преобразования — результат тоже правильный будет.\n",
    "\n",
    "\n",
    "<h3><font color=\"#000FFF\">Комментарий студента</font></h3>\n",
    "\n",
    "Внезапно всё проще, исправил так же учет времени до 16:00."
   ]
  },
  {
   "cell_type": "markdown",
   "metadata": {},
   "source": [
    "### Выводы"
   ]
  },
  {
   "cell_type": "markdown",
   "metadata": {},
   "source": [
    "* Разница между \"бизнес ланчами\" и вечерними предзаказми практически в 2 раза в пользу обеденного времени."
   ]
  },
  {
   "cell_type": "markdown",
   "metadata": {},
   "source": [
    "<h3><font color=\"#89DD00\">Комментарий ассистента</font></h3>\n",
    "\n",
    "Вывод здесь главный в том, что большинство заказов делают именно в обед. Это то, что и просили от нас узнать на текущем этапе, все верно."
   ]
  },
  {
   "cell_type": "markdown",
   "metadata": {},
   "source": [
    "## Типичное количество человек за столиком"
   ]
  },
  {
   "cell_type": "markdown",
   "metadata": {},
   "source": [
    "Выясним, для какого количества человек обычно заказывают столик в разное время на примере Iskra Bar и Там Ем. Для этого напишем функцию, которая принимает данные, название ресторана, 2 времени и считает моду."
   ]
  },
  {
   "cell_type": "code",
   "execution_count": 31,
   "metadata": {},
   "outputs": [
    {
     "data": {
      "text/plain": [
       "'\\ndef moda_orders(df, rest, time1, time2):\\n    df[\\'time\\'] =  pd.to_datetime(df[\\'time\\'], format=\\'%H:%M\\')\\n    time1=dt.strptime(time1, \\'%H:%M\\')\\n    time2=dt.strptime(time2, \\'%H:%M\\')\\n    orders = (df[(df[\\'rest_name\\'] ==rest) & (df[\\'time\\'].between(time1, time2, inclusive=True))])\\n    mode_ = statistics.mode(orders[\\'Visitor_Num\\'])\\n    print(f\"Чаще всего в {rest} с {time1.hour} до {time2.hour} заказывали столики на {mode_} ({(orders[\\'Visitor_Num\\'] == mode_).sum()} раз)!\") \\nmoda_orders(df, \\'Iskra Bar\\', \"12:00\", \"16:00\")\\n'"
      ]
     },
     "execution_count": 31,
     "metadata": {},
     "output_type": "execute_result"
    }
   ],
   "source": [
    "'''\n",
    "def moda_orders(df, rest, time1, time2):\n",
    "    df['time'] =  pd.to_datetime(df['time'], format='%H:%M')\n",
    "    time1=dt.strptime(time1, '%H:%M')\n",
    "    time2=dt.strptime(time2, '%H:%M')\n",
    "    orders = (df[(df['rest_name'] ==rest) & (df['time'].between(time1, time2, inclusive=True))])\n",
    "    mode_ = statistics.mode(orders['Visitor_Num'])\n",
    "    print(f\"Чаще всего в {rest} с {time1.hour} до {time2.hour} заказывали столики на {mode_} ({(orders['Visitor_Num'] == mode_).sum()} раз)!\") \n",
    "moda_orders(df, 'Iskra Bar', \"12:00\", \"16:00\")\n",
    "'''"
   ]
  },
  {
   "cell_type": "markdown",
   "metadata": {},
   "source": [
    "<h3><font color=\"FFB800\">Комментарий ассистента</font></h3>\n",
    "\n",
    "Максим, здесь в точности такой же подход может быть — логическое условие и пандосовский `mode()` на конце. Модуль `statistics` не обязателен (кстати, импорт всех модулей стоит производить в самом начале ноутбука (программного кода).\n",
    "\n",
    "И еще смотрю, ты ставишь `inclusive=True`, но по идее заказ в 16:00 уже к относится к вечернему времени.\n",
    "\n",
    "Попробуй прямо в ячейке ниже написать `moda_orders_2()` с учетом моих комментов."
   ]
  },
  {
   "cell_type": "code",
   "execution_count": 32,
   "metadata": {},
   "outputs": [
    {
     "name": "stdout",
     "output_type": "stream",
     "text": [
      "2\n",
      "Чаще всего в Iskra Bar с 12:00 до 16:00 заказывали столики на 2 (72 раз)!\n"
     ]
    }
   ],
   "source": [
    "def moda_orders_2(df, rest, time1, time2):\n",
    "    ord_in_time=df[(df['ordered_time'] >= time1) & (df['ordered_time'] < time2)]\n",
    "    orders = ord_in_time[(ord_in_time['rest_name'] ==rest) ]\n",
    "    #print(orders)   \n",
    "    mod =orders['visitor_num'].mode()\n",
    "    print(mod[0])   \n",
    "    print(f\"Чаще всего в {rest} с {time1} до {time2} заказывали столики на {mod[0]} ({(orders['visitor_num'] == mod[0]).sum()} раз)!\") \n",
    "moda_orders_2(bo_data, 'Iskra Bar', \"12:00\", \"16:00\") "
   ]
  },
  {
   "cell_type": "markdown",
   "metadata": {},
   "source": [
    "Проверим функцию на двух ресторанах, а также дневном и вечернем промежутке времени."
   ]
  },
  {
   "cell_type": "code",
   "execution_count": 33,
   "metadata": {
    "scrolled": true
   },
   "outputs": [
    {
     "name": "stdout",
     "output_type": "stream",
     "text": [
      "2\n",
      "Чаще всего в Iskra Bar с 12:00 до 16:00 заказывали столики на 2 (72 раз)!\n"
     ]
    }
   ],
   "source": [
    "moda_orders_2(bo_data, 'Iskra Bar', \"12:00\", \"16:00\")"
   ]
  },
  {
   "cell_type": "code",
   "execution_count": 34,
   "metadata": {},
   "outputs": [
    {
     "name": "stdout",
     "output_type": "stream",
     "text": [
      "2\n",
      "Чаще всего в Там Ем с 12:00 до 16:00 заказывали столики на 2 (43 раз)!\n"
     ]
    }
   ],
   "source": [
    "moda_orders_2(bo_data, 'Там Ем', \"12:00\", \"16:00\")"
   ]
  },
  {
   "cell_type": "code",
   "execution_count": 35,
   "metadata": {},
   "outputs": [
    {
     "name": "stdout",
     "output_type": "stream",
     "text": [
      "1\n",
      "Чаще всего в Iskra Bar с 16:00 до 22:00 заказывали столики на 1 (45 раз)!\n"
     ]
    }
   ],
   "source": [
    "moda_orders_2(bo_data, 'Iskra Bar', \"16:00\", \"22:00\")"
   ]
  },
  {
   "cell_type": "code",
   "execution_count": 36,
   "metadata": {
    "scrolled": true
   },
   "outputs": [
    {
     "name": "stdout",
     "output_type": "stream",
     "text": [
      "1\n",
      "Чаще всего в Там Ем с 16:00 до 22:00 заказывали столики на 1 (34 раз)!\n"
     ]
    }
   ],
   "source": [
    "moda_orders_2(bo_data, 'Там Ем', \"16:00\", \"22:00\")"
   ]
  },
  {
   "cell_type": "markdown",
   "metadata": {},
   "source": [
    "### Выводы"
   ]
  },
  {
   "cell_type": "markdown",
   "metadata": {},
   "source": [
    "* Самые популярные к заказу столики в дневное время - на 2х, вечером на 1, на основании чего можно сделать вывод о наиболее частой брони столиков для обедов и ужинов, чем на большую компанию. "
   ]
  },
  {
   "cell_type": "markdown",
   "metadata": {},
   "source": [
    "<h3><font color=\"#89DD00\">Комментарий ассистента</font></h3>\n",
    "\n",
    "Все именно так. As simple as that!"
   ]
  },
  {
   "cell_type": "markdown",
   "metadata": {},
   "source": [
    "## Общие выводы"
   ]
  },
  {
   "cell_type": "markdown",
   "metadata": {},
   "source": [
    "#### На какие кафе приходится больше всего заказов? А на какие дни?\n",
    "Наибольшее число заказов приходится на Iskra Bar - 287 и Там Ем - 200.\n",
    "Основные посещения приходятся на рабочую неделю, но самые посещаемые дни в середине недели вторник - 251, среда - 242, четверг - 180. По общей статистике понедельник и пятницу можно считать среднезагруженными, а выходные низкозагруженными. Флагманские места могут иметь более повышенные показатели всю рабочую неделю. \n",
    "\n",
    "#### Чаще ли приложением пользуются именно в обеденное время?\n",
    "Предзаказ в обеденное время преобладает для сохранения времени, суммарно за неделю практически в 2 раза даже с учетом выходных.\n",
    "\n",
    "#### Насколько большими компаниями (или наоборот поодиночке) приходят в кафе?\n",
    "На примере популярных мест: чаще всего бронируют столики в обеденное время на двоих, в вечернее на одного.\n",
    "\n",
    "\n",
    "\n",
    "Приложение полезно ограниченным по времени посетителям (1-2 человека), предугадать же запросы на большую компанию заказчику может быть сложно. "
   ]
  },
  {
   "cell_type": "markdown",
   "metadata": {},
   "source": [
    "<h3><font color=\"#89DD00\">Комментарий ассистента</font></h3>\n",
    "\n",
    "«Наибольшее число заказов приходится» — а вот здесь уже корректная формулировка, все четко."
   ]
  },
  {
   "cell_type": "markdown",
   "metadata": {},
   "source": [
    "### Комментарий по проекту\n",
    "\n",
    "Из-за различий описания задач в брифе и notebook задания могут быть двусмысленны (шаг 4 -переделывал таблицу, шаг 6 так и не понял верно сделал или нет). Бриф подразумевается как предварительный текст задания или основной?\n",
    "\n",
    "Датасет по итогу включает всех посетителей, даже не пользующихся приложением?"
   ]
  },
  {
   "cell_type": "markdown",
   "metadata": {},
   "source": [
    "<h3><font color=\"#89DD00\">Комментарий ассистента</font></h3>\n",
    "\n",
    "В брифе — задача от школы, а в ноутбуке идут «описания» действий, которые мы помогли вам сформулировать. \n",
    "\n",
    "Для построения ds-портфолио важны 2 вещи — блог, то есть умение рассказать о своем \"ходе мышления\" на проекте и код в репозиториях на GitHub. Формат ноутбука является 2 в 1 и сейчас вы (с нашей помощью) описываете в нем свой проект именно для потенциального работодателя.\n",
    "\n",
    "По брифу уже видими слабые места, доработаем.\n",
    "\n",
    "По вопросу про датасает, в описании задачи мы пишем: «Необходимо изучить данные сервиса...», так что, конечно, только те, кто пользуется приложением.\n"
   ]
  }
 ],
 "metadata": {
  "colab": {
   "collapsed_sections": [],
   "name": "Копия блокнота \"notebook_03_username.ipynb\"",
   "provenance": [],
   "toc_visible": true
  },
  "kernelspec": {
   "display_name": "Python 3",
   "language": "python",
   "name": "python3"
  },
  "language_info": {
   "codemirror_mode": {
    "name": "ipython",
    "version": 3
   },
   "file_extension": ".py",
   "mimetype": "text/x-python",
   "name": "python",
   "nbconvert_exporter": "python",
   "pygments_lexer": "ipython3",
   "version": "3.8.3"
  }
 },
 "nbformat": 4,
 "nbformat_minor": 1
}

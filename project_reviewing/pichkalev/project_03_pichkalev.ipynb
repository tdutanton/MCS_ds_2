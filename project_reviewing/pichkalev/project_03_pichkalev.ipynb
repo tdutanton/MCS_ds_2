{
 "cells": [
  {
   "cell_type": "markdown",
   "metadata": {},
   "source": [
    "<img src=\"https://files.cdn.thinkific.com/file_uploads/133292/images/d57/1b0/1a9/P03.jpg\">"
   ]
  },
  {
   "cell_type": "markdown",
   "metadata": {
    "id": "e5Vts0g2oUvy"
   },
   "source": [
    "`MCSDSC02P03V3______`\n",
    "\n",
    "`MCSDSC02P03V2______`\n",
    "\n",
    "`MCSDSELIMC02P03V1130621`"
   ]
  },
  {
   "cell_type": "markdown",
   "metadata": {},
   "source": [
    "<h3><font color=\"#89DD00\">Комментарий ассистента 2</font></h3>\n",
    "\n",
    "Проект принят! \n",
    "\n",
    "Если захочешь добавить его в портфолио, то наверное стоит почистить все общение и удалить лишний код. Для этого делай копию плз, потому что мы переизпользуем некоторые комментарии, чтобы не писать одинаковое)"
   ]
  },
  {
   "cell_type": "markdown",
   "metadata": {},
   "source": [
    "<h3><font color=\"#FF0F00\">Комментарий ассистента</font></h3>\n",
    "\n",
    "Есть что доработать. \n",
    "\n",
    "Как обычно, заголовки (комментариев) будут трех цветов. <font color=\"89DD00\">Зеленый</font> — все правильно (и если комментария нет, то это также значит, что все правильно). <font color=\"FFB800\">Желтый</font> — можно доработать. <font color=\"FF0F00\">Красный</font> — нужно исправить."
   ]
  },
  {
   "cell_type": "markdown",
   "metadata": {},
   "source": [
    "## Постановка задачи"
   ]
  },
  {
   "cell_type": "markdown",
   "metadata": {},
   "source": [
    "Заказчик исследования — страховая компания.  \n",
    "Необходимо выяснить, как разные страховые случаи, возраст клиента и его доход влияют на статус выплаты страховой компенсации."
   ]
  },
  {
   "cell_type": "markdown",
   "metadata": {},
   "source": [
    "## План работ\n",
    "\n",
    "1. Импортировать библиотеки, передать файл insurance.csv в датафрейм и проанализировать основную информацию о датасете.\n",
    "\n",
    "\n",
    "2. Предобработать данные: \n",
    "    * Заполнить пропуски;\n",
    "    * Заменить несоответствующие типы данных;\n",
    "    * Заменить отрицательные значения в столбце с доходом;\n",
    "    * Привести данные в столбцы с возрастной группой к единому регистру;\n",
    "    * Удалить явные дубликаты.  \n",
    "\n",
    "\n",
    "3. Выполнить стэмминг:\n",
    "    * Посчитать уникальные значения в столбце с причинами страхового случая;\n",
    "    * Выделить леммы и написать функцию, которая принимает основу слова, а возвращает все названия категорий с ним.\n",
    "\n",
    "\n",
    "4. Произвести категоризацию данных:\n",
    "\n",
    "    * Выделить словарь для возрастной группы.\n",
    "    * Категоризировать причины выплат страховых платежей, статус выплаты, а также доход клиента.\n",
    "\n",
    "\n",
    "5. Создать сводные таблицы с результатами, проанализировать их и ответить на вопросы, поставленные заказчиком:\n",
    "    * есть ли зависимость между возрастной группой и статусом выплаты?\n",
    "    * есть ли зависимость между причиной страхового случая и статусом выплаты?\n",
    "    * есть ли зависимость между доходом клиента и статусом выплаты?"
   ]
  },
  {
   "cell_type": "markdown",
   "metadata": {},
   "source": [
    "## Импорт данных и библиотек"
   ]
  },
  {
   "cell_type": "markdown",
   "metadata": {},
   "source": [
    "Импортируем библиотеки, прочитаем файл `insurance.csv` и получим общую информацию о данных."
   ]
  },
  {
   "cell_type": "code",
   "execution_count": 227,
   "metadata": {},
   "outputs": [],
   "source": [
    "#! pip install nltk\n",
    "#! pip install pymystem3"
   ]
  },
  {
   "cell_type": "code",
   "execution_count": 228,
   "metadata": {
    "scrolled": true
   },
   "outputs": [],
   "source": [
    "import pandas as pd\n",
    "import numpy as np\n",
    "import os\n",
    "from nltk.stem import SnowballStemmer\n",
    "from pymystem3 import Mystem"
   ]
  },
  {
   "cell_type": "code",
   "execution_count": 229,
   "metadata": {},
   "outputs": [],
   "source": [
    "data_dir = '../../data'\n",
    "#ins_df = pd.read_csv(os.path.join(data_dir, 'insurance.csv'))\n",
    "\n",
    "ins_df = pd.read_csv('/Users/elimilo/Desktop/mcs_ds_02/data/insurance.csv')"
   ]
  },
  {
   "cell_type": "code",
   "execution_count": 230,
   "metadata": {
    "scrolled": true
   },
   "outputs": [
    {
     "data": {
      "text/html": [
       "<div>\n",
       "<style scoped>\n",
       "    .dataframe tbody tr th:only-of-type {\n",
       "        vertical-align: middle;\n",
       "    }\n",
       "\n",
       "    .dataframe tbody tr th {\n",
       "        vertical-align: top;\n",
       "    }\n",
       "\n",
       "    .dataframe thead th {\n",
       "        text-align: right;\n",
       "    }\n",
       "</style>\n",
       "<table border=\"1\" class=\"dataframe\">\n",
       "  <thead>\n",
       "    <tr style=\"text-align: right;\">\n",
       "      <th></th>\n",
       "      <th>id</th>\n",
       "      <th>perc_of_compensation_paid</th>\n",
       "      <th>age_in_days</th>\n",
       "      <th>age_id</th>\n",
       "      <th>age_group</th>\n",
       "      <th>income</th>\n",
       "      <th>count_3-6_months_late</th>\n",
       "      <th>count_6-12_months_late</th>\n",
       "      <th>count_more_than_12_months_late</th>\n",
       "      <th>cause</th>\n",
       "    </tr>\n",
       "  </thead>\n",
       "  <tbody>\n",
       "    <tr>\n",
       "      <th>0</th>\n",
       "      <td>649</td>\n",
       "      <td>0.001</td>\n",
       "      <td>27384.0</td>\n",
       "      <td>4</td>\n",
       "      <td>Пожилой</td>\n",
       "      <td>NaN</td>\n",
       "      <td>0</td>\n",
       "      <td>0</td>\n",
       "      <td>0</td>\n",
       "      <td>повреждение автомобиля</td>\n",
       "    </tr>\n",
       "    <tr>\n",
       "      <th>1</th>\n",
       "      <td>81136</td>\n",
       "      <td>0.124</td>\n",
       "      <td>23735.0</td>\n",
       "      <td>4</td>\n",
       "      <td>пожилой</td>\n",
       "      <td>285140.0</td>\n",
       "      <td>0</td>\n",
       "      <td>0</td>\n",
       "      <td>0</td>\n",
       "      <td>упало дерево на автомобиль</td>\n",
       "    </tr>\n",
       "    <tr>\n",
       "      <th>2</th>\n",
       "      <td>70762</td>\n",
       "      <td>1.000</td>\n",
       "      <td>17170.0</td>\n",
       "      <td>3</td>\n",
       "      <td>Зрелый</td>\n",
       "      <td>-186030.0</td>\n",
       "      <td>0</td>\n",
       "      <td>0</td>\n",
       "      <td>0</td>\n",
       "      <td>сломала ногу в отпуске</td>\n",
       "    </tr>\n",
       "    <tr>\n",
       "      <th>3</th>\n",
       "      <td>53935</td>\n",
       "      <td>0.198</td>\n",
       "      <td>16068.0</td>\n",
       "      <td>3</td>\n",
       "      <td>Зрелый</td>\n",
       "      <td>-123540.0</td>\n",
       "      <td>0</td>\n",
       "      <td>0</td>\n",
       "      <td>0</td>\n",
       "      <td>хищение автомобиля (каско)</td>\n",
       "    </tr>\n",
       "    <tr>\n",
       "      <th>4</th>\n",
       "      <td>15476</td>\n",
       "      <td>0.041</td>\n",
       "      <td>10591.0</td>\n",
       "      <td>2</td>\n",
       "      <td>Молодой</td>\n",
       "      <td>-200020.0</td>\n",
       "      <td>1</td>\n",
       "      <td>0</td>\n",
       "      <td>0</td>\n",
       "      <td>несчастный случай в отпуске</td>\n",
       "    </tr>\n",
       "    <tr>\n",
       "      <th>5</th>\n",
       "      <td>64797</td>\n",
       "      <td>0.112</td>\n",
       "      <td>16065.0</td>\n",
       "      <td>3</td>\n",
       "      <td>Зрелый</td>\n",
       "      <td>NaN</td>\n",
       "      <td>0</td>\n",
       "      <td>0</td>\n",
       "      <td>0</td>\n",
       "      <td>врезались в автомобиль</td>\n",
       "    </tr>\n",
       "    <tr>\n",
       "      <th>6</th>\n",
       "      <td>67412</td>\n",
       "      <td>0.325</td>\n",
       "      <td>17167.0</td>\n",
       "      <td>3</td>\n",
       "      <td>ЗРЕЛЫЙ</td>\n",
       "      <td>388050.0</td>\n",
       "      <td>6</td>\n",
       "      <td>0</td>\n",
       "      <td>0</td>\n",
       "      <td>травма во время отдыха</td>\n",
       "    </tr>\n",
       "    <tr>\n",
       "      <th>7</th>\n",
       "      <td>44241</td>\n",
       "      <td>0.362</td>\n",
       "      <td>20085.0</td>\n",
       "      <td>4</td>\n",
       "      <td>ПОЖИЛОЙ</td>\n",
       "      <td>-99880.0</td>\n",
       "      <td>3</td>\n",
       "      <td>0</td>\n",
       "      <td>0</td>\n",
       "      <td>повреждение автомобиля</td>\n",
       "    </tr>\n",
       "    <tr>\n",
       "      <th>8</th>\n",
       "      <td>5069</td>\n",
       "      <td>0.115</td>\n",
       "      <td>23008.0</td>\n",
       "      <td>4</td>\n",
       "      <td>Пожилой</td>\n",
       "      <td>360040.0</td>\n",
       "      <td>0</td>\n",
       "      <td>0</td>\n",
       "      <td>0</td>\n",
       "      <td>сгорела квартира</td>\n",
       "    </tr>\n",
       "    <tr>\n",
       "      <th>9</th>\n",
       "      <td>16615</td>\n",
       "      <td>0.021</td>\n",
       "      <td>21906.0</td>\n",
       "      <td>4</td>\n",
       "      <td>Пожилой</td>\n",
       "      <td>510040.0</td>\n",
       "      <td>0</td>\n",
       "      <td>0</td>\n",
       "      <td>0</td>\n",
       "      <td>сгорел дом</td>\n",
       "    </tr>\n",
       "  </tbody>\n",
       "</table>\n",
       "</div>"
      ],
      "text/plain": [
       "      id  perc_of_compensation_paid  age_in_days  age_id age_group    income  \\\n",
       "0    649                      0.001      27384.0       4   Пожилой       NaN   \n",
       "1  81136                      0.124      23735.0       4   пожилой  285140.0   \n",
       "2  70762                      1.000      17170.0       3    Зрелый -186030.0   \n",
       "3  53935                      0.198      16068.0       3    Зрелый -123540.0   \n",
       "4  15476                      0.041      10591.0       2   Молодой -200020.0   \n",
       "5  64797                      0.112      16065.0       3    Зрелый       NaN   \n",
       "6  67412                      0.325      17167.0       3    ЗРЕЛЫЙ  388050.0   \n",
       "7  44241                      0.362      20085.0       4   ПОЖИЛОЙ  -99880.0   \n",
       "8   5069                      0.115      23008.0       4   Пожилой  360040.0   \n",
       "9  16615                      0.021      21906.0       4   Пожилой  510040.0   \n",
       "\n",
       "   count_3-6_months_late  count_6-12_months_late  \\\n",
       "0                      0                       0   \n",
       "1                      0                       0   \n",
       "2                      0                       0   \n",
       "3                      0                       0   \n",
       "4                      1                       0   \n",
       "5                      0                       0   \n",
       "6                      6                       0   \n",
       "7                      3                       0   \n",
       "8                      0                       0   \n",
       "9                      0                       0   \n",
       "\n",
       "   count_more_than_12_months_late                        cause  \n",
       "0                               0       повреждение автомобиля  \n",
       "1                               0   упало дерево на автомобиль  \n",
       "2                               0       сломала ногу в отпуске  \n",
       "3                               0   хищение автомобиля (каско)  \n",
       "4                               0  несчастный случай в отпуске  \n",
       "5                               0       врезались в автомобиль  \n",
       "6                               0       травма во время отдыха  \n",
       "7                               0       повреждение автомобиля  \n",
       "8                               0             сгорела квартира  \n",
       "9                               0                   сгорел дом  "
      ]
     },
     "execution_count": 230,
     "metadata": {},
     "output_type": "execute_result"
    }
   ],
   "source": [
    "ins_df.head(10)"
   ]
  },
  {
   "cell_type": "code",
   "execution_count": 231,
   "metadata": {
    "scrolled": true
   },
   "outputs": [
    {
     "name": "stdout",
     "output_type": "stream",
     "text": [
      "<class 'pandas.core.frame.DataFrame'>\n",
      "RangeIndex: 2301 entries, 0 to 2300\n",
      "Data columns (total 10 columns):\n",
      " #   Column                          Non-Null Count  Dtype  \n",
      "---  ------                          --------------  -----  \n",
      " 0   id                              2301 non-null   int64  \n",
      " 1   perc_of_compensation_paid       2301 non-null   float64\n",
      " 2   age_in_days                     2301 non-null   float64\n",
      " 3   age_id                          2301 non-null   int64  \n",
      " 4   age_group                       2301 non-null   object \n",
      " 5   income                          2236 non-null   float64\n",
      " 6   count_3-6_months_late           2301 non-null   int64  \n",
      " 7   count_6-12_months_late          2301 non-null   int64  \n",
      " 8   count_more_than_12_months_late  2301 non-null   int64  \n",
      " 9   cause                           2301 non-null   object \n",
      "dtypes: float64(3), int64(5), object(2)\n",
      "memory usage: 179.9+ KB\n"
     ]
    }
   ],
   "source": [
    "ins_df.info()"
   ]
  },
  {
   "cell_type": "markdown",
   "metadata": {},
   "source": [
    "Столбцы содержат следующую информацию:\n",
    "\n",
    "* id — ID держателя полиса;\n",
    "* perc_of_compensation_paid — процент выплаченной компенсации;\n",
    "* age_in_days — возраст держателя полиса в днях;\n",
    "* age_id — ID возрастной группы;\n",
    "* age_group — возрастная группа;\n",
    "* income — доход держателя полиса;\n",
    "* count_3-6_months_late — полис оформлен не позднее 3-6 месяцев;\n",
    "* count_6-12_months_late — полис оформлен не позднее 6-12 месяцев;\n",
    "* count_more_than_12_months_late — полис оформлен больше года назад;\n",
    "* cause — причина страхового случая."
   ]
  },
  {
   "cell_type": "markdown",
   "metadata": {},
   "source": [
    "<h3><font color=\"#FFB800\">Комментарий ассистента</font></h3>\n",
    "\n",
    "Можно знать о множестве техник, но важно также уметь *выбирать* из них и понимать какая подойдет хорошо. Первые 10-15 строк + `info()` ответят на главные вопросы о структуре данных здесь.\n",
    "\n",
    "`df` — это более абстрактное название для датафрейма, стоит называть предметно, чтобы было легче потом разобраться."
   ]
  },
  {
   "cell_type": "markdown",
   "metadata": {},
   "source": [
    "<h3><font color=\"#3c00ff\">Update</font></h3>\n",
    "\n",
    "удалил лишние команды, сменил название переменной на `ins_df`"
   ]
  },
  {
   "cell_type": "markdown",
   "metadata": {},
   "source": [
    "### Выводы"
   ]
  },
  {
   "cell_type": "markdown",
   "metadata": {},
   "source": [
    "* датасет содержит 2301 строк и 10 столбцов;\n",
    "* столбцы id, age_id, count_... - целочисленные; perc_of_compensation_paid, age_in_days, income - дробные числа; age_group и cause - строковые;\n",
    "* столбец id можно дропнуть, т.к. он содержит не существенную информацию;\n",
    "* столбец income содержит nan и отрицательные числа => потребуется обработка;\n",
    "* в столбце age_group есть записи в верхнем и нижнем регистре (при одинаковом ключе в age_id) => потребуется обработка."
   ]
  },
  {
   "cell_type": "code",
   "execution_count": 232,
   "metadata": {},
   "outputs": [],
   "source": [
    "ins_df = ins_df.drop(columns=['count_3-6_months_late', 'count_6-12_months_late',\n",
    "                              'count_more_than_12_months_late'])"
   ]
  },
  {
   "cell_type": "markdown",
   "metadata": {},
   "source": [
    "<h3><font color=\"#FFB800\">Комментарий ассистента</font></h3>\n",
    "\n",
    "ID я бы удалять не стал, а вот срок годности полиса для анализа не нужен точно."
   ]
  },
  {
   "cell_type": "markdown",
   "metadata": {},
   "source": [
    "<h3><font color=\"#3c00ff\">Update</font></h3>\n",
    "\n",
    "удалил лишние столбцы"
   ]
  },
  {
   "cell_type": "markdown",
   "metadata": {},
   "source": [
    "## Предобработка данных"
   ]
  },
  {
   "cell_type": "markdown",
   "metadata": {},
   "source": [
    "**Обработка пропусков**"
   ]
  },
  {
   "cell_type": "markdown",
   "metadata": {},
   "source": [
    "Проверим данные на наличие пропусков, просуммировав их."
   ]
  },
  {
   "cell_type": "code",
   "execution_count": 233,
   "metadata": {
    "scrolled": true
   },
   "outputs": [
    {
     "data": {
      "text/plain": [
       "id                            0\n",
       "perc_of_compensation_paid     0\n",
       "age_in_days                   0\n",
       "age_id                        0\n",
       "age_group                     0\n",
       "income                       65\n",
       "cause                         0\n",
       "dtype: int64"
      ]
     },
     "execution_count": 233,
     "metadata": {},
     "output_type": "execute_result"
    }
   ],
   "source": [
    "ins_df.isna().sum()"
   ]
  },
  {
   "cell_type": "markdown",
   "metadata": {},
   "source": [
    "Заполним пропуски в столбце `income`."
   ]
  },
  {
   "cell_type": "code",
   "execution_count": 234,
   "metadata": {},
   "outputs": [],
   "source": [
    "ins_df.loc[ins_df['age_id'] == 2,'income'] = ins_df.loc[\n",
    "    ins_df['age_id'] == 2,'income'].fillna(ins_df[ins_df['age_id'] == 2]['income'].abs().mean())\n",
    "ins_df.loc[ins_df['age_id'] == 3,'income'] = ins_df.loc[\n",
    "    ins_df['age_id'] == 3,'income'].fillna(ins_df[ins_df['age_id'] == 3]['income'].abs().mean())\n",
    "ins_df.loc[ins_df['age_id'] == 4,'income'] = ins_df.loc[\n",
    "    ins_df['age_id'] == 4,'income'].fillna(ins_df[ins_df['age_id'] == 4]['income'].abs().mean())"
   ]
  },
  {
   "cell_type": "markdown",
   "metadata": {},
   "source": [
    "<h3><font color=\"#89DD00\">Комментарий ассистента</font></h3>\n",
    "\n",
    "Круто, пропуски заполнены верно.\n",
    "\n",
    "Если значения выборки равномерны и в ней нет выбросов, то среднее подойдет, но когда они есть — среднее значение может сильно сдвинуться вверх или вниз. Для такой выборки лучше использовать медиану. Это стоит учитывать."
   ]
  },
  {
   "cell_type": "markdown",
   "metadata": {},
   "source": [
    "Проверяем, что пропусков в `income` не осталось."
   ]
  },
  {
   "cell_type": "code",
   "execution_count": 235,
   "metadata": {
    "scrolled": false
   },
   "outputs": [
    {
     "data": {
      "text/plain": [
       "id                           0\n",
       "perc_of_compensation_paid    0\n",
       "age_in_days                  0\n",
       "age_id                       0\n",
       "age_group                    0\n",
       "income                       0\n",
       "cause                        0\n",
       "dtype: int64"
      ]
     },
     "execution_count": 235,
     "metadata": {},
     "output_type": "execute_result"
    }
   ],
   "source": [
    "ins_df.isna().sum()"
   ]
  },
  {
   "cell_type": "markdown",
   "metadata": {},
   "source": [
    "**Замена типа данных**"
   ]
  },
  {
   "cell_type": "markdown",
   "metadata": {},
   "source": [
    "Проверяем, что в столбцах `age_in_days` и `income` вещественный тип данных."
   ]
  },
  {
   "cell_type": "code",
   "execution_count": 236,
   "metadata": {
    "scrolled": false
   },
   "outputs": [
    {
     "data": {
      "text/plain": [
       "age_in_days    float64\n",
       "income         float64\n",
       "dtype: object"
      ]
     },
     "execution_count": 236,
     "metadata": {},
     "output_type": "execute_result"
    }
   ],
   "source": [
    "ins_df[['age_in_days', 'income']].dtypes"
   ]
  },
  {
   "cell_type": "markdown",
   "metadata": {},
   "source": [
    "Для этих столбцов нужен целочисленный тип, поэтому переведем их, а также избавимся от отрицательных значений в `income`."
   ]
  },
  {
   "cell_type": "code",
   "execution_count": 237,
   "metadata": {
    "scrolled": true
   },
   "outputs": [
    {
     "data": {
      "text/plain": [
       "age_in_days    int64\n",
       "income         int64\n",
       "dtype: object"
      ]
     },
     "execution_count": 237,
     "metadata": {},
     "output_type": "execute_result"
    }
   ],
   "source": [
    "ins_df[['age_in_days', 'income']] = ins_df[['age_in_days', 'income']].astype(int)\n",
    "ins_df[['age_in_days', 'income']].dtypes"
   ]
  },
  {
   "cell_type": "code",
   "execution_count": 238,
   "metadata": {},
   "outputs": [],
   "source": [
    "ins_df['income'] = ins_df['income'].abs()"
   ]
  },
  {
   "cell_type": "markdown",
   "metadata": {},
   "source": [
    "**Поиск дубликатов с учетом регистра**"
   ]
  },
  {
   "cell_type": "markdown",
   "metadata": {},
   "source": [
    "Проверим уникальные категории в столбце `age_group`."
   ]
  },
  {
   "cell_type": "code",
   "execution_count": 239,
   "metadata": {
    "scrolled": false
   },
   "outputs": [
    {
     "data": {
      "text/plain": [
       "array(['Пожилой', 'пожилой', 'Зрелый', 'Молодой', 'ЗРЕЛЫЙ', 'ПОЖИЛОЙ',\n",
       "       'зрелый', 'молодой', 'МОЛОДОЙ'], dtype=object)"
      ]
     },
     "execution_count": 239,
     "metadata": {},
     "output_type": "execute_result"
    }
   ],
   "source": [
    "ins_df['age_group'].unique()"
   ]
  },
  {
   "cell_type": "markdown",
   "metadata": {},
   "source": [
    "<h3><font color=\"#FFB800\">Комментарий ассистента</font></h3>\n",
    "\n",
    "Когда говорим о проверке уникальных — это больше про метод `unique()`. Не забудь тогда поправить описание шага."
   ]
  },
  {
   "cell_type": "markdown",
   "metadata": {},
   "source": [
    "<h3><font color=\"#3c00ff\">Update</font></h3>\n",
    "\n",
    "заменил на метод `unique()`"
   ]
  },
  {
   "cell_type": "markdown",
   "metadata": {},
   "source": [
    "Приведем их к нижнему регистру."
   ]
  },
  {
   "cell_type": "code",
   "execution_count": 240,
   "metadata": {
    "scrolled": false
   },
   "outputs": [
    {
     "data": {
      "text/plain": [
       "array(['пожилой', 'зрелый', 'молодой'], dtype=object)"
      ]
     },
     "execution_count": 240,
     "metadata": {},
     "output_type": "execute_result"
    }
   ],
   "source": [
    "ins_df['age_group'] = ins_df['age_group'].str.lower()\n",
    "ins_df['age_group'].unique()"
   ]
  },
  {
   "cell_type": "markdown",
   "metadata": {},
   "source": [
    "**Обработка дубликатов**"
   ]
  },
  {
   "cell_type": "markdown",
   "metadata": {},
   "source": [
    "Установим количество явных дубликатов. Если найдутся, то удалим и снова проверим, что их не осталось."
   ]
  },
  {
   "cell_type": "code",
   "execution_count": 241,
   "metadata": {
    "scrolled": true
   },
   "outputs": [
    {
     "data": {
      "text/plain": [
       "7"
      ]
     },
     "execution_count": 241,
     "metadata": {},
     "output_type": "execute_result"
    }
   ],
   "source": [
    "ins_df.duplicated().sum()"
   ]
  },
  {
   "cell_type": "code",
   "execution_count": 242,
   "metadata": {},
   "outputs": [],
   "source": [
    "ins_df = ins_df.drop_duplicates().reset_index(drop=True)"
   ]
  },
  {
   "cell_type": "code",
   "execution_count": 243,
   "metadata": {},
   "outputs": [
    {
     "data": {
      "text/plain": [
       "0"
      ]
     },
     "execution_count": 243,
     "metadata": {},
     "output_type": "execute_result"
    }
   ],
   "source": [
    "ins_df.duplicated().sum()"
   ]
  },
  {
   "cell_type": "markdown",
   "metadata": {},
   "source": [
    "**Стэмминг**"
   ]
  },
  {
   "cell_type": "markdown",
   "metadata": {},
   "source": [
    "Посчитаем уникальные значения в столбце `cause`."
   ]
  },
  {
   "cell_type": "code",
   "execution_count": 244,
   "metadata": {
    "scrolled": true
   },
   "outputs": [],
   "source": [
    "russian_stemmer = SnowballStemmer('russian')"
   ]
  },
  {
   "cell_type": "code",
   "execution_count": 245,
   "metadata": {
    "scrolled": true
   },
   "outputs": [
    {
     "name": "stdout",
     "output_type": "stream",
     "text": [
      "['повреждение автомобиля', 'упало дерево на автомобиль', 'сломала ногу в отпуске', 'хищение автомобиля (каско)', 'несчастный случай в отпуске', 'врезались в автомобиль', 'травма во время отдыха', 'сгорела квартира', 'сгорел дом', 'кража автомобиля', 'украли авто', 'потоп в квартире', 'украли багаж в отпуске', 'повреждение авто', 'проникли в жилье', 'кража авто', 'обокрали дачу', 'сотрясение во время отдыха', 'замкнуло электричество дома', 'несчастный случай на отдыхе', 'взломали квартиру', 'травма в отпуске', 'поломка авто', 'затопило дом', 'дтп', 'кража в квартире']\n",
      "\n",
      "26\n"
     ]
    }
   ],
   "source": [
    "reasons_list = ins_df['cause'].unique().tolist()\n",
    "print(reasons_list)\n",
    "print()\n",
    "print(len(reasons_list))"
   ]
  },
  {
   "cell_type": "markdown",
   "metadata": {},
   "source": [
    "<h3><font color=\"#89DD00\">Комментарий ассистента 2</font></h3>\n",
    "\n",
    "Можешь еще `value_counts()` тут использовать, в столбик поудобнее будет категории изучить. Или до этого так и было? В общем, посмотри что более информативно и удобно — \"количество категорий\" или \"количество каждой категории\"."
   ]
  },
  {
   "cell_type": "markdown",
   "metadata": {},
   "source": [
    "<h3><font color=\"#3c00ff\">Update</font></h3>\n",
    "\n",
    "да, так и было))"
   ]
  },
  {
   "cell_type": "code",
   "execution_count": 246,
   "metadata": {
    "scrolled": false
   },
   "outputs": [
    {
     "data": {
      "text/plain": [
       "'жил'"
      ]
     },
     "execution_count": 246,
     "metadata": {},
     "output_type": "execute_result"
    }
   ],
   "source": [
    "russian_stemmer.stem('жилье')"
   ]
  },
  {
   "cell_type": "code",
   "execution_count": 247,
   "metadata": {
    "scrolled": false
   },
   "outputs": [
    {
     "data": {
      "text/plain": [
       "'авт'"
      ]
     },
     "execution_count": 247,
     "metadata": {},
     "output_type": "execute_result"
    }
   ],
   "source": [
    "russian_stemmer.stem('авто')"
   ]
  },
  {
   "cell_type": "markdown",
   "metadata": {},
   "source": [
    "Выделим очевидные разные стеммы и виды страхования, которые из них вытекают: \n",
    "* авто - страхование автомобилей\n",
    "* отдых  - страхование от несчастного случая\n",
    "* отпуск  - страхование от несчастного случая\n",
    "* квартира (-е) / (-у)  - страхование недвижимости\n",
    "* дом  - страхование недвижимости\n",
    "* дача (-у)  - страхование недвижимости\n",
    "* жилье  - страхование недвижимости\n",
    "* дтп  - страхование автомобилей\n",
    "\n",
    "Напишем функцию, которая принимает основу слова и возвращает все названия категорий с ним. Сначала попробуем стэмминг и если не поймаем «чужих» названий — значит этот метод подойдет."
   ]
  },
  {
   "cell_type": "code",
   "execution_count": 248,
   "metadata": {},
   "outputs": [],
   "source": [
    "def search_keyword(categories, keyword):\n",
    "    '''takes list, keyword and returns list of values, containing such keyword'''\n",
    "    \n",
    "    \n",
    "    categories_list = []\n",
    "    for category in categories:\n",
    "        for word in category.split():\n",
    "            stemmed_word = russian_stemmer.stem(word)\n",
    "            if stemmed_word.startswith(keyword):\n",
    "                categories_list.append(category)\n",
    "    return categories_list"
   ]
  },
  {
   "cell_type": "code",
   "execution_count": 249,
   "metadata": {},
   "outputs": [],
   "source": [
    "def search_keyword_var2(dataset, column, keyword):\n",
    "    '''takes dataset, column, keyword and returns list of values, containing such keyword'''\n",
    "    \n",
    "    return dataset[dataset[column].str.contains(keyword)][column].unique().tolist()"
   ]
  },
  {
   "cell_type": "code",
   "execution_count": 250,
   "metadata": {
    "scrolled": true
   },
   "outputs": [
    {
     "data": {
      "text/plain": [
       "['повреждение автомобиля',\n",
       " 'упало дерево на автомобиль',\n",
       " 'хищение автомобиля (каско)',\n",
       " 'врезались в автомобиль',\n",
       " 'кража автомобиля',\n",
       " 'украли авто',\n",
       " 'повреждение авто',\n",
       " 'кража авто',\n",
       " 'поломка авто']"
      ]
     },
     "execution_count": 250,
     "metadata": {},
     "output_type": "execute_result"
    }
   ],
   "source": [
    "search_keyword(reasons_list, 'авт')"
   ]
  },
  {
   "cell_type": "code",
   "execution_count": 251,
   "metadata": {
    "scrolled": true
   },
   "outputs": [
    {
     "data": {
      "text/plain": [
       "['повреждение автомобиля',\n",
       " 'упало дерево на автомобиль',\n",
       " 'хищение автомобиля (каско)',\n",
       " 'врезались в автомобиль',\n",
       " 'кража автомобиля',\n",
       " 'украли авто',\n",
       " 'повреждение авто',\n",
       " 'кража авто',\n",
       " 'поломка авто']"
      ]
     },
     "execution_count": 251,
     "metadata": {},
     "output_type": "execute_result"
    }
   ],
   "source": [
    "search_keyword_var2(ins_df, 'cause', 'авто')"
   ]
  },
  {
   "cell_type": "markdown",
   "metadata": {},
   "source": [
    "<h3><font color=\"#89DD00\">Комментарий ассистента 2</font></h3>\n",
    "\n",
    "Не забудь все-таки объяснить какие виды страхования из стемм вытекают.\n",
    "\n",
    "По твоему вопросу — да, он отрезает окончание и оставляет только неизменяемую часть слова. В случае с 'авто', я думаю, букву 'о' он считает за соединительную гласную и тоже убирает ее."
   ]
  },
  {
   "cell_type": "markdown",
   "metadata": {},
   "source": [
    "<h3><font color=\"#FF0F00\">Комментарий ассистента</font></h3>\n",
    "\n",
    "В Python для стемминг есть специальная библиотека NLTK\n",
    "\n",
    "```\n",
    "from nltk.stem import SnowballStemmer\n",
    "russian_stemmer = SnowballStemmer('russian')\n",
    "```\n",
    "\n",
    "которая содержит стеммеры (объекты, определяющие правила нахождения стемов).\n",
    "\n",
    "В первую очередь тебе необходимо сформировать список текущих уникальных категорий с помощью методов `unique()` и `tolist()`.\n",
    "\n",
    "Далее необходимо написать функцию, которая принимает основу слова, а возвращает все категории с ней. Ты сможешь добраться до нее с помощью двух циклов `for category in categories` и `for word in category` (когда будешь основу в категории, раздели с помощью метода `split()` все слова в ней).\n",
    "\n",
    "Далее сохраняй stemmed_word с помощью русского стеммера и метода `stem()` (методу передавай итератор word) и проверяй с помощью условия проверяй равно ли stemmed_word той основе, которую ты передаешь функции.\n",
    "\n",
    "Для нас важно, что ты понял как работает эта библиотека, поэтому задачу необходимо решить с помощью нее. \n",
    "\n",
    "Так же стоит подробнее объяснить выбор лемм. Дом, дача и жилье явно относятся к страхованию недвижимости, поэтому уже сейчас ты можешь обозначить, что при категоризации их можно объединить."
   ]
  },
  {
   "cell_type": "markdown",
   "metadata": {},
   "source": [
    "<h3><font color=\"#3c00ff\">Update</font></h3>\n",
    "\n",
    "вроде в целом работает, как надо. Единственное, стеммер превращает слово \"авто\" в \"авт\", а \"жилье\" в \"жил\". Соответственно, надо именно эти части слов передавать, чтобы правильно категории отобрать. Это так и должно работать? "
   ]
  },
  {
   "cell_type": "markdown",
   "metadata": {},
   "source": [
    "**Категоризация данных**"
   ]
  },
  {
   "cell_type": "markdown",
   "metadata": {},
   "source": [
    "Cловарь — распространенный способ хранения информации, который помогает убрать текстовые параметры из основной таблицы и увеличить эффективность работы с данными. Выделим словарь для возрастных групп."
   ]
  },
  {
   "cell_type": "code",
   "execution_count": 252,
   "metadata": {
    "scrolled": true
   },
   "outputs": [
    {
     "data": {
      "text/html": [
       "<div>\n",
       "<style scoped>\n",
       "    .dataframe tbody tr th:only-of-type {\n",
       "        vertical-align: middle;\n",
       "    }\n",
       "\n",
       "    .dataframe tbody tr th {\n",
       "        vertical-align: top;\n",
       "    }\n",
       "\n",
       "    .dataframe thead th {\n",
       "        text-align: right;\n",
       "    }\n",
       "</style>\n",
       "<table border=\"1\" class=\"dataframe\">\n",
       "  <thead>\n",
       "    <tr style=\"text-align: right;\">\n",
       "      <th></th>\n",
       "      <th>age_group</th>\n",
       "    </tr>\n",
       "    <tr>\n",
       "      <th>age_id</th>\n",
       "      <th></th>\n",
       "    </tr>\n",
       "  </thead>\n",
       "  <tbody>\n",
       "    <tr>\n",
       "      <th>2</th>\n",
       "      <td>молодой</td>\n",
       "    </tr>\n",
       "    <tr>\n",
       "      <th>3</th>\n",
       "      <td>зрелый</td>\n",
       "    </tr>\n",
       "    <tr>\n",
       "      <th>4</th>\n",
       "      <td>пожилой</td>\n",
       "    </tr>\n",
       "  </tbody>\n",
       "</table>\n",
       "</div>"
      ],
      "text/plain": [
       "       age_group\n",
       "age_id          \n",
       "2        молодой\n",
       "3         зрелый\n",
       "4        пожилой"
      ]
     },
     "execution_count": 252,
     "metadata": {},
     "output_type": "execute_result"
    }
   ],
   "source": [
    "age_dict = ins_df[['age_id', 'age_group']].drop_duplicates().set_index('age_id').sort_index(ascending=True)\n",
    "age_dict"
   ]
  },
  {
   "cell_type": "markdown",
   "metadata": {},
   "source": [
    "<h3><font color=\"#89DD00\">Комментарий ассистента</font></h3>\n",
    "\n",
    "Все так. Теперь текстовые значения age_group в основной таблице можно удалить и использовать только их индекс, что ускорит обработку данных и визуальную работу с таблицей."
   ]
  },
  {
   "cell_type": "markdown",
   "metadata": {},
   "source": [
    "Далее, опираясь на результат прошлого стэмминга, — категоризируем причины выплаты страховых платежей."
   ]
  },
  {
   "cell_type": "code",
   "execution_count": 253,
   "metadata": {},
   "outputs": [],
   "source": [
    "m = Mystem()"
   ]
  },
  {
   "cell_type": "code",
   "execution_count": 254,
   "metadata": {},
   "outputs": [],
   "source": [
    "def lem(string):\n",
    "    '''takes string and returns suitable category'''\n",
    "    \n",
    "    l = m.lemmatize(string)\n",
    "    \n",
    "    if ('автомобиль' in l) or ('дтп' in l):\n",
    "        return 'автомобильное страхование'\n",
    "    \n",
    "    elif ('отпуск' in l) or ('отдых' in l):\n",
    "        return 'страхование от несчастного случая'\n",
    "    \n",
    "    elif ('квартира' in l) or ('жилье' in l) or ('дача' in l) or ('дом' in l):\n",
    "        return 'страхование недвижимости'\n",
    "    \n",
    "#    else:\n",
    "#        return 'прочее'"
   ]
  },
  {
   "cell_type": "code",
   "execution_count": null,
   "metadata": {
    "scrolled": true
   },
   "outputs": [],
   "source": [
    "#ins_df['case_category'] = ins_df['cause'].apply(lem)\n",
    "#ins_df['case_category'].unique()"
   ]
  },
  {
   "cell_type": "code",
   "execution_count": null,
   "metadata": {},
   "outputs": [],
   "source": [
    "# проверка try-except\n",
    "#ins_df.loc[2293, 'case_category'] = np.nan"
   ]
  },
  {
   "cell_type": "code",
   "execution_count": 258,
   "metadata": {
    "scrolled": true
   },
   "outputs": [
    {
     "name": "stdout",
     "output_type": "stream",
     "text": [
      "Ошибка! В списке присутствует неизвестная категория!\n"
     ]
    }
   ],
   "source": [
    "# убрал 'авто'\n",
    "\n",
    "try:\n",
    "    ins_df['case_category'] = ins_df['cause'].apply(lem)\n",
    "    ins_df['case_category'].sum()\n",
    "except TypeError:\n",
    "    print('Ошибка! В списке присутствует неизвестная категория!')\n",
    "    ins_df['case_category'].fillna('неизвестная категория', inplace=True)\n",
    "else:\n",
    "    print('Все ок! Категории присвоены.')"
   ]
  },
  {
   "cell_type": "code",
   "execution_count": 259,
   "metadata": {
    "scrolled": false
   },
   "outputs": [
    {
     "data": {
      "text/plain": [
       "страхование недвижимости             762\n",
       "страхование от несчастного случая    656\n",
       "автомобильное страхование            550\n",
       "неизвестная категория                326\n",
       "Name: case_category, dtype: int64"
      ]
     },
     "execution_count": 259,
     "metadata": {},
     "output_type": "execute_result"
    }
   ],
   "source": [
    "ins_df['case_category'].value_counts()"
   ]
  },
  {
   "cell_type": "code",
   "execution_count": null,
   "metadata": {
    "scrolled": true
   },
   "outputs": [],
   "source": [
    "#ins_df.loc[2293, 'case_category']"
   ]
  },
  {
   "cell_type": "code",
   "execution_count": null,
   "metadata": {},
   "outputs": [],
   "source": [
    "# возврат значения\n",
    "#ins_df.loc[2293, 'case_category'] = 'автомобильное страхование'"
   ]
  },
  {
   "cell_type": "code",
   "execution_count": null,
   "metadata": {
    "scrolled": true
   },
   "outputs": [],
   "source": [
    "#ins_df['case_category'].value_counts()"
   ]
  },
  {
   "cell_type": "markdown",
   "metadata": {},
   "source": [
    "<h3><font color=\"#89DD00\">Комментарий ассистента 3</font></h3>\n",
    "\n",
    "Можешь по идее самой функцией try-except проверять и не заполнять отдельно nan. Применение категоризации `ins_df['case_category'] = ins_df['cause'].apply(lem)` тоже в сам блок try можно перенести."
   ]
  },
  {
   "cell_type": "markdown",
   "metadata": {},
   "source": [
    "<h3><font color=\"#FFB800\">Комментарий ассистента 2</font></h3>\n",
    "\n",
    "Решение с неизвестной категорией напоминает обработку ошибок конструкцией try-except. Имею в виду, что если в нее что-то попадает, то это уже как ошибка и результат неприемлемый: не может итоговая таблица быть с 'неизвестной категорией'.\n",
    "\n",
    "Поэтому либо назвать ее 'остальные', либо придумать как try-except здесь использовать. На счет последнего — какую операцию мы не можем проделать со столбцом, если в нем есть NaN? Вот ее и можно попытаться проделать после заполнения 'case_category'. Если возникает ошибка, то пускай NaN заполняются как 'неизвестная категория'."
   ]
  },
  {
   "cell_type": "markdown",
   "metadata": {},
   "source": [
    "<h3><font color=\"#FF0F00\">Комментарий ассистента</font></h3>\n",
    "\n",
    "Для решения этот задачи есть библиотека pymystem3\n",
    "\n",
    "```\n",
    "from pymystem3 import Mystem\n",
    "m = Mystem()\n",
    "```\n",
    "\n",
    "которая в отличие от NLTK выдает *список* лемматизированных слов (сведенных к словарной форме), а не строку. \n",
    "\n",
    "Для этого необходимо написать функцию лемматизации\n",
    "\n",
    "```\n",
    "def lem(row):\n",
    "    l = m.lemmatize(row)\n",
    "    if 'word_1' in l or 'word_2' in l:\n",
    "        return 'new_category'\n",
    "    ...\n",
    "```\n",
    "\n",
    "и применить ее через метод `apply()` к столбцу с причинами\n",
    "\n",
    "```\n",
    "df['column_1'] = df['column_1'].apply(lem)\n",
    "```\n",
    "\n",
    "Так же обрати внимание, что некоторые твои категории, например, \"дтп\" гипотетически могли встречаться всего 2 или 3 раза. Этих данных недостаточно, чтобы строить какие-то выводы, именно поэтому мы проводим категоризацию. У нас получилось выделить 3 вида страхования из тех формулировок, которые представлены в таблице, поэтому ты тоже подумай еще."
   ]
  },
  {
   "cell_type": "markdown",
   "metadata": {},
   "source": [
    "<h3><font color=\"#3c00ff\">Update</font></h3>\n",
    "\n",
    "переделал"
   ]
  },
  {
   "cell_type": "markdown",
   "metadata": {},
   "source": [
    "Категоризируем статус выплаты компенсации — 0 выплат, выплачена часть, полностью выплачена."
   ]
  },
  {
   "cell_type": "code",
   "execution_count": null,
   "metadata": {},
   "outputs": [],
   "source": [
    "def comp_status(x):\n",
    "    if x == 1:\n",
    "        return 'полностью выплачена'\n",
    "    elif x == 0:\n",
    "        return 'нет выплат'\n",
    "    elif 0 < x < 1:\n",
    "        return 'выплачена часть'"
   ]
  },
  {
   "cell_type": "code",
   "execution_count": null,
   "metadata": {
    "scrolled": true
   },
   "outputs": [],
   "source": [
    "ins_df['compensation_status'] = ins_df['perc_of_compensation_paid'].apply(comp_status)\n",
    "ins_df['compensation_status'].unique()"
   ]
  },
  {
   "cell_type": "markdown",
   "metadata": {},
   "source": [
    "<h3><font color=\"#89DD00\">Комментарий ассистента 2</font></h3>\n",
    "\n",
    "Все так."
   ]
  },
  {
   "cell_type": "markdown",
   "metadata": {},
   "source": [
    "<h3><font color=\"#FF0F00\">Комментарий ассистента</font></h3>\n",
    "\n",
    "Здесь мы ожидаем увидеть применение функции категоризации выплаты через метод `apply()`. Прочитай, пожалуйста, про него в конспекте по категоризации и переделай. Внутри функции у тебя должно быть простое условие: если выплачено 100%, то возращай 'полностью выплачена'. \n",
    "\n",
    "Задавай вопросы в ветку категоризации, если будет что-то непонятно."
   ]
  },
  {
   "cell_type": "markdown",
   "metadata": {},
   "source": [
    "<h3><font color=\"#3c00ff\">Update</font></h3>\n",
    "\n",
    "переделал"
   ]
  },
  {
   "cell_type": "code",
   "execution_count": null,
   "metadata": {
    "scrolled": true
   },
   "outputs": [],
   "source": [
    "ins_df['compensation_status'].value_counts()"
   ]
  },
  {
   "cell_type": "markdown",
   "metadata": {},
   "source": [
    "Категоризируем `income`, разбив данные по квантилям."
   ]
  },
  {
   "cell_type": "code",
   "execution_count": null,
   "metadata": {
    "scrolled": true
   },
   "outputs": [],
   "source": [
    "ins_df.income.quantile(([0.25, 0.50, 0.75]))"
   ]
  },
  {
   "cell_type": "code",
   "execution_count": null,
   "metadata": {},
   "outputs": [],
   "source": [
    "ins_df['income_level'] = pd.qcut(x=ins_df['income'], q=4, labels=['низкий доход', 'доход ниже среднего', 'доход выше среднего', 'высокий доход'])"
   ]
  },
  {
   "cell_type": "code",
   "execution_count": null,
   "metadata": {
    "scrolled": true
   },
   "outputs": [],
   "source": [
    "ins_df = ins_df.drop(columns=['perc_of_compensation_paid', 'age_group', 'age_in_days', 'income', 'cause'])\n",
    "ins_df"
   ]
  },
  {
   "cell_type": "markdown",
   "metadata": {},
   "source": [
    "<h3><font color=\"#89DD00\">Комментарий ассистента 2</font></h3>\n",
    "\n",
    "Ок."
   ]
  },
  {
   "cell_type": "markdown",
   "metadata": {},
   "source": [
    "<h3><font color=\"#FF0F00\">Комментарий ассистента</font></h3>\n",
    "\n",
    "Ты обозначаешь границы, а есть еще метод qcut. Он принимает столбец, по которому категоризируем, количество корзин и лэйблы. С ним у тебя каждая группа должна получится одинаковой размерности. Он все упростит, переделай с ним."
   ]
  },
  {
   "cell_type": "markdown",
   "metadata": {},
   "source": [
    "<h3><font color=\"#3c00ff\">Update</font></h3>\n",
    "\n",
    "переделал"
   ]
  },
  {
   "cell_type": "markdown",
   "metadata": {},
   "source": [
    "## Результаты"
   ]
  },
  {
   "cell_type": "markdown",
   "metadata": {},
   "source": [
    "Подготовим 3 таблицы и изучим результат."
   ]
  },
  {
   "cell_type": "code",
   "execution_count": null,
   "metadata": {
    "scrolled": false
   },
   "outputs": [],
   "source": [
    "table_1 = ins_df.pivot_table(\n",
    "    values='id',\n",
    "    columns='age_id',\n",
    "    index='compensation_status',\n",
    "    aggfunc='count'\n",
    "    ).set_axis(age_dict['age_group'], axis=1).reindex(\n",
    "    index=['нет выплат', 'выплачена часть', 'полностью выплачена'])\n",
    "\n",
    "table_1"
   ]
  },
  {
   "cell_type": "markdown",
   "metadata": {},
   "source": [
    "<h3><font color=\"#89DD00\">Комментарий ассистента 2</font></h3>\n",
    "\n",
    "Да, отличная вещь с описанием методов. Добавили в задачи"
   ]
  },
  {
   "cell_type": "markdown",
   "metadata": {},
   "source": [
    "<h3><font color=\"#FFB800\">Комментарий ассистента</font></h3>\n",
    "\n",
    "Круто, ты самостоятельно разобрался с аргументами `pivot_table()`. У нас результаты незначительно отличаются, но это из-за разной категоризации. \n",
    "\n",
    "И можешь еще наш конспект по изменению типов данных посмотреть, там тоже есть кратко об аргументах `pivot_table()`."
   ]
  },
  {
   "cell_type": "markdown",
   "metadata": {},
   "source": [
    "<h3><font color=\"#3c00ff\">Update</font></h3>\n",
    "\n",
    "переделал со словариком)  \n",
    "конспекты почитал, спасибо)\n",
    "кстати, возможно это ни для кого больше не секрет, но я прямо открыл для себя очень удобные hotkeys - shift и shift+tab для вызова контекстного списка с методами и справки по методу) предлагаю добавить в контекст по jupyter"
   ]
  },
  {
   "cell_type": "code",
   "execution_count": null,
   "metadata": {
    "scrolled": true
   },
   "outputs": [],
   "source": [
    "#table_1.plot(kind='line', grid=True, subplots=False, figsize=(15,5), logy=True, xlabel='статус выплаты',\n",
    "             #title='Логарифмическое распределение статуса выплат в зависимости от возраста клиента')"
   ]
  },
  {
   "cell_type": "markdown",
   "metadata": {},
   "source": [
    "<h3><font color=\"#89DD00\">Комментарий ассистента</font></h3>\n",
    "\n",
    "Круто, что внедряешь здесь элементы исследовательского анализа данных. Этому будет посвящен новый Курс 03 и его проект. Если что, на данном этапе нам будет достаточно сводной таблицы выше"
   ]
  },
  {
   "cell_type": "markdown",
   "metadata": {},
   "source": [
    "*ответьте на вопрос — есть ли зависимость между возрастной группой и статусом выплаты?*"
   ]
  },
  {
   "cell_type": "markdown",
   "metadata": {},
   "source": [
    "### вывод ###\n",
    "* вместе с возрастом клиентов растет и общее количество страховых случаев - это можно объяснить тем, что в зрелом и пожилом возрасте люди больше задумаются о страховании своих рисков. Кроме того, можно предположить, что в зрелом возрасте люди больше берут существенные суммы кредитов(авто, ипотека), при этом банки требует стрхование объекта кредита, а также жизни и здоровья заемщиков;\n",
    "* клиентам в зрелом возрасте в большей степени достаются частичные выплаты, чем пожилым клиентам;\n",
    "* пожилым клиентам в большей степени достаются полные выплаты, чем клиентам в зрелом возрасте."
   ]
  },
  {
   "cell_type": "code",
   "execution_count": null,
   "metadata": {
    "scrolled": true
   },
   "outputs": [],
   "source": [
    "table_2 = ins_df.pivot_table(\n",
    "    values='id',\n",
    "    index='case_category',\n",
    "    columns='compensation_status',\n",
    "    aggfunc='count').reindex(columns=['нет выплат', 'выплачена часть', 'полностью выплачена'])\n",
    "\n",
    "table_2"
   ]
  },
  {
   "cell_type": "markdown",
   "metadata": {},
   "source": [
    "<h3><font color=\"#89DD00\">Комментарий ассистента 2</font></h3>\n",
    "\n",
    "Все так."
   ]
  },
  {
   "cell_type": "markdown",
   "metadata": {},
   "source": [
    "<h3><font color=\"#FF0F00\">Комментарий ассистента</font></h3>\n",
    "\n",
    "Как и говорил выше, из причин обращения нужно категоризировать 3 вида страхования."
   ]
  },
  {
   "cell_type": "markdown",
   "metadata": {},
   "source": [
    "<h3><font color=\"#3c00ff\">Update</font></h3>\n",
    "\n",
    "переделал категории, обновил выводы"
   ]
  },
  {
   "cell_type": "code",
   "execution_count": null,
   "metadata": {
    "scrolled": true
   },
   "outputs": [],
   "source": [
    "#table_2.plot(kind='line', grid=True, subplots=False, figsize=(15,5), logy=True, xlabel='статус выплаты',\n",
    "             #title='Логарифмическое распределение статуса выплат в зависимости от категории случая')"
   ]
  },
  {
   "cell_type": "markdown",
   "metadata": {},
   "source": [
    "*есть ли зависимость между причиной страхового случая и статусом выплаты?*"
   ]
  },
  {
   "cell_type": "markdown",
   "metadata": {},
   "source": [
    "## вывод ##\n",
    "* заметно, что в автостраховании чаще делают полные и частичные выплаты, чем в других категориях\n",
    "* в страховании от НС меньше отказов в выплатах, чем в других категориях"
   ]
  },
  {
   "cell_type": "code",
   "execution_count": null,
   "metadata": {
    "scrolled": false
   },
   "outputs": [],
   "source": [
    "table_3 = ins_df.pivot_table(\n",
    "    values='id',\n",
    "    index='income_level',\n",
    "    columns='compensation_status',\n",
    "    aggfunc='count').reindex(columns=['нет выплат', 'выплачена часть', 'полностью выплачена'])\n",
    "\n",
    "table_3"
   ]
  },
  {
   "cell_type": "code",
   "execution_count": null,
   "metadata": {
    "scrolled": true
   },
   "outputs": [],
   "source": [
    "#table_3.plot(kind='line', grid=True, subplots=False, figsize=(15,5), logy=True, xlabel='уровень дохода',\n",
    "             #title='Логарифмическое распределение статуса выплат в зависимости от дохода клиентов')"
   ]
  },
  {
   "cell_type": "markdown",
   "metadata": {},
   "source": [
    "*есть ли зависимость между доходом клиента и статусом выплаты?*"
   ]
  },
  {
   "cell_type": "markdown",
   "metadata": {},
   "source": [
    "## вывод ##\n",
    "* людям с низким доходом в этой выборке полностью выплачивают компенсации чаще остальных\n",
    "* при этом им также чаще отказывают в выплатах\n",
    "* возможно, это погрешности выборки, требуется доп. исследование"
   ]
  },
  {
   "cell_type": "markdown",
   "metadata": {},
   "source": [
    "<h3><font color=\"#89DD00\">Комментарий ассистента 2</font></h3>\n",
    "\n",
    "Норм."
   ]
  },
  {
   "cell_type": "markdown",
   "metadata": {},
   "source": [
    "<h3><font color=\"#FFB800\">Комментарий ассистента</font></h3>\n",
    "\n",
    "Из последнего столбца можно заметить, что людям с низким доходом в этой выборке полностью выплачивают компенсации чаще остальных. Можно отметить это"
   ]
  },
  {
   "cell_type": "markdown",
   "metadata": {},
   "source": [
    "<h3><font color=\"#3c00ff\">Update</font></h3>\n",
    "\n",
    "обновил выводы"
   ]
  }
 ],
 "metadata": {
  "colab": {
   "collapsed_sections": [],
   "name": "Копия блокнота \"notebook_03_username.ipynb\"",
   "provenance": [],
   "toc_visible": true
  },
  "kernelspec": {
   "display_name": "Python 3",
   "language": "python",
   "name": "python3"
  },
  "language_info": {
   "codemirror_mode": {
    "name": "ipython",
    "version": 3
   },
   "file_extension": ".py",
   "mimetype": "text/x-python",
   "name": "python",
   "nbconvert_exporter": "python",
   "pygments_lexer": "ipython3",
   "version": "3.8.3"
  }
 },
 "nbformat": 4,
 "nbformat_minor": 1
}

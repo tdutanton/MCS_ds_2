{
 "cells": [
  {
   "cell_type": "markdown",
   "metadata": {},
   "source": [
    "<p><img src=\"https://files.cdn.thinkific.com/file_uploads/133292/images/a9e/c1a/bc3/P02.jpg\"></p>"
   ]
  },
  {
   "cell_type": "markdown",
   "metadata": {
    "id": "e5Vts0g2oUvy"
   },
   "source": [
    "`MCSDSC02P01V3______`\n",
    "\n",
    "`MCSDSC02P01V2______`\n",
    "\n",
    "`MCSDSELIMC02P01V1010621`"
   ]
  },
  {
   "cell_type": "markdown",
   "metadata": {},
   "source": [
    "<h3><font color=\"#89DD00\">Комментарий ассистента 2</font></h3>\n",
    "\n",
    "Спасибо, что доделал работу! Я оставил новые комментарии. По самому последнему этапу с модой, возможно, добавлю еще, но попозже — эту часть нужно получше формализовать в брифе сначала."
   ]
  },
  {
   "cell_type": "markdown",
   "metadata": {},
   "source": [
    "<h3><font color=\"#FF0F00\">Комментарий ассистента</font></h3>\n",
    "\n",
    "Привет! Учитывая, что сейчас на курсе нет теории по предобратке на Pandas — твоя итерация очень достойная, ты крутой. Критических замечаний почти нет, но есть доработки.\n",
    "\n",
    "Как обычно, заголовки (комментариев) будут трех цветов. <font color=\"89DD00\">Зеленый</font> — все правильно (и если комментария нет, то это также значит, что все правильно). <font color=\"FFB800\">Желтый</font> — можно доработать. <font color=\"FF0F00\">Красный</font> — нужно исправить.\n",
    "\n",
    "Постарайся учесть эти комментарии в ходе доработки проекта и не удаляй их."
   ]
  },
  {
   "cell_type": "markdown",
   "metadata": {},
   "source": [
    "<h3><font color=\"#3c00ff\">Update</font></h3>\n",
    "\n",
    "теорию я таки поизучал в курсе про ML, но конечно и погуглить много чего и пришлось) спасибо)"
   ]
  },
  {
   "cell_type": "markdown",
   "metadata": {},
   "source": [
    "## Постановка задачи"
   ]
  },
  {
   "cell_type": "markdown",
   "metadata": {},
   "source": [
    "#### Без очереди — это мобильное приложение, которое помогает сделать заказ до прихода в кафе, чтобы не ждать официанта, приготовление еды и счет.\n",
    "\n",
    "Необходимо изучить данные сервиса с тестового запуска на территории дизайн-завода Флакон и Хлебозавода №9 и ответить на вопросы, поставленные менеджером проекта:\n",
    "\n",
    "* На какие кафе приходится больше всего заказов? А на какие дни?\n",
    "* Чаще ли приложением пользуются именно в обеденное время?\n",
    "* Насколько большими компаниями  (или наоборот поодиночке) приходят в кафе?"
   ]
  },
  {
   "cell_type": "markdown",
   "metadata": {},
   "source": [
    "<h3><font color=\"#89DD00\">Комментарий ассистента 2</font></h3>\n",
    "\n",
    "Норм"
   ]
  },
  {
   "cell_type": "markdown",
   "metadata": {},
   "source": [
    "<h3><font color=\"#FFB800\">Комментарий ассистента</font></h3>\n",
    "\n",
    "ОК, и еще бы сюда вставить предложение про сам сервис, что он делает."
   ]
  },
  {
   "cell_type": "markdown",
   "metadata": {},
   "source": [
    "<h3><font color=\"#3c00ff\">Update</font></h3>\n",
    "\n",
    "добавил"
   ]
  },
  {
   "cell_type": "markdown",
   "metadata": {},
   "source": [
    "## Описание и план работ"
   ]
  },
  {
   "cell_type": "markdown",
   "metadata": {},
   "source": [
    "### Шаг №1. Доступ к проекту\n",
    "\n",
    "1. Создать аккаунт на GitHub и написать в чат, указав никнейм\n",
    "\n",
    "2. Сделать клон репозитория на локальную машину\n",
    "\n",
    "3. Перейти в директорию project_reviewing и создать в ней папку с никнеймом в телеграме.\n",
    "\n",
    "4. Скопировать файл project_02_username.ipynb, подставив свой ник в телеграме, и перенести эту копию в ранее созданную папку\n",
    "\n",
    "### Шаг №2. Получение данных\n",
    "\n",
    "Импортировать нужные библиотеки и прочитать файл bez_ocheredi.csv из папки data. Получить первые 10 строк таблицы и общую информацию о наборе. Описать полученные данные.\n",
    "\n",
    "### Шаг №3. Предобработка данных\n",
    "\n",
    "Получить названия параметров (столбцов) и переименовать при обнаружении проблем.\n",
    "\n",
    "Посчитать пропущенные значения. В строках с пропущенным названием ресторана заполнить его словом admin.\n",
    "\n",
    "Посчитать полные дубликаты, удалить их и проверить, что больше их не осталось.\n",
    "\n",
    "Вычислить дубликаты Iskra Bar и переименовать на правильное название.\n",
    "\n",
    "### Шаг №4. Распределение заказов в течение недели\n",
    "\n",
    "Посчитать, на какие кафе приходится больше всего заказов.\n",
    "\n",
    "Сгруппировать данные по дню недели и посчитать, на какие дни приходится больше всего заказов.\n",
    "\n",
    "Написать функцию, которая возвращает количество заказов для ресторана в определенный день.\n",
    "Передать функции заведения Iskra Bar и Там Ем, и понедельник, среду и пятницу в качестве дня недели.\n",
    "Свести результат в таблицу, в которой столбцами являются ресторан и 3 дня недели.\n",
    "\n",
    "### Шаг №5. Распределение заказов в течение дня\n",
    "\n",
    "Написать функцию, которая возвращает количество заказов за определенный промежуток времени.\n",
    "Сравнить заказы с 12 до 16 и с 16 до 22.\n",
    "\n",
    "### Шаг №6. Типичное количество человек за столиком\n",
    "\n",
    "Написать функцию, которая определяет моду (типичное значение) количества человек, для которых заказывается столик. Протестировать функцию на Iskra Bar и Там Ем, передав ей дневной и вечерний промежуток времени.\n",
    "\n",
    "### Шаг №7. Общие выводы\n",
    "\n",
    "Написать общие выводы."
   ]
  },
  {
   "cell_type": "markdown",
   "metadata": {},
   "source": [
    "## Описание данных\n",
    "\n",
    "* userID — уникальный ID пользователя\n",
    "* ресторан — название ресторана\n",
    "* weekday — день недели\n",
    "* ordered — на какое время сделан заказ\n",
    "* Столик для — для скольких людей заказан столик"
   ]
  },
  {
   "cell_type": "markdown",
   "metadata": {},
   "source": [
    "<h3><font color=\"#89DD00\">Комментарий ассистента 2</font></h3>\n",
    "\n",
    "Норм"
   ]
  },
  {
   "cell_type": "markdown",
   "metadata": {},
   "source": [
    "<h3><font color=\"#FFB800\">Комментарий ассистента</font></h3>\n",
    "\n",
    "Для построения ds-портфолио важны 2 вещи — блог, то есть умение рассказать о своем \"ходе мышления\" на проекте и код в репозиториях на GitHub. Формат ноутбука является 2 в 1 и сейчас вы описываете в нем свой проект для потенциального работодателя.\n",
    "\n",
    "Я все это говорю к тому, что зачем ему видеть про «☑️ Готов к проверке» или «Критерии проверки»? Это инструкция/помощь в выполнении проекта от школы, можно опустить это)"
   ]
  },
  {
   "cell_type": "markdown",
   "metadata": {},
   "source": [
    "<h3><font color=\"#3c00ff\">Update</font></h3>\n",
    "\n",
    "ок, убрал)"
   ]
  },
  {
   "cell_type": "markdown",
   "metadata": {},
   "source": [
    "## Импорт данных и библиотек"
   ]
  },
  {
   "cell_type": "code",
   "execution_count": 1,
   "metadata": {},
   "outputs": [],
   "source": [
    "import pandas as pd, os"
   ]
  },
  {
   "cell_type": "markdown",
   "metadata": {},
   "source": [
    "Прочитаем файл `bez_ocheredi.csv` и сохраним его в переменную `bo_data`."
   ]
  },
  {
   "cell_type": "code",
   "execution_count": 2,
   "metadata": {},
   "outputs": [],
   "source": [
    "#data_dir = os.path.relpath('../../data')\n",
    "#bo_data = pd.read_csv(os.path.join(data_dir, 'bez_ocheredi.csv'))\n",
    "\n",
    "bo_data = pd.read_csv('/Users/elimilo/Desktop/mcs_ds_02/data/bez_ocheredi.csv')"
   ]
  },
  {
   "cell_type": "markdown",
   "metadata": {},
   "source": [
    "Получим первые 10 строк таблицы."
   ]
  },
  {
   "cell_type": "code",
   "execution_count": 1235,
   "metadata": {
    "scrolled": true
   },
   "outputs": [
    {
     "data": {
      "text/html": [
       "<div>\n",
       "<style scoped>\n",
       "    .dataframe tbody tr th:only-of-type {\n",
       "        vertical-align: middle;\n",
       "    }\n",
       "\n",
       "    .dataframe tbody tr th {\n",
       "        vertical-align: top;\n",
       "    }\n",
       "\n",
       "    .dataframe thead th {\n",
       "        text-align: right;\n",
       "    }\n",
       "</style>\n",
       "<table border=\"1\" class=\"dataframe\">\n",
       "  <thead>\n",
       "    <tr style=\"text-align: right;\">\n",
       "      <th></th>\n",
       "      <th>userID</th>\n",
       "      <th>ресторан</th>\n",
       "      <th>weekday</th>\n",
       "      <th>ordered</th>\n",
       "      <th>Столик для</th>\n",
       "    </tr>\n",
       "  </thead>\n",
       "  <tbody>\n",
       "    <tr>\n",
       "      <th>0</th>\n",
       "      <td>b912c3c6a6ad</td>\n",
       "      <td>Iskra Bar</td>\n",
       "      <td>Monday</td>\n",
       "      <td>10:00</td>\n",
       "      <td>1</td>\n",
       "    </tr>\n",
       "    <tr>\n",
       "      <th>1</th>\n",
       "      <td>2dac0150717d</td>\n",
       "      <td>Iskra Bar</td>\n",
       "      <td>Monday</td>\n",
       "      <td>13:30</td>\n",
       "      <td>2</td>\n",
       "    </tr>\n",
       "    <tr>\n",
       "      <th>2</th>\n",
       "      <td>ba83aefab5dc</td>\n",
       "      <td>Iskra Bar</td>\n",
       "      <td>Tuesday</td>\n",
       "      <td>12:30</td>\n",
       "      <td>3</td>\n",
       "    </tr>\n",
       "    <tr>\n",
       "      <th>3</th>\n",
       "      <td>02996f1dd2ea</td>\n",
       "      <td>Iskra Bar</td>\n",
       "      <td>Wednesday</td>\n",
       "      <td>12:00</td>\n",
       "      <td>2</td>\n",
       "    </tr>\n",
       "    <tr>\n",
       "      <th>4</th>\n",
       "      <td>7c90be56d2ab</td>\n",
       "      <td>Iskra Bar</td>\n",
       "      <td>Thursday</td>\n",
       "      <td>14:30</td>\n",
       "      <td>3</td>\n",
       "    </tr>\n",
       "    <tr>\n",
       "      <th>5</th>\n",
       "      <td>51e0962387f7</td>\n",
       "      <td>Там Ем</td>\n",
       "      <td>Friday</td>\n",
       "      <td>12:30</td>\n",
       "      <td>2</td>\n",
       "    </tr>\n",
       "    <tr>\n",
       "      <th>6</th>\n",
       "      <td>c4f260a2b48a</td>\n",
       "      <td>NaN</td>\n",
       "      <td>Saturday</td>\n",
       "      <td>15:00</td>\n",
       "      <td>6</td>\n",
       "    </tr>\n",
       "    <tr>\n",
       "      <th>7</th>\n",
       "      <td>6b71309d6a8a</td>\n",
       "      <td>Крафтейнер</td>\n",
       "      <td>Monday</td>\n",
       "      <td>10:30</td>\n",
       "      <td>1</td>\n",
       "    </tr>\n",
       "    <tr>\n",
       "      <th>8</th>\n",
       "      <td>c5b969cb63a2</td>\n",
       "      <td>Бар Сибирь</td>\n",
       "      <td>Wednesday</td>\n",
       "      <td>15:30</td>\n",
       "      <td>2</td>\n",
       "    </tr>\n",
       "    <tr>\n",
       "      <th>9</th>\n",
       "      <td>b1570962e68c</td>\n",
       "      <td>Бар Сибирь</td>\n",
       "      <td>Wednesday</td>\n",
       "      <td>12:30</td>\n",
       "      <td>3</td>\n",
       "    </tr>\n",
       "  </tbody>\n",
       "</table>\n",
       "</div>"
      ],
      "text/plain": [
       "        userID    ресторан     weekday  ordered    Столик для \n",
       "0  b912c3c6a6ad   Iskra Bar     Monday     10:00             1\n",
       "1  2dac0150717d   Iskra Bar     Monday     13:30             2\n",
       "2  ba83aefab5dc   Iskra Bar    Tuesday     12:30             3\n",
       "3  02996f1dd2ea   Iskra Bar  Wednesday     12:00             2\n",
       "4  7c90be56d2ab   Iskra Bar   Thursday     14:30             3\n",
       "5  51e0962387f7      Там Ем     Friday     12:30             2\n",
       "6  c4f260a2b48a         NaN   Saturday     15:00             6\n",
       "7  6b71309d6a8a  Крафтейнер     Monday     10:30             1\n",
       "8  c5b969cb63a2  Бар Сибирь  Wednesday     15:30             2\n",
       "9  b1570962e68c  Бар Сибирь  Wednesday     12:30             3"
      ]
     },
     "execution_count": 1235,
     "metadata": {},
     "output_type": "execute_result"
    }
   ],
   "source": [
    "bo_data.head(10)"
   ]
  },
  {
   "cell_type": "markdown",
   "metadata": {},
   "source": [
    "Получим общую информацию о данных из таблицы."
   ]
  },
  {
   "cell_type": "code",
   "execution_count": 1236,
   "metadata": {
    "scrolled": true
   },
   "outputs": [
    {
     "name": "stdout",
     "output_type": "stream",
     "text": [
      "<class 'pandas.core.frame.DataFrame'>\n",
      "RangeIndex: 1024 entries, 0 to 1023\n",
      "Data columns (total 5 columns):\n",
      " #   Column        Non-Null Count  Dtype \n",
      "---  ------        --------------  ----- \n",
      " 0   userID        1024 non-null   object\n",
      " 1    ресторан     959 non-null    object\n",
      " 2    weekday      1024 non-null   object\n",
      " 3    ordered      1024 non-null   object\n",
      " 4    Столик для   1024 non-null   int64 \n",
      "dtypes: int64(1), object(4)\n",
      "memory usage: 40.1+ KB\n"
     ]
    }
   ],
   "source": [
    "bo_data.info()"
   ]
  },
  {
   "cell_type": "code",
   "execution_count": 1237,
   "metadata": {
    "scrolled": false
   },
   "outputs": [
    {
     "data": {
      "text/html": [
       "<div>\n",
       "<style scoped>\n",
       "    .dataframe tbody tr th:only-of-type {\n",
       "        vertical-align: middle;\n",
       "    }\n",
       "\n",
       "    .dataframe tbody tr th {\n",
       "        vertical-align: top;\n",
       "    }\n",
       "\n",
       "    .dataframe thead th {\n",
       "        text-align: right;\n",
       "    }\n",
       "</style>\n",
       "<table border=\"1\" class=\"dataframe\">\n",
       "  <thead>\n",
       "    <tr style=\"text-align: right;\">\n",
       "      <th></th>\n",
       "      <th>userID</th>\n",
       "      <th>ресторан</th>\n",
       "      <th>weekday</th>\n",
       "      <th>ordered</th>\n",
       "      <th>Столик для</th>\n",
       "    </tr>\n",
       "  </thead>\n",
       "  <tbody>\n",
       "    <tr>\n",
       "      <th>count</th>\n",
       "      <td>1024</td>\n",
       "      <td>959</td>\n",
       "      <td>1024</td>\n",
       "      <td>1024</td>\n",
       "      <td>1024.000000</td>\n",
       "    </tr>\n",
       "    <tr>\n",
       "      <th>unique</th>\n",
       "      <td>1000</td>\n",
       "      <td>9</td>\n",
       "      <td>7</td>\n",
       "      <td>23</td>\n",
       "      <td>NaN</td>\n",
       "    </tr>\n",
       "    <tr>\n",
       "      <th>top</th>\n",
       "      <td>999d9913fe4d</td>\n",
       "      <td>Iskra Bar</td>\n",
       "      <td>Tuesday</td>\n",
       "      <td>14:30</td>\n",
       "      <td>NaN</td>\n",
       "    </tr>\n",
       "    <tr>\n",
       "      <th>freq</th>\n",
       "      <td>7</td>\n",
       "      <td>269</td>\n",
       "      <td>252</td>\n",
       "      <td>101</td>\n",
       "      <td>NaN</td>\n",
       "    </tr>\n",
       "    <tr>\n",
       "      <th>mean</th>\n",
       "      <td>NaN</td>\n",
       "      <td>NaN</td>\n",
       "      <td>NaN</td>\n",
       "      <td>NaN</td>\n",
       "      <td>1.752930</td>\n",
       "    </tr>\n",
       "    <tr>\n",
       "      <th>std</th>\n",
       "      <td>NaN</td>\n",
       "      <td>NaN</td>\n",
       "      <td>NaN</td>\n",
       "      <td>NaN</td>\n",
       "      <td>0.831028</td>\n",
       "    </tr>\n",
       "    <tr>\n",
       "      <th>min</th>\n",
       "      <td>NaN</td>\n",
       "      <td>NaN</td>\n",
       "      <td>NaN</td>\n",
       "      <td>NaN</td>\n",
       "      <td>1.000000</td>\n",
       "    </tr>\n",
       "    <tr>\n",
       "      <th>25%</th>\n",
       "      <td>NaN</td>\n",
       "      <td>NaN</td>\n",
       "      <td>NaN</td>\n",
       "      <td>NaN</td>\n",
       "      <td>1.000000</td>\n",
       "    </tr>\n",
       "    <tr>\n",
       "      <th>50%</th>\n",
       "      <td>NaN</td>\n",
       "      <td>NaN</td>\n",
       "      <td>NaN</td>\n",
       "      <td>NaN</td>\n",
       "      <td>2.000000</td>\n",
       "    </tr>\n",
       "    <tr>\n",
       "      <th>75%</th>\n",
       "      <td>NaN</td>\n",
       "      <td>NaN</td>\n",
       "      <td>NaN</td>\n",
       "      <td>NaN</td>\n",
       "      <td>2.000000</td>\n",
       "    </tr>\n",
       "    <tr>\n",
       "      <th>max</th>\n",
       "      <td>NaN</td>\n",
       "      <td>NaN</td>\n",
       "      <td>NaN</td>\n",
       "      <td>NaN</td>\n",
       "      <td>6.000000</td>\n",
       "    </tr>\n",
       "  </tbody>\n",
       "</table>\n",
       "</div>"
      ],
      "text/plain": [
       "             userID   ресторан   weekday  ordered    Столик для \n",
       "count           1024        959     1024      1024   1024.000000\n",
       "unique          1000          9        7        23           NaN\n",
       "top     999d9913fe4d  Iskra Bar  Tuesday     14:30           NaN\n",
       "freq               7        269      252       101           NaN\n",
       "mean             NaN        NaN      NaN       NaN      1.752930\n",
       "std              NaN        NaN      NaN       NaN      0.831028\n",
       "min              NaN        NaN      NaN       NaN      1.000000\n",
       "25%              NaN        NaN      NaN       NaN      1.000000\n",
       "50%              NaN        NaN      NaN       NaN      2.000000\n",
       "75%              NaN        NaN      NaN       NaN      2.000000\n",
       "max              NaN        NaN      NaN       NaN      6.000000"
      ]
     },
     "execution_count": 1237,
     "metadata": {},
     "output_type": "execute_result"
    }
   ],
   "source": [
    "bo_data.describe(include='all')"
   ]
  },
  {
   "cell_type": "code",
   "execution_count": 1238,
   "metadata": {
    "scrolled": true
   },
   "outputs": [
    {
     "data": {
      "text/plain": [
       "userID          1000\n",
       " ресторан          9\n",
       " weekday           7\n",
       " ordered          23\n",
       " Столик для        6\n",
       "dtype: int64"
      ]
     },
     "execution_count": 1238,
     "metadata": {},
     "output_type": "execute_result"
    }
   ],
   "source": [
    "bo_data.nunique()"
   ]
  },
  {
   "cell_type": "code",
   "execution_count": 1239,
   "metadata": {
    "scrolled": true
   },
   "outputs": [
    {
     "data": {
      "text/plain": [
       "(1024, 5)"
      ]
     },
     "execution_count": 1239,
     "metadata": {},
     "output_type": "execute_result"
    }
   ],
   "source": [
    "bo_data.shape"
   ]
  },
  {
   "cell_type": "code",
   "execution_count": 1240,
   "metadata": {
    "scrolled": false
   },
   "outputs": [
    {
     "data": {
      "text/plain": [
       "userID          object\n",
       " ресторан       object\n",
       " weekday        object\n",
       " ordered        object\n",
       " Столик для      int64\n",
       "dtype: object"
      ]
     },
     "execution_count": 1240,
     "metadata": {},
     "output_type": "execute_result"
    }
   ],
   "source": [
    "bo_data.dtypes"
   ]
  },
  {
   "cell_type": "markdown",
   "metadata": {},
   "source": [
    "Столбцы в `bo_data` содержат следующую информацию:\n",
    "\n",
    "* userID — уникальный ID пользователя\n",
    "* ресторан — название ресторана\n",
    "* weekday — день недели\n",
    "* ordered — на какое время сделан заказ\n",
    "* Столик для — для скольких людей заказан столик"
   ]
  },
  {
   "cell_type": "markdown",
   "metadata": {},
   "source": [
    "### Выводы"
   ]
  },
  {
   "cell_type": "markdown",
   "metadata": {},
   "source": [
    "* в датасете 1024 строки и 5 столбцов.\n",
    "* все столбцы, за исключением последнего, строковые. Последний столбец содержит целые числа от 1 до 6.\n",
    "* в столбце userid 1000 уникальных значений при общем кол-ве строк 1024. Это свидетельствует о наличии дубликатов.\n",
    "* столбец \"ресторан\" содержит пропущенные значения.\n",
    "*  с днями недели, видимо, все ок. По крайней мере их 7))"
   ]
  },
  {
   "cell_type": "markdown",
   "metadata": {},
   "source": [
    "<h3><font color=\"#89DD00\">Комментарий ассистента 2</font></h3>\n",
    "\n",
    "ОК, но теперь чересчур подробно. `info()` самый оптимальный здесь, все так, про остальные я к слову упомянул)"
   ]
  },
  {
   "cell_type": "markdown",
   "metadata": {},
   "source": [
    "<h3><font color=\"#FFB800\">Комментарий ассистента</font></h3>\n",
    "\n",
    "По этой части несколько комментариев:\n",
    "\n",
    "1. Передавай в `head()` побольше строк, иначе можно не увидеть структуру данных (особенно в следующих кейсах)\n",
    "\n",
    "\n",
    "2. К методу `info()` добавлю, что можно еще использовать атрибут `dtypes` для более компактного вывода типов и атрибут `shape` для вывода размерности\n",
    "\n",
    "\n",
    "3. По дефолту метод `describe()` возвращает только числовые типы, передавай тогда `include='all'`, а то сейчас не очень много пользы\n",
    "\n",
    "\n",
    "4. Выводы OK — указываешь на структуру данных, а также обращаешь внимание на дубликаты и пропуски"
   ]
  },
  {
   "cell_type": "markdown",
   "metadata": {},
   "source": [
    "<h3><font color=\"#3c00ff\">Update</font></h3>\n",
    "\n",
    "1. изменил `head(10)`\n",
    "2. да, спасибо. Ну я не стал отдельно прописывать `shape` и `dtypes`, т.к. эта инфа уже есть в `info()`\n",
    "3. о! так информативней конечно)\n",
    "4. ок"
   ]
  },
  {
   "cell_type": "markdown",
   "metadata": {},
   "source": [
    "## Предобработка данных"
   ]
  },
  {
   "cell_type": "markdown",
   "metadata": {},
   "source": [
    "Получим названия столбцов."
   ]
  },
  {
   "cell_type": "code",
   "execution_count": 3,
   "metadata": {
    "scrolled": false
   },
   "outputs": [
    {
     "data": {
      "text/plain": [
       "Index(['userID ', ' ресторан ', ' weekday', ' ordered ', ' Столик для '], dtype='object')"
      ]
     },
     "execution_count": 3,
     "metadata": {},
     "output_type": "execute_result"
    }
   ],
   "source": [
    "bo_data.columns"
   ]
  },
  {
   "cell_type": "markdown",
   "metadata": {},
   "source": [
    "Обращаем внимание, что помимо названий на разном языке, в них есть пробелы, которые затрудняют доступ к данным. Переименуем столбцы и проверим результат."
   ]
  },
  {
   "cell_type": "code",
   "execution_count": 4,
   "metadata": {},
   "outputs": [],
   "source": [
    "#bo_data = bo_data.rename(columns = {'userID ':'user_id',\n",
    "#                          ' ресторан ':'restaurant',\n",
    "#                         ' weekday':'weekday',\n",
    "#                          ' ordered ':'ordered_time',\n",
    "#                          ' Столик для ':'guests_per_table'})\n",
    "\n",
    "bo_data.set_axis(['user_id', 'restaurant', 'weekday', 'ordered_time', 'guests_per_table'], axis=1, inplace=True)"
   ]
  },
  {
   "cell_type": "code",
   "execution_count": 5,
   "metadata": {
    "scrolled": true
   },
   "outputs": [
    {
     "data": {
      "text/plain": [
       "Index(['user_id', 'restaurant', 'weekday', 'ordered_time', 'guests_per_table'], dtype='object')"
      ]
     },
     "execution_count": 5,
     "metadata": {},
     "output_type": "execute_result"
    }
   ],
   "source": [
    "bo_data.columns"
   ]
  },
  {
   "cell_type": "markdown",
   "metadata": {},
   "source": [
    "Еще раз проверим данные на наличие пропусков, просуммировав их."
   ]
  },
  {
   "cell_type": "code",
   "execution_count": 6,
   "metadata": {
    "scrolled": false
   },
   "outputs": [
    {
     "data": {
      "text/plain": [
       "user_id              0\n",
       "restaurant          65\n",
       "weekday              0\n",
       "ordered_time         0\n",
       "guests_per_table     0\n",
       "dtype: int64"
      ]
     },
     "execution_count": 6,
     "metadata": {},
     "output_type": "execute_result"
    }
   ],
   "source": [
    "bo_data.isna().sum()"
   ]
  },
  {
   "cell_type": "markdown",
   "metadata": {},
   "source": [
    "Менеджер проекта предупреждал, что некоторые заказы заводились на тестовую карточку кафе без названия, поэтому есть смысл заполнить такой пропуск словом admin."
   ]
  },
  {
   "cell_type": "code",
   "execution_count": 7,
   "metadata": {},
   "outputs": [],
   "source": [
    "bo_data['restaurant'] = bo_data['restaurant'].fillna('admin')"
   ]
  },
  {
   "cell_type": "markdown",
   "metadata": {},
   "source": [
    "Проверяем, что пропусков не осталось."
   ]
  },
  {
   "cell_type": "code",
   "execution_count": 8,
   "metadata": {
    "scrolled": true
   },
   "outputs": [
    {
     "data": {
      "text/plain": [
       "user_id             0\n",
       "restaurant          0\n",
       "weekday             0\n",
       "ordered_time        0\n",
       "guests_per_table    0\n",
       "dtype: int64"
      ]
     },
     "execution_count": 8,
     "metadata": {},
     "output_type": "execute_result"
    }
   ],
   "source": [
    "bo_data.isna().sum()"
   ]
  },
  {
   "cell_type": "markdown",
   "metadata": {},
   "source": [
    "Установим количество явных дубликатов. Если найдутся, то удалим и снова проверим, что их не осталось."
   ]
  },
  {
   "cell_type": "code",
   "execution_count": 9,
   "metadata": {
    "scrolled": true
   },
   "outputs": [
    {
     "data": {
      "text/plain": [
       "24"
      ]
     },
     "execution_count": 9,
     "metadata": {},
     "output_type": "execute_result"
    }
   ],
   "source": [
    "dup_quantity = bo_data.duplicated().sum()\n",
    "bo_data.duplicated().sum()"
   ]
  },
  {
   "cell_type": "code",
   "execution_count": 22,
   "metadata": {},
   "outputs": [],
   "source": [
    "bo_data = bo_data.drop_duplicates()\n",
    "bo_data = bo_data.reset_index()"
   ]
  },
  {
   "cell_type": "code",
   "execution_count": 28,
   "metadata": {
    "scrolled": true
   },
   "outputs": [
    {
     "data": {
      "text/html": [
       "<div>\n",
       "<style scoped>\n",
       "    .dataframe tbody tr th:only-of-type {\n",
       "        vertical-align: middle;\n",
       "    }\n",
       "\n",
       "    .dataframe tbody tr th {\n",
       "        vertical-align: top;\n",
       "    }\n",
       "\n",
       "    .dataframe thead th {\n",
       "        text-align: right;\n",
       "    }\n",
       "</style>\n",
       "<table border=\"1\" class=\"dataframe\">\n",
       "  <thead>\n",
       "    <tr style=\"text-align: right;\">\n",
       "      <th></th>\n",
       "      <th>index</th>\n",
       "      <th>user_id</th>\n",
       "      <th>restaurant</th>\n",
       "      <th>weekday</th>\n",
       "      <th>ordered_time</th>\n",
       "      <th>guests_per_table</th>\n",
       "    </tr>\n",
       "  </thead>\n",
       "  <tbody>\n",
       "    <tr>\n",
       "      <th>20</th>\n",
       "      <td>20</td>\n",
       "      <td>ea12aec32ec3</td>\n",
       "      <td>Северия</td>\n",
       "      <td>Tuesday</td>\n",
       "      <td>12:30</td>\n",
       "      <td>4</td>\n",
       "    </tr>\n",
       "    <tr>\n",
       "      <th>21</th>\n",
       "      <td>21</td>\n",
       "      <td>838a82cec0a6</td>\n",
       "      <td>admin</td>\n",
       "      <td>Wednesday</td>\n",
       "      <td>13:00</td>\n",
       "      <td>4</td>\n",
       "    </tr>\n",
       "    <tr>\n",
       "      <th>22</th>\n",
       "      <td>26</td>\n",
       "      <td>de310e6aae86</td>\n",
       "      <td>Северия</td>\n",
       "      <td>Thursday</td>\n",
       "      <td>12:00</td>\n",
       "      <td>2</td>\n",
       "    </tr>\n",
       "    <tr>\n",
       "      <th>23</th>\n",
       "      <td>27</td>\n",
       "      <td>08b24e170109</td>\n",
       "      <td>Северия</td>\n",
       "      <td>Saturday</td>\n",
       "      <td>11:00</td>\n",
       "      <td>3</td>\n",
       "    </tr>\n",
       "    <tr>\n",
       "      <th>24</th>\n",
       "      <td>28</td>\n",
       "      <td>065a4daba35f</td>\n",
       "      <td>Бар Сибирь</td>\n",
       "      <td>Tuesday</td>\n",
       "      <td>13:30</td>\n",
       "      <td>1</td>\n",
       "    </tr>\n",
       "    <tr>\n",
       "      <th>25</th>\n",
       "      <td>29</td>\n",
       "      <td>990113ae4f1c</td>\n",
       "      <td>Крафтейнер</td>\n",
       "      <td>Monday</td>\n",
       "      <td>13:30</td>\n",
       "      <td>1</td>\n",
       "    </tr>\n",
       "  </tbody>\n",
       "</table>\n",
       "</div>"
      ],
      "text/plain": [
       "    index       user_id  restaurant    weekday ordered_time  guests_per_table\n",
       "20     20  ea12aec32ec3     Северия    Tuesday        12:30                 4\n",
       "21     21  838a82cec0a6       admin  Wednesday        13:00                 4\n",
       "22     26  de310e6aae86     Северия   Thursday        12:00                 2\n",
       "23     27  08b24e170109     Северия   Saturday        11:00                 3\n",
       "24     28  065a4daba35f  Бар Сибирь    Tuesday        13:30                 1\n",
       "25     29  990113ae4f1c  Крафтейнер     Monday        13:30                 1"
      ]
     },
     "execution_count": 28,
     "metadata": {},
     "output_type": "execute_result"
    }
   ],
   "source": [
    "bo_data.loc[20:25]"
   ]
  },
  {
   "cell_type": "markdown",
   "metadata": {},
   "source": [
    "<h3><font color=\"#FFB800\">Комментарий ассистента 2</font></h3>\n",
    "\n",
    "Вывел срез, в котором были дубликаты, чтобы показать, что если не передавать `drop=True` методу `reset_index()`, то он добавляет его как отдельный столбец. Нам такое не надо. \n",
    "\n",
    "И еще пиши цепочкой все-таки `drop_duplicates().reset_index(drop=True)`, а то зачем строки расходовать :-))"
   ]
  },
  {
   "cell_type": "code",
   "execution_count": 1249,
   "metadata": {
    "scrolled": false
   },
   "outputs": [
    {
     "data": {
      "text/plain": [
       "0"
      ]
     },
     "execution_count": 1249,
     "metadata": {},
     "output_type": "execute_result"
    }
   ],
   "source": [
    "bo_data.duplicated().sum()"
   ]
  },
  {
   "cell_type": "markdown",
   "metadata": {},
   "source": [
    "Скорее всего, такие полные дубликаты говорят о сбое при выгрузке данных. Необходимо сообщить об этом."
   ]
  },
  {
   "cell_type": "code",
   "execution_count": 1250,
   "metadata": {
    "scrolled": true
   },
   "outputs": [
    {
     "name": "stdout",
     "output_type": "stream",
     "text": [
      "В датасете обнаружено 24 записей-дубликатов. Возможно, произошел сбой при выгрузке данных\n"
     ]
    }
   ],
   "source": [
    "if dup_quantity > 0:\n",
    "    print('В датасете обнаружено {} записей-дубликатов. Возможно, произошел сбой при выгрузке данных'.format(dup_quantity))"
   ]
  },
  {
   "cell_type": "markdown",
   "metadata": {},
   "source": [
    "Еще одна проблема, о которой предупреждал менеджер проекта — дубликаты карточки Iskra Bar с неправильными названием бара - \"Искра\" и \"Искр\". На них заводились реальные заказы, поэтому необходимо вычислить их и переименовать на правильное название — Iskra Bar.\n",
    "\n",
    "Объявим функцию `replace_restaurant()`, которая заменяет неправильное название, а потом проверяет успешность выполнения замены подсчетом (если замена прошла успешно — результат подсчета должен быть 0)."
   ]
  },
  {
   "cell_type": "code",
   "execution_count": 31,
   "metadata": {},
   "outputs": [],
   "source": [
    "def replace_restaurant(dataset, oldname,newname):\n",
    "    '''берет на вход датасет, старое и новое название ресторанов и исправляет записи'''\n",
    "    print('Количество записей с ошибкой в названии ресторана: {}'.format(len(dataset.loc[dataset['restaurant'] == oldname])))\n",
    "    dataset.loc[dataset['restaurant'] == oldname, 'restaurant'] = newname\n",
    "    print('Исправляем записи...')\n",
    "    print('Количество записей с ошибкой в названии ресторана: {}'.format(len(dataset.loc[dataset['restaurant'] == oldname])))"
   ]
  },
  {
   "cell_type": "code",
   "execution_count": 32,
   "metadata": {},
   "outputs": [],
   "source": [
    "def replace_restaurant_2(df, oldname, newname):\n",
    "    df['restaurant'] = df['restaurant'].replace(oldname, newname)\n",
    "    result = df[df['restaurant'] == oldname]['restaurant'].count()\n",
    "    \n",
    "    return result"
   ]
  },
  {
   "cell_type": "markdown",
   "metadata": {},
   "source": [
    "Передаем функции названия 'Искра' и 'Искр'."
   ]
  },
  {
   "cell_type": "code",
   "execution_count": 33,
   "metadata": {},
   "outputs": [
    {
     "data": {
      "text/plain": [
       "0"
      ]
     },
     "execution_count": 33,
     "metadata": {},
     "output_type": "execute_result"
    }
   ],
   "source": [
    "replace_restaurant_2(bo_data, 'Искра','Iskra Bar')"
   ]
  },
  {
   "cell_type": "code",
   "execution_count": 34,
   "metadata": {
    "scrolled": false
   },
   "outputs": [
    {
     "data": {
      "text/plain": [
       "0"
      ]
     },
     "execution_count": 34,
     "metadata": {},
     "output_type": "execute_result"
    }
   ],
   "source": [
    "replace_restaurant_2(bo_data, 'Искр','Iskra Bar')"
   ]
  },
  {
   "cell_type": "markdown",
   "metadata": {},
   "source": [
    "### Выводы"
   ]
  },
  {
   "cell_type": "markdown",
   "metadata": {},
   "source": [
    "* наименования столбцов поправлены, но логично было бы исправить мэппинг еще на стороне приложения.\n",
    "* некорректные названия ресторана Iskra bar также заменены, но логично также исправить ошибки на стороне приложения."
   ]
  },
  {
   "cell_type": "markdown",
   "metadata": {},
   "source": [
    "<h3><font color=\"#89DD00\">Комментарий ассистента 2</font></h3>\n",
    "\n",
    "По третьему пункту уточнил выше, остальное ок."
   ]
  },
  {
   "cell_type": "markdown",
   "metadata": {},
   "source": [
    "<h3><font color=\"#FFB800\">Комментарий ассистента</font></h3>\n",
    "\n",
    "1. Для переименования можно еще использовать метод `set_axis()` со следующими аргументами: список с названиями столбцов, `axis='columns'`, `inplace = True`.\n",
    "\n",
    "\n",
    "2. `userID` — это camel case, а `guests_per_table` — snake_case. Лучше на чем-то одном остановиться и еще `ordered` сделать очевиднее: например, `ordered_time`.\n",
    "\n",
    "\n",
    "3. Когда ищешь явные дубликаты, то одной строкой можно обойтись: `bo_data.duplicated().sum()`. Дальше тоже можно просто цепочку методов использовать: `bo_data = bo_data.drop_duplicates().reset_index(drop=True)`\n",
    "\n",
    "\n",
    "4. Прикольное условие сделал, только под «сообщить» имелось в виду просто сказать разработчику, который выгружал для тебя данные :-))\n",
    "\n",
    "\n",
    "5. Для `replace_restaurant()` — интересное решение! Посмотри еще вот такую реализацию, в ней можно одним методом `replace()` обойтись, а потом \"проверить\" его выполнение:\n",
    "\n",
    "```\n",
    "def replace_restaurant(df, wrong):\n",
    "    df['restaurant'] = df['restaurant'].replace(wrong, 'Iskra Bar')\n",
    "    result = df[df['restaurant'] == wrong]['restaurant'].count()\n",
    "    \n",
    "    return result\n",
    "```"
   ]
  },
  {
   "cell_type": "markdown",
   "metadata": {},
   "source": [
    "<h3><font color=\"#3c00ff\">Update</font></h3>\n",
    "\n",
    "1. попробовал.\n",
    "2. остановился на snake_case\n",
    "3. так я вроде и обошелся одной строкой `bo_data.duplicated().sum()`. Если ты про строку, где я завожу переменную, то это только для условия\n",
    "4. я как раз долго думал, что тут имелось в виду)) решил, что лишним не будет)\n",
    "5. попробовал, ок"
   ]
  },
  {
   "cell_type": "markdown",
   "metadata": {},
   "source": [
    "## Распределение заказов в течение недели"
   ]
  },
  {
   "cell_type": "markdown",
   "metadata": {},
   "source": [
    "Считаем, на какие кафе приходится больше всего заказов."
   ]
  },
  {
   "cell_type": "code",
   "execution_count": 1255,
   "metadata": {
    "scrolled": false
   },
   "outputs": [
    {
     "data": {
      "text/plain": [
       "Iskra Bar     287\n",
       "Там Ем        200\n",
       "Бар Сибирь    159\n",
       "Северия       107\n",
       "Крафтейнер     78\n",
       "Коворкафе      66\n",
       "Азия           62\n",
       "admin          41\n",
       "Name: restaurant, dtype: int64"
      ]
     },
     "execution_count": 1255,
     "metadata": {},
     "output_type": "execute_result"
    }
   ],
   "source": [
    "bo_data['restaurant'].value_counts()"
   ]
  },
  {
   "cell_type": "markdown",
   "metadata": {},
   "source": [
    "Группируем по `weekday` и считаем, на какие дни приходится больше всего заказов."
   ]
  },
  {
   "cell_type": "code",
   "execution_count": 1256,
   "metadata": {
    "scrolled": true
   },
   "outputs": [
    {
     "data": {
      "text/plain": [
       "weekday\n",
       "Tuesday      251\n",
       "Wednesday    242\n",
       "Thursday     180\n",
       "Monday       141\n",
       "Friday       110\n",
       "Saturday      52\n",
       "Sunday        24\n",
       "Name: restaurant, dtype: int64"
      ]
     },
     "execution_count": 1256,
     "metadata": {},
     "output_type": "execute_result"
    }
   ],
   "source": [
    "bo_data.groupby('weekday')['restaurant'].count().sort_values(ascending=False)"
   ]
  },
  {
   "cell_type": "code",
   "execution_count": 1257,
   "metadata": {
    "scrolled": false
   },
   "outputs": [
    {
     "data": {
      "text/plain": [
       "Tuesday      251\n",
       "Wednesday    242\n",
       "Thursday     180\n",
       "Monday       141\n",
       "Friday       110\n",
       "Saturday      52\n",
       "Sunday        24\n",
       "Name: weekday, dtype: int64"
      ]
     },
     "execution_count": 1257,
     "metadata": {},
     "output_type": "execute_result"
    }
   ],
   "source": [
    "bo_data['weekday'].value_counts()"
   ]
  },
  {
   "cell_type": "markdown",
   "metadata": {},
   "source": [
    "<h3><font color=\"#89DD00\">Комментарий ассистента 2</font></h3>\n",
    "\n",
    "Да, со днями недели тоже можно разобраться с помощью `value_counts()` на самом деле, просто хотелось побольше группировки добавить. Думаю, поправим описание шага тут"
   ]
  },
  {
   "cell_type": "markdown",
   "metadata": {},
   "source": [
    "Объявляем функцию, которая возвращает количество заказов для ресторана в определенный день."
   ]
  },
  {
   "cell_type": "code",
   "execution_count": 35,
   "metadata": {
    "scrolled": true
   },
   "outputs": [],
   "source": [
    "def orders_per_weekday(dataset, restaurant, weekday):\n",
    "    '''берет на вход датасет, ресторан и день недели,\n",
    "    выдает кол-во заказов по запросу'''\n",
    "    cond1 = dataset['restaurant'] == restaurant\n",
    "    cond2 = dataset['weekday'] == weekday\n",
    "    return dataset[cond1 & cond2]['restaurant'].count()"
   ]
  },
  {
   "cell_type": "markdown",
   "metadata": {},
   "source": [
    "Передадим ей заведения Iskra Bar и Там Ем — два флагманских места, по которым просили результаты прежде всего — и понедельник, среду и пятницу в качестве дня недели."
   ]
  },
  {
   "cell_type": "code",
   "execution_count": 36,
   "metadata": {},
   "outputs": [
    {
     "data": {
      "text/plain": [
       "48"
      ]
     },
     "execution_count": 36,
     "metadata": {},
     "output_type": "execute_result"
    }
   ],
   "source": [
    "orders_per_weekday(bo_data, 'Iskra Bar', 'Monday')"
   ]
  },
  {
   "cell_type": "code",
   "execution_count": 37,
   "metadata": {},
   "outputs": [
    {
     "data": {
      "text/plain": [
       "53"
      ]
     },
     "execution_count": 37,
     "metadata": {},
     "output_type": "execute_result"
    }
   ],
   "source": [
    "orders_per_weekday(bo_data, 'Iskra Bar', 'Wednesday')"
   ]
  },
  {
   "cell_type": "code",
   "execution_count": 38,
   "metadata": {},
   "outputs": [
    {
     "data": {
      "text/plain": [
       "29"
      ]
     },
     "execution_count": 38,
     "metadata": {},
     "output_type": "execute_result"
    }
   ],
   "source": [
    "orders_per_weekday(bo_data, 'Iskra Bar', 'Friday')"
   ]
  },
  {
   "cell_type": "code",
   "execution_count": 39,
   "metadata": {},
   "outputs": [
    {
     "data": {
      "text/plain": [
       "25"
      ]
     },
     "execution_count": 39,
     "metadata": {},
     "output_type": "execute_result"
    }
   ],
   "source": [
    "orders_per_weekday(bo_data, 'Там Ем', 'Monday')"
   ]
  },
  {
   "cell_type": "code",
   "execution_count": 40,
   "metadata": {},
   "outputs": [
    {
     "data": {
      "text/plain": [
       "52"
      ]
     },
     "execution_count": 40,
     "metadata": {},
     "output_type": "execute_result"
    }
   ],
   "source": [
    "orders_per_weekday(bo_data, 'Там Ем', 'Wednesday')"
   ]
  },
  {
   "cell_type": "code",
   "execution_count": 41,
   "metadata": {},
   "outputs": [
    {
     "data": {
      "text/plain": [
       "24"
      ]
     },
     "execution_count": 41,
     "metadata": {},
     "output_type": "execute_result"
    }
   ],
   "source": [
    "orders_per_weekday(bo_data, 'Там Ем', 'Friday')"
   ]
  },
  {
   "cell_type": "markdown",
   "metadata": {},
   "source": [
    "Сведем результат в таблицу."
   ]
  },
  {
   "cell_type": "code",
   "execution_count": 51,
   "metadata": {
    "scrolled": true
   },
   "outputs": [],
   "source": [
    "iskra_mon = orders_per_weekday(bo_data, 'Iskra Bar', 'Monday')\n",
    "iskra_wed = orders_per_weekday(bo_data, 'Iskra Bar', 'Wednesday')\n",
    "iskra_fri = orders_per_weekday(bo_data, 'Iskra Bar', 'Friday')\n",
    "tam_mon = orders_per_weekday(bo_data, 'Там Ем', 'Monday')\n",
    "tam_wed = orders_per_weekday(bo_data, 'Там Ем', 'Wednesday')\n",
    "tam_fri = orders_per_weekday(bo_data, 'Там Ем', 'Friday')"
   ]
  },
  {
   "cell_type": "code",
   "execution_count": 78,
   "metadata": {
    "scrolled": true
   },
   "outputs": [
    {
     "data": {
      "text/html": [
       "<div>\n",
       "<style scoped>\n",
       "    .dataframe tbody tr th:only-of-type {\n",
       "        vertical-align: middle;\n",
       "    }\n",
       "\n",
       "    .dataframe tbody tr th {\n",
       "        vertical-align: top;\n",
       "    }\n",
       "\n",
       "    .dataframe thead th {\n",
       "        text-align: right;\n",
       "    }\n",
       "</style>\n",
       "<table border=\"1\" class=\"dataframe\">\n",
       "  <thead>\n",
       "    <tr style=\"text-align: right;\">\n",
       "      <th></th>\n",
       "      <th>restaurant</th>\n",
       "      <th>monday</th>\n",
       "      <th>wednesday</th>\n",
       "      <th>friday</th>\n",
       "    </tr>\n",
       "  </thead>\n",
       "  <tbody>\n",
       "    <tr>\n",
       "      <th>0</th>\n",
       "      <td>Iskra Bar</td>\n",
       "      <td>48</td>\n",
       "      <td>53</td>\n",
       "      <td>29</td>\n",
       "    </tr>\n",
       "    <tr>\n",
       "      <th>1</th>\n",
       "      <td>Там Ем</td>\n",
       "      <td>25</td>\n",
       "      <td>52</td>\n",
       "      <td>24</td>\n",
       "    </tr>\n",
       "  </tbody>\n",
       "</table>\n",
       "</div>"
      ],
      "text/plain": [
       "  restaurant  monday  wednesday  friday\n",
       "0  Iskra Bar      48         53      29\n",
       "1     Там Ем      25         52      24"
      ]
     },
     "execution_count": 78,
     "metadata": {},
     "output_type": "execute_result"
    }
   ],
   "source": [
    "data = [\n",
    "    ['Iskra Bar', iskra_mon, iskra_wed, iskra_fri],\n",
    "    ['Там Ем', tam_mon, tam_wed, tam_fri]\n",
    "]\n",
    "\n",
    "columns = ['restaurant', 'monday', 'wednesday', 'friday']\n",
    "\n",
    "result = pd.DataFrame(data=data, columns=columns)\n",
    "result"
   ]
  },
  {
   "cell_type": "code",
   "execution_count": 1267,
   "metadata": {
    "scrolled": false
   },
   "outputs": [],
   "source": [
    "#temp.pivot(index='restaurant', columns='weekday', values='orders_per_weekday')"
   ]
  },
  {
   "cell_type": "markdown",
   "metadata": {},
   "source": [
    "### Выводы"
   ]
  },
  {
   "cell_type": "markdown",
   "metadata": {},
   "source": [
    "* заведения с наибольшим кол-вом заказов - Искра бар и Там Ем\n",
    "* основной поток заказов наблюдается в середине недели в будние дни (со вторника по четверг). Это довольно логично, в будние дни приходит много офисных работников на бизнес-ланчи.\n",
    "* данные по заведениям Искра бар и Там Ем соответствуют общему тренду."
   ]
  },
  {
   "cell_type": "markdown",
   "metadata": {},
   "source": [
    "<h3><font color=\"#89DD00\">Комментарий ассистента 2</font></h3>\n",
    "\n",
    "По третьему пункту твой вопрос — да, запись получается компактнее. А так ты заводишь отдельные переменные для каждой части условия.\n",
    "\n",
    "По четвертому пункту — попробуй тогда передать конструктру список `index=['Iskra Bar', 'Там Ем']` и убрать соответствующий столбец restaurant.\n",
    "\n",
    "И еще обрати внимание на `print()` — если его явно прописать, то вывод некрасивый. Можно только саму переменную указать, будет табличка"
   ]
  },
  {
   "cell_type": "markdown",
   "metadata": {},
   "source": [
    "<h3><font color=\"#FF0F00\">Комментарий ассистента</font></h3>\n",
    "\n",
    "1. Когда считаем количество заказов для кафе, можно посчитать количество каждого ресторана просто: `bo_data['restaurant'].value_counts()`.\n",
    "\n",
    "\n",
    "2. Сгруппировать по дням тоже можно немного полегче: `bo_data.groupby('weekday')['restaurant'].count().sort_values(ascending=False)`. В квадратных скобках — это значение какого показателя выводим, а в круглых — по какому параметру группируем.\n",
    "\n",
    "\n",
    "3. В функции `orders_per_weekday()` можно использовать логическое условие: `restaurants_list = df[(df['weekday'] == day) & (df['restaurant'] == restaurant)]`. Внутри квадратных скобок указываем 2 условия, которые записываются в круглых, а между ними специальный оператор `&`, который работает как `and` в питоне. Второй строкой считаем кол-во ресторанов: `restaurants_list_count = restaurants_list['restaurant'].count()`.\n",
    "\n",
    "\n",
    "4. У тебя получились правильные значения, но при сведении в таблицу они оказались не на тех местах (см. wednesday). Я бы предложил пока ограничиться конструктором, метод `pivot_table()` попробуем в следующем проекте. Поэтому можно просто сохранить результат функции, а потом сделать из этих значений табличку:\n",
    "\n",
    "```\n",
    "data = [\n",
    "    ['Iskra Bar', iskra_mon, iskra_wed, iskra_fri],\n",
    "    ['Там Ем', tam_mon, tam_wed, tam_fri]\n",
    "]\n",
    "\n",
    "columns = ['restaurant', 'monday', 'wednesday', 'friday']\n",
    "\n",
    "result = pd.DataFrame(data=data, columns=columns)\n",
    "print(table)\n",
    "```\n",
    "\n",
    "5. Про первый вывод — мы не можем утверждать, что гости Искры и Там Ем ходят к ним активнее, потому что эти заведения в целом могут принять большее количество гостей, нежели Азия или Коворкафе. Величины заполняемости могут быть сопоставимы здесь."
   ]
  },
  {
   "cell_type": "markdown",
   "metadata": {},
   "source": [
    "<h3><font color=\"#3c00ff\">Update</font></h3>\n",
    "\n",
    "1. так проще конечно! спасибо)\n",
    "2. а тут получается тоже проще написать `bo_data['weekday'].value_counts()`? Результат ведь один и тот же.\n",
    "3. заменил `len` на `count()`. Вопрос: чем твой вариант принципиально лучше? То, что все условия лучше сразу записывать в одну переменную?\n",
    "4. заменил, спасибо. а можно как-то при выводе таблицы не выводить столбец с индексом?\n",
    "5. под \"популярными\" я имел в виду заведения с наибольшим кол-вом заказов. заменил формулировку."
   ]
  },
  {
   "cell_type": "markdown",
   "metadata": {},
   "source": [
    "## Распределение заказов в течение дня"
   ]
  },
  {
   "cell_type": "markdown",
   "metadata": {},
   "source": [
    "Сравним количества заказов, сделанных в обеденное и вечернее время — с 12 до 16 и с 16 до 22. Для этого объявим функцию, которая принимает данные и 2 аргумента времени."
   ]
  },
  {
   "cell_type": "code",
   "execution_count": 1268,
   "metadata": {},
   "outputs": [],
   "source": [
    "# время в столбце \"ordered\" приходит в строковом формате, необходимо поменять на формат времени\n",
    "bo_data['ordered_time'] = pd.to_datetime(bo_data['ordered_time'], format='%H:%M')"
   ]
  },
  {
   "cell_type": "code",
   "execution_count": 1269,
   "metadata": {},
   "outputs": [],
   "source": [
    "def spread_during_daytime(dataset, start_time, end_time):\n",
    "    '''берет на вход датасет, начальное и конечное время (в формате HH:MM),\n",
    "    выдает кол-во заказов за период'''\n",
    "    \n",
    "    condition = (dataset['ordered_time'] >= pd.to_datetime(start_time, format='%H:%M')) & (dataset['ordered_time'] <= pd.to_datetime(end_time, format='%H:%M'))\n",
    "    return dataset[condition]['ordered_time'].count()"
   ]
  },
  {
   "cell_type": "code",
   "execution_count": 1270,
   "metadata": {},
   "outputs": [],
   "source": [
    "def spread_during_daytime2(dataset, start_time, end_time):\n",
    "    '''берет на вход датасет, начальное и конечное время (в формате HH:MM),\n",
    "    выдает кол-во заказов за период'''\n",
    "    \n",
    "    condition = (dataset['ordered_time'] >= start_time) & (dataset['ordered_time'] <= end_time)\n",
    "    return dataset[condition]['ordered_time'].count()"
   ]
  },
  {
   "cell_type": "markdown",
   "metadata": {},
   "source": [
    "Передадим промежуток с 12:00 и 16:00"
   ]
  },
  {
   "cell_type": "code",
   "execution_count": 1271,
   "metadata": {
    "scrolled": false
   },
   "outputs": [
    {
     "data": {
      "text/plain": [
       "588"
      ]
     },
     "execution_count": 1271,
     "metadata": {},
     "output_type": "execute_result"
    }
   ],
   "source": [
    "spread_during_daytime(bo_data, '12:00', '16:00')"
   ]
  },
  {
   "cell_type": "code",
   "execution_count": 1272,
   "metadata": {},
   "outputs": [],
   "source": [
    "#spread_during_daytime2(bo_data, '12:00', '16:00')"
   ]
  },
  {
   "cell_type": "markdown",
   "metadata": {},
   "source": [
    "И с 16:00 до 22:00"
   ]
  },
  {
   "cell_type": "code",
   "execution_count": 1273,
   "metadata": {
    "scrolled": false
   },
   "outputs": [
    {
     "data": {
      "text/plain": [
       "338"
      ]
     },
     "execution_count": 1273,
     "metadata": {},
     "output_type": "execute_result"
    }
   ],
   "source": [
    "spread_during_daytime(bo_data, '16:00', '22:00')"
   ]
  },
  {
   "cell_type": "code",
   "execution_count": 1274,
   "metadata": {},
   "outputs": [
    {
     "data": {
      "text/plain": [
       "175"
      ]
     },
     "execution_count": 1274,
     "metadata": {},
     "output_type": "execute_result"
    }
   ],
   "source": [
    "spread_during_daytime(bo_data, '06:00', '12:00')"
   ]
  },
  {
   "cell_type": "markdown",
   "metadata": {},
   "source": [
    "### Выводы"
   ]
  },
  {
   "cell_type": "markdown",
   "metadata": {},
   "source": [
    "* больше половины заказов приходится на дневное время, треть - на вечернее, и незначительное кол-во заказов (около 10%) на утро.\n",
    "* гипотеза: утром и днем люди делают недорогие заказы(завтраки, бизнес-ланчи, кофе,чай), а вечером могут заказывать более дорогие блюда и алкоголь. Это может повлиять на средний чек. Целесообразно в дальнейшем передавать датасет также с данными по стоимости заказа для анализа."
   ]
  },
  {
   "cell_type": "markdown",
   "metadata": {},
   "source": [
    "<h3><font color=\"#89DD00\">Комментарий ассистента 2</font></h3>\n",
    "\n",
    "Заказ, сделанный в 16:00 — уже к вечернему времени относится, ты прав. My bad)"
   ]
  },
  {
   "cell_type": "markdown",
   "metadata": {},
   "source": [
    "<h3><font color=\"FFB800\">Комментарий ассистента</font></h3>\n",
    "\n",
    "Большой респект, что сам догадался конвертировать строку во время! Мы этого даже не закладывали в этот проект (в следующий — да). Я тебе поправил знак, чтобы он учитывал крайнее время, а также рекомендую использовать и здесь логическое условие `df[(df['column1'] == value1) & (df['column2'] == value2)]`, будет изящнее. Также лучше использовать метод pandas `count()`, а не `len()` — прицепляй его в конце к логическому условию.\n",
    "\n",
    "Кстати, если бы ты не конвертировал и сравнивал прямо строки — результат тоже был бы правильный.\n",
    "\n",
    "Вывод здесь главный в том, что большинство заказов делают именно в обед. Это то, что и просили от нас узнать на текущем этапе."
   ]
  },
  {
   "cell_type": "markdown",
   "metadata": {},
   "source": [
    "<h3><font color=\"#3c00ff\">Update</font></h3>\n",
    "\n",
    "> Я тебе поправил знак, чтобы он учитывал крайнее время\n",
    "\n",
    "разве это правильно? Получается, что так дважды учитываются заказы с пограничным временем: 588+388+175=1101, а в моем варианте 543+338+119=1000 (всего в датасете как раз 1000 строк)\n",
    "\n",
    "> рекомендую использовать и здесь логическое условие\n",
    "\n",
    "ок, заменил\n",
    "\n",
    "> Кстати, если бы ты не конвертировал и сравнивал прямо строки — результат тоже был бы правильный.\n",
    "\n",
    "не понимаю почему, но когда я писал условие только с одним временем, то у меня все работало и со строкой. а когда указывал два времени, то выводилась ошибка. А сейчас попробовал, и все получилось)) видимо при объединении где-то ошибка была)"
   ]
  },
  {
   "cell_type": "markdown",
   "metadata": {},
   "source": [
    "## Типичное количество человек за столиком"
   ]
  },
  {
   "cell_type": "markdown",
   "metadata": {},
   "source": [
    "Выясним, для какого количества человек обычно заказывают столик в разное время на примере Iskra Bar и Там Ем. Для этого напишем функцию, которая принимает данные, название ресторана, 2 времени и считает моду."
   ]
  },
  {
   "cell_type": "code",
   "execution_count": 91,
   "metadata": {},
   "outputs": [],
   "source": [
    "def guests_per_table(dataset, restaurant, start_time, end_time):\n",
    "    '''берет на вход датасет, ресторан, начальное и конечное время (в формате HH:MM),\n",
    "    выдает кол-во заказов за период'''\n",
    "    \n",
    "    condition = ((dataset['ordered_time'] >= pd.to_datetime(start_time, format='%H:%M')) &\n",
    "                (dataset['ordered_time'] < pd.to_datetime(end_time, format='%H:%M')) &\n",
    "                (dataset['restaurant'] == restaurant))\n",
    "    temp = dataset[condition]\n",
    "    print(temp['guests_per_table'].value_counts())\n",
    "    print('\\nЧаще всего с {} до {} часов в ресторане {} столик заказывают для {} чел.'.format(start_time, end_time,restaurant, int(temp['guests_per_table'].mode())))"
   ]
  },
  {
   "cell_type": "markdown",
   "metadata": {},
   "source": [
    "Проверим функцию на двух ресторанах, а также дневном и вечернем промежутке времени."
   ]
  },
  {
   "cell_type": "code",
   "execution_count": 92,
   "metadata": {
    "scrolled": false
   },
   "outputs": [
    {
     "name": "stdout",
     "output_type": "stream",
     "text": [
      "2    72\n",
      "1    67\n",
      "3    19\n",
      "4     2\n",
      "5     1\n",
      "Name: guests_per_table, dtype: int64\n",
      "\n",
      "Чаще всего с 12:00 до 16:00 часов в ресторане Iskra Bar столик заказывают для 2 чел.\n"
     ]
    }
   ],
   "source": [
    "guests_per_table(bo_data, 'Iskra Bar', '12:00', '16:00')"
   ]
  },
  {
   "cell_type": "code",
   "execution_count": 1277,
   "metadata": {
    "scrolled": false
   },
   "outputs": [
    {
     "name": "stdout",
     "output_type": "stream",
     "text": [
      "1    45\n",
      "2    35\n",
      "3    17\n",
      "4     1\n",
      "Name: guests_per_table, dtype: int64\n",
      "\n",
      "Чаще всего с 16:00 до 22:00 часов в ресторане Iskra Bar столик заказывают для 1 чел.\n"
     ]
    }
   ],
   "source": [
    "guests_per_table(bo_data, 'Iskra Bar', '16:00', '22:00')"
   ]
  },
  {
   "cell_type": "code",
   "execution_count": 1278,
   "metadata": {
    "scrolled": false
   },
   "outputs": [
    {
     "name": "stdout",
     "output_type": "stream",
     "text": [
      "2    43\n",
      "1    35\n",
      "3    15\n",
      "4     3\n",
      "6     1\n",
      "Name: guests_per_table, dtype: int64\n",
      "\n",
      "Чаще всего с 12:00 до 16:00 часов в ресторане Там Ем столик заказывают для 2 чел.\n"
     ]
    }
   ],
   "source": [
    "guests_per_table(bo_data, 'Там Ем', '12:00', '16:00')"
   ]
  },
  {
   "cell_type": "code",
   "execution_count": 1279,
   "metadata": {
    "scrolled": true
   },
   "outputs": [
    {
     "name": "stdout",
     "output_type": "stream",
     "text": [
      "1    34\n",
      "2    31\n",
      "3    11\n",
      "6     2\n",
      "Name: guests_per_table, dtype: int64\n",
      "\n",
      "Чаще всего с 16:00 до 22:00 часов в ресторане Там Ем столик заказывают для 1 чел.\n"
     ]
    }
   ],
   "source": [
    "guests_per_table(bo_data, 'Там Ем', '16:00', '22:00')"
   ]
  },
  {
   "cell_type": "markdown",
   "metadata": {},
   "source": [
    "### Выводы"
   ]
  },
  {
   "cell_type": "markdown",
   "metadata": {},
   "source": [
    "* Как в обеденное, так и в вечернее время, чаще всего столик заказывают для 1-2 чел.\n",
    "* возможно стоит подумать над какой-нибудь маркетинговой акцией, если заказываешь через приложение столик для большого кол-ва гостей (чем больше гостей, тем больше скидка и т.д.)"
   ]
  },
  {
   "cell_type": "markdown",
   "metadata": {},
   "source": [
    "<h3><font color=\"#89DD00\">Комментарий ассистента 2</font></h3>\n",
    "\n",
    "Ок, тогда мы в брифе формализуем получше как эту часть проекта решить, у других тоже вопросы возникли. Как минимум, укажем, что можно пока без преобразования обойтись. Если мне будет что добавить к этому этапу, то я прямо «Комментарий 3» заведу и дам знать тебе."
   ]
  },
  {
   "cell_type": "markdown",
   "metadata": {},
   "source": [
    "<h3><font color=\"FFB800\">Комментарий ассистента</font></h3>\n",
    "\n",
    "Ты получаешь правильный результат, очень крутые аутпуты-комментарии, но как и выше я рекомендую использовать логическое условие с методом `mode()` на конце.\n",
    "\n",
    "Вывод правильный, люди используют приложение для 1-2 человек и практически не делают предзаказ для больших компаний. Это то, что от нас просили."
   ]
  },
  {
   "cell_type": "markdown",
   "metadata": {},
   "source": [
    "<h3><font color=\"#3c00ff\">Update</font></h3>\n",
    "\n",
    "так я и использую вроде в последней строке метод `mode()`.  \n",
    "\n",
    "А `print(temp['guests_per_table'].value_counts())` я применил для того, чтобы было видно, что разница между заказами на 1 и 2 чел. небольшая."
   ]
  },
  {
   "cell_type": "markdown",
   "metadata": {},
   "source": [
    "## Общие выводы"
   ]
  },
  {
   "cell_type": "markdown",
   "metadata": {},
   "source": [
    "* целесообразно поправить процедуру выгрузки входящих данных\n",
    "* заведения с наибольшим кол-вом заказов - Искра бар и Там Ем\n",
    "* основной поток заказов наблюдается в середине недели в будние дни (со вторника по четверг). Это довольно логично, в будние дни приходит много офисных работников на бизнес-ланчи.\n",
    "* больше половины заказов приходится на дневное время, треть - на вечернее, и незначительное кол-во заказов (около 10%) на утро.\n",
    "* гипотеза: утром и днем люди делают недорогие заказы(завтраки, бизнес-ланчи, кофе,чай), а вечером могут заказывать более дорогие блюда и алкоголь. Это может повлиять на средний чек. Целесообразно в дальнейшем передавать датасет также с данными по стоимости заказа для анализа.\n",
    "* Как в обеденное, так и в вечернее время, чаще всего столик заказывают для 1-2 чел.\n",
    "* возможно стоит подумать над какой-нибудь маркетинговой акцией, если заказываешь через приложение столик для большого кол-ва гостей (чем больше гостей, тем больше скидка и т.д.)"
   ]
  },
  {
   "cell_type": "markdown",
   "metadata": {},
   "source": [
    "<h3><font color=\"#89DD00\">Комментарий ассистента 2</font></h3>\n",
    "\n",
    "Теперь отлично."
   ]
  },
  {
   "cell_type": "markdown",
   "metadata": {},
   "source": [
    "<h3><font color=\"FFB800\">Комментарий ассистента</font></h3>\n",
    "\n",
    "Все верно, только обрати еще раз внимание на второй вывод. Азия может иметь 60 посадочных мест и заполнять их на 100%, а Искра 500 и только половину. Если сравнивать так, то Азия популярнее."
   ]
  },
  {
   "cell_type": "markdown",
   "metadata": {},
   "source": [
    "<h3><font color=\"#3c00ff\">Update</font></h3>\n",
    "\n",
    "поправил!\n",
    "\n",
    "Спасибо за комментарии)"
   ]
  }
 ],
 "metadata": {
  "colab": {
   "collapsed_sections": [],
   "name": "Копия блокнота \"notebook_03_username.ipynb\"",
   "provenance": [],
   "toc_visible": true
  },
  "kernelspec": {
   "display_name": "Python 3",
   "language": "python",
   "name": "python3"
  },
  "language_info": {
   "codemirror_mode": {
    "name": "ipython",
    "version": 3
   },
   "file_extension": ".py",
   "mimetype": "text/x-python",
   "name": "python",
   "nbconvert_exporter": "python",
   "pygments_lexer": "ipython3",
   "version": "3.8.3"
  }
 },
 "nbformat": 4,
 "nbformat_minor": 1
}

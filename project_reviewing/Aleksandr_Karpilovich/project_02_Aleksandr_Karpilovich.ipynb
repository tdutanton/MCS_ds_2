{
 "cells": [
  {
   "cell_type": "markdown",
   "metadata": {},
   "source": [
    "<p><img src=\"https://files.cdn.thinkific.com/file_uploads/133292/images/a9e/c1a/bc3/P02.jpg\"></p>"
   ]
  },
  {
   "cell_type": "markdown",
   "metadata": {
    "id": "e5Vts0g2oUvy"
   },
   "source": [
    "`MCSDSC02P01V3______`\n",
    "\n",
    "`MCSDSC02P01V2______`\n",
    "\n",
    "`MCSDSELIMC02P01V1010621`"
   ]
  },
  {
   "cell_type": "markdown",
   "metadata": {},
   "source": [
    "<h3><font color=\"#89DD00\">Комментарий ассистента</font></h3>\n",
    "\n",
    "Отлично! Проект принят с первого раза!"
   ]
  },
  {
   "cell_type": "markdown",
   "metadata": {},
   "source": [
    "## Постановка задачи"
   ]
  },
  {
   "cell_type": "markdown",
   "metadata": {},
   "source": [
    "Необходимо изучить данные сервиса с тестового запуска на территории дизайн-завода Флакон и Хлебозавода №9 и ответить на вопросы, поставленные менеджером проекта:\n",
    "\n",
    "* На какие кафе приходится больше всего заказов? А на какие дни?\n",
    "* Чаще ли приложением пользуются именно в обеденное время?\n",
    "* Насколько большими компаниями  (или наоборот поодиночке) приходят в кафе?"
   ]
  },
  {
   "cell_type": "markdown",
   "metadata": {},
   "source": [
    "## Импорт данных и библиотек"
   ]
  },
  {
   "cell_type": "code",
   "execution_count": 5,
   "metadata": {},
   "outputs": [],
   "source": [
    "import pandas as pd"
   ]
  },
  {
   "cell_type": "markdown",
   "metadata": {},
   "source": [
    "Прочитаем файл `bez_ocheredi.csv` и сохраним его в переменную `bo_data`."
   ]
  },
  {
   "cell_type": "code",
   "execution_count": 6,
   "metadata": {},
   "outputs": [],
   "source": [
    "bo_data = pd.read_csv('../../data/bez_ocheredi.csv')"
   ]
  },
  {
   "cell_type": "markdown",
   "metadata": {},
   "source": [
    "Получим первые 10 строк таблицы."
   ]
  },
  {
   "cell_type": "code",
   "execution_count": 7,
   "metadata": {
    "scrolled": true
   },
   "outputs": [
    {
     "data": {
      "text/html": [
       "<div>\n",
       "<style scoped>\n",
       "    .dataframe tbody tr th:only-of-type {\n",
       "        vertical-align: middle;\n",
       "    }\n",
       "\n",
       "    .dataframe tbody tr th {\n",
       "        vertical-align: top;\n",
       "    }\n",
       "\n",
       "    .dataframe thead th {\n",
       "        text-align: right;\n",
       "    }\n",
       "</style>\n",
       "<table border=\"1\" class=\"dataframe\">\n",
       "  <thead>\n",
       "    <tr style=\"text-align: right;\">\n",
       "      <th></th>\n",
       "      <th>userID</th>\n",
       "      <th>ресторан</th>\n",
       "      <th>weekday</th>\n",
       "      <th>ordered</th>\n",
       "      <th>Столик для</th>\n",
       "    </tr>\n",
       "  </thead>\n",
       "  <tbody>\n",
       "    <tr>\n",
       "      <th>0</th>\n",
       "      <td>b912c3c6a6ad</td>\n",
       "      <td>Iskra Bar</td>\n",
       "      <td>Monday</td>\n",
       "      <td>10:00</td>\n",
       "      <td>1</td>\n",
       "    </tr>\n",
       "    <tr>\n",
       "      <th>1</th>\n",
       "      <td>2dac0150717d</td>\n",
       "      <td>Iskra Bar</td>\n",
       "      <td>Monday</td>\n",
       "      <td>13:30</td>\n",
       "      <td>2</td>\n",
       "    </tr>\n",
       "    <tr>\n",
       "      <th>2</th>\n",
       "      <td>ba83aefab5dc</td>\n",
       "      <td>Iskra Bar</td>\n",
       "      <td>Tuesday</td>\n",
       "      <td>12:30</td>\n",
       "      <td>3</td>\n",
       "    </tr>\n",
       "    <tr>\n",
       "      <th>3</th>\n",
       "      <td>02996f1dd2ea</td>\n",
       "      <td>Iskra Bar</td>\n",
       "      <td>Wednesday</td>\n",
       "      <td>12:00</td>\n",
       "      <td>2</td>\n",
       "    </tr>\n",
       "    <tr>\n",
       "      <th>4</th>\n",
       "      <td>7c90be56d2ab</td>\n",
       "      <td>Iskra Bar</td>\n",
       "      <td>Thursday</td>\n",
       "      <td>14:30</td>\n",
       "      <td>3</td>\n",
       "    </tr>\n",
       "    <tr>\n",
       "      <th>5</th>\n",
       "      <td>51e0962387f7</td>\n",
       "      <td>Там Ем</td>\n",
       "      <td>Friday</td>\n",
       "      <td>12:30</td>\n",
       "      <td>2</td>\n",
       "    </tr>\n",
       "    <tr>\n",
       "      <th>6</th>\n",
       "      <td>c4f260a2b48a</td>\n",
       "      <td>NaN</td>\n",
       "      <td>Saturday</td>\n",
       "      <td>15:00</td>\n",
       "      <td>6</td>\n",
       "    </tr>\n",
       "    <tr>\n",
       "      <th>7</th>\n",
       "      <td>6b71309d6a8a</td>\n",
       "      <td>Крафтейнер</td>\n",
       "      <td>Monday</td>\n",
       "      <td>10:30</td>\n",
       "      <td>1</td>\n",
       "    </tr>\n",
       "    <tr>\n",
       "      <th>8</th>\n",
       "      <td>c5b969cb63a2</td>\n",
       "      <td>Бар Сибирь</td>\n",
       "      <td>Wednesday</td>\n",
       "      <td>15:30</td>\n",
       "      <td>2</td>\n",
       "    </tr>\n",
       "    <tr>\n",
       "      <th>9</th>\n",
       "      <td>b1570962e68c</td>\n",
       "      <td>Бар Сибирь</td>\n",
       "      <td>Wednesday</td>\n",
       "      <td>12:30</td>\n",
       "      <td>3</td>\n",
       "    </tr>\n",
       "    <tr>\n",
       "      <th>10</th>\n",
       "      <td>d5480bb4a6e4</td>\n",
       "      <td>Бар Сибирь</td>\n",
       "      <td>Thursday</td>\n",
       "      <td>10:00</td>\n",
       "      <td>1</td>\n",
       "    </tr>\n",
       "  </tbody>\n",
       "</table>\n",
       "</div>"
      ],
      "text/plain": [
       "         userID    ресторан     weekday  ordered    Столик для \n",
       "0   b912c3c6a6ad   Iskra Bar     Monday     10:00             1\n",
       "1   2dac0150717d   Iskra Bar     Monday     13:30             2\n",
       "2   ba83aefab5dc   Iskra Bar    Tuesday     12:30             3\n",
       "3   02996f1dd2ea   Iskra Bar  Wednesday     12:00             2\n",
       "4   7c90be56d2ab   Iskra Bar   Thursday     14:30             3\n",
       "5   51e0962387f7      Там Ем     Friday     12:30             2\n",
       "6   c4f260a2b48a         NaN   Saturday     15:00             6\n",
       "7   6b71309d6a8a  Крафтейнер     Monday     10:30             1\n",
       "8   c5b969cb63a2  Бар Сибирь  Wednesday     15:30             2\n",
       "9   b1570962e68c  Бар Сибирь  Wednesday     12:30             3\n",
       "10  d5480bb4a6e4  Бар Сибирь   Thursday     10:00             1"
      ]
     },
     "execution_count": 7,
     "metadata": {},
     "output_type": "execute_result"
    }
   ],
   "source": [
    "bo_data.head(11)"
   ]
  },
  {
   "cell_type": "markdown",
   "metadata": {},
   "source": [
    "Получим общую информацию о данных из таблицы."
   ]
  },
  {
   "cell_type": "code",
   "execution_count": 8,
   "metadata": {
    "scrolled": false
   },
   "outputs": [
    {
     "name": "stdout",
     "output_type": "stream",
     "text": [
      "<class 'pandas.core.frame.DataFrame'>\n",
      "RangeIndex: 1024 entries, 0 to 1023\n",
      "Data columns (total 5 columns):\n",
      " #   Column        Non-Null Count  Dtype \n",
      "---  ------        --------------  ----- \n",
      " 0   userID        1024 non-null   object\n",
      " 1    ресторан     959 non-null    object\n",
      " 2    weekday      1024 non-null   object\n",
      " 3    ordered      1024 non-null   object\n",
      " 4    Столик для   1024 non-null   int64 \n",
      "dtypes: int64(1), object(4)\n",
      "memory usage: 40.1+ KB\n"
     ]
    }
   ],
   "source": [
    "bo_data.info()"
   ]
  },
  {
   "cell_type": "markdown",
   "metadata": {},
   "source": [
    "### Выводы"
   ]
  },
  {
   "cell_type": "markdown",
   "metadata": {},
   "source": [
    "Столбцы в `bo_data` содержат следующую информацию:\n",
    "\n",
    "* userID - ID пользователя, который заказывал столик\n",
    "* ресторан - наименование ресторана\n",
    "* weekday - день, на который был заказ столик\n",
    "* ordered -  время, на которое был заказн столик\n",
    "* Столик для - количество человек "
   ]
  },
  {
   "cell_type": "markdown",
   "metadata": {},
   "source": [
    "* Всего таблица из файла содержит 1024 строки и 5 столбцов\n",
    "* Все столбцы кроме \"Столик для\" имеют данные типа object, а столбец \"Столик для\" имеет тип integer\n",
    "* В колонке \"ресторан\" есть 959 non-null значений и 65 null значений"
   ]
  },
  {
   "cell_type": "markdown",
   "metadata": {},
   "source": [
    "<h3><font color=\"#89DD00\">Комментарий ассистента</font></h3>\n",
    "\n",
    "Тут все ОК!"
   ]
  },
  {
   "cell_type": "markdown",
   "metadata": {},
   "source": [
    "## Предобработка данных"
   ]
  },
  {
   "cell_type": "markdown",
   "metadata": {},
   "source": [
    "Получим названия столбцов."
   ]
  },
  {
   "cell_type": "code",
   "execution_count": 9,
   "metadata": {
    "scrolled": false
   },
   "outputs": [
    {
     "data": {
      "text/plain": [
       "Index(['userID ', ' ресторан ', ' weekday', ' ordered ', ' Столик для '], dtype='object')"
      ]
     },
     "execution_count": 9,
     "metadata": {},
     "output_type": "execute_result"
    }
   ],
   "source": [
    "bo_data.columns"
   ]
  },
  {
   "cell_type": "markdown",
   "metadata": {},
   "source": [
    "Обращаем внимание, что помимо названий на разном языке, в них есть пробелы, которые затрудняют доступ к данным. Переименуем столбцы и проверим результат."
   ]
  },
  {
   "cell_type": "code",
   "execution_count": 10,
   "metadata": {},
   "outputs": [
    {
     "data": {
      "text/plain": [
       "Index(['userID', 'restaurant', 'weekday', 'order_time', 'people_quantity'], dtype='object')"
      ]
     },
     "execution_count": 10,
     "metadata": {},
     "output_type": "execute_result"
    }
   ],
   "source": [
    "bo_data.set_axis(['userID', 'restaurant', 'weekday', 'order_time', 'people_quantity'], axis='columns', inplace=True)\n",
    "bo_data.columns"
   ]
  },
  {
   "cell_type": "markdown",
   "metadata": {},
   "source": [
    "Еще раз проверим данные на наличие пропусков, просуммировав их."
   ]
  },
  {
   "cell_type": "code",
   "execution_count": 11,
   "metadata": {
    "scrolled": false
   },
   "outputs": [
    {
     "data": {
      "text/plain": [
       "userID              0\n",
       "restaurant         65\n",
       "weekday             0\n",
       "order_time          0\n",
       "people_quantity     0\n",
       "dtype: int64"
      ]
     },
     "execution_count": 11,
     "metadata": {},
     "output_type": "execute_result"
    }
   ],
   "source": [
    "bo_data.isnull().sum()"
   ]
  },
  {
   "cell_type": "markdown",
   "metadata": {},
   "source": [
    "Менеджер проекта предупреждал, что некоторые заказы заводились на тестовую карточку кафе без названия, поэтому есть смысл заполнить такой пропуск словом admin."
   ]
  },
  {
   "cell_type": "code",
   "execution_count": 12,
   "metadata": {},
   "outputs": [],
   "source": [
    "bo_data['restaurant'] = bo_data['restaurant'].fillna('admin')"
   ]
  },
  {
   "cell_type": "markdown",
   "metadata": {},
   "source": [
    "Проверяем, что пропусков не осталось."
   ]
  },
  {
   "cell_type": "code",
   "execution_count": 13,
   "metadata": {
    "scrolled": false
   },
   "outputs": [
    {
     "data": {
      "text/plain": [
       "userID             0\n",
       "restaurant         0\n",
       "weekday            0\n",
       "order_time         0\n",
       "people_quantity    0\n",
       "dtype: int64"
      ]
     },
     "execution_count": 13,
     "metadata": {},
     "output_type": "execute_result"
    }
   ],
   "source": [
    "bo_data.isnull().sum()"
   ]
  },
  {
   "cell_type": "markdown",
   "metadata": {},
   "source": [
    "Установим количество явных дубликатов. Если найдутся, то удалим и снова проверим, что их не осталось."
   ]
  },
  {
   "cell_type": "code",
   "execution_count": 14,
   "metadata": {
    "scrolled": true
   },
   "outputs": [
    {
     "data": {
      "text/plain": [
       "24"
      ]
     },
     "execution_count": 14,
     "metadata": {},
     "output_type": "execute_result"
    }
   ],
   "source": [
    "bo_data.duplicated().sum()"
   ]
  },
  {
   "cell_type": "code",
   "execution_count": 15,
   "metadata": {},
   "outputs": [],
   "source": [
    "bo_data = bo_data.drop_duplicates().reset_index(drop=True)"
   ]
  },
  {
   "cell_type": "code",
   "execution_count": 16,
   "metadata": {},
   "outputs": [
    {
     "data": {
      "text/plain": [
       "0"
      ]
     },
     "execution_count": 16,
     "metadata": {},
     "output_type": "execute_result"
    }
   ],
   "source": [
    "bo_data.duplicated().sum()"
   ]
  },
  {
   "cell_type": "code",
   "execution_count": 17,
   "metadata": {},
   "outputs": [
    {
     "data": {
      "text/html": [
       "<div>\n",
       "<style scoped>\n",
       "    .dataframe tbody tr th:only-of-type {\n",
       "        vertical-align: middle;\n",
       "    }\n",
       "\n",
       "    .dataframe tbody tr th {\n",
       "        vertical-align: top;\n",
       "    }\n",
       "\n",
       "    .dataframe thead th {\n",
       "        text-align: right;\n",
       "    }\n",
       "</style>\n",
       "<table border=\"1\" class=\"dataframe\">\n",
       "  <thead>\n",
       "    <tr style=\"text-align: right;\">\n",
       "      <th></th>\n",
       "      <th>userID</th>\n",
       "      <th>restaurant</th>\n",
       "      <th>weekday</th>\n",
       "      <th>order_time</th>\n",
       "      <th>people_quantity</th>\n",
       "    </tr>\n",
       "  </thead>\n",
       "  <tbody>\n",
       "    <tr>\n",
       "      <th>0</th>\n",
       "      <td>b912c3c6a6ad</td>\n",
       "      <td>Iskra Bar</td>\n",
       "      <td>Monday</td>\n",
       "      <td>10:00</td>\n",
       "      <td>1</td>\n",
       "    </tr>\n",
       "    <tr>\n",
       "      <th>1</th>\n",
       "      <td>2dac0150717d</td>\n",
       "      <td>Iskra Bar</td>\n",
       "      <td>Monday</td>\n",
       "      <td>13:30</td>\n",
       "      <td>2</td>\n",
       "    </tr>\n",
       "    <tr>\n",
       "      <th>2</th>\n",
       "      <td>ba83aefab5dc</td>\n",
       "      <td>Iskra Bar</td>\n",
       "      <td>Tuesday</td>\n",
       "      <td>12:30</td>\n",
       "      <td>3</td>\n",
       "    </tr>\n",
       "    <tr>\n",
       "      <th>3</th>\n",
       "      <td>02996f1dd2ea</td>\n",
       "      <td>Iskra Bar</td>\n",
       "      <td>Wednesday</td>\n",
       "      <td>12:00</td>\n",
       "      <td>2</td>\n",
       "    </tr>\n",
       "    <tr>\n",
       "      <th>4</th>\n",
       "      <td>7c90be56d2ab</td>\n",
       "      <td>Iskra Bar</td>\n",
       "      <td>Thursday</td>\n",
       "      <td>14:30</td>\n",
       "      <td>3</td>\n",
       "    </tr>\n",
       "    <tr>\n",
       "      <th>...</th>\n",
       "      <td>...</td>\n",
       "      <td>...</td>\n",
       "      <td>...</td>\n",
       "      <td>...</td>\n",
       "      <td>...</td>\n",
       "    </tr>\n",
       "    <tr>\n",
       "      <th>995</th>\n",
       "      <td>4b136de2c16a</td>\n",
       "      <td>Iskra Bar</td>\n",
       "      <td>Saturday</td>\n",
       "      <td>11:30</td>\n",
       "      <td>2</td>\n",
       "    </tr>\n",
       "    <tr>\n",
       "      <th>996</th>\n",
       "      <td>9e46b91cc547</td>\n",
       "      <td>Бар Сибирь</td>\n",
       "      <td>Thursday</td>\n",
       "      <td>10:00</td>\n",
       "      <td>2</td>\n",
       "    </tr>\n",
       "    <tr>\n",
       "      <th>997</th>\n",
       "      <td>5ca79042c44d</td>\n",
       "      <td>Там Ем</td>\n",
       "      <td>Thursday</td>\n",
       "      <td>14:00</td>\n",
       "      <td>3</td>\n",
       "    </tr>\n",
       "    <tr>\n",
       "      <th>998</th>\n",
       "      <td>e0f9dfd1726c</td>\n",
       "      <td>Там Ем</td>\n",
       "      <td>Tuesday</td>\n",
       "      <td>17:30</td>\n",
       "      <td>1</td>\n",
       "    </tr>\n",
       "    <tr>\n",
       "      <th>999</th>\n",
       "      <td>401d5fa8e55d</td>\n",
       "      <td>Там Ем</td>\n",
       "      <td>Wednesday</td>\n",
       "      <td>20:30</td>\n",
       "      <td>1</td>\n",
       "    </tr>\n",
       "  </tbody>\n",
       "</table>\n",
       "<p>1000 rows × 5 columns</p>\n",
       "</div>"
      ],
      "text/plain": [
       "           userID  restaurant    weekday order_time  people_quantity\n",
       "0    b912c3c6a6ad   Iskra Bar     Monday      10:00                1\n",
       "1    2dac0150717d   Iskra Bar     Monday      13:30                2\n",
       "2    ba83aefab5dc   Iskra Bar    Tuesday      12:30                3\n",
       "3    02996f1dd2ea   Iskra Bar  Wednesday      12:00                2\n",
       "4    7c90be56d2ab   Iskra Bar   Thursday      14:30                3\n",
       "..            ...         ...        ...        ...              ...\n",
       "995  4b136de2c16a   Iskra Bar   Saturday      11:30                2\n",
       "996  9e46b91cc547  Бар Сибирь   Thursday      10:00                2\n",
       "997  5ca79042c44d      Там Ем   Thursday      14:00                3\n",
       "998  e0f9dfd1726c      Там Ем    Tuesday      17:30                1\n",
       "999  401d5fa8e55d      Там Ем  Wednesday      20:30                1\n",
       "\n",
       "[1000 rows x 5 columns]"
      ]
     },
     "execution_count": 17,
     "metadata": {},
     "output_type": "execute_result"
    }
   ],
   "source": [
    "bo_data"
   ]
  },
  {
   "cell_type": "markdown",
   "metadata": {},
   "source": [
    "Скорее всего, такие полные дубликаты говорят о сбое при выгрузке данных. Необходимо сообщить об этом."
   ]
  },
  {
   "cell_type": "markdown",
   "metadata": {},
   "source": [
    "Еще одна проблема, о которой предупреждал менеджер проекта — дубликаты карточки Iskra Bar с неправильными названием бара - \"Искра\" и \"Искр\". На них заводились реальные заказы, поэтому необходимо вычислить их и переименовать на правильное название — Iskra Bar.\n",
    "\n",
    "Объявим функцию `replace_restaurant()`, которая заменяет неправильное название, а потом проверяет успешность выполнения замены подсчетом (если замена прошла успешно — результат подсчета должен быть 0)."
   ]
  },
  {
   "cell_type": "code",
   "execution_count": 18,
   "metadata": {},
   "outputs": [],
   "source": [
    "def replace_restaurant(dataset, bar_name, new_bar_name):\n",
    "    dataset.replace(bar_name, new_bar_name, inplace = True)\n",
    "    return dataset[dataset['restaurant'] == bar_name].count()"
   ]
  },
  {
   "cell_type": "markdown",
   "metadata": {},
   "source": [
    "Передаем функции названия 'Искра' и 'Искр'."
   ]
  },
  {
   "cell_type": "code",
   "execution_count": 19,
   "metadata": {},
   "outputs": [
    {
     "data": {
      "text/plain": [
       "userID             0\n",
       "restaurant         0\n",
       "weekday            0\n",
       "order_time         0\n",
       "people_quantity    0\n",
       "dtype: int64"
      ]
     },
     "execution_count": 19,
     "metadata": {},
     "output_type": "execute_result"
    }
   ],
   "source": [
    "replace_restaurant(bo_data, 'Искра', 'Iskra Bar')"
   ]
  },
  {
   "cell_type": "code",
   "execution_count": 20,
   "metadata": {},
   "outputs": [
    {
     "data": {
      "text/plain": [
       "userID             0\n",
       "restaurant         0\n",
       "weekday            0\n",
       "order_time         0\n",
       "people_quantity    0\n",
       "dtype: int64"
      ]
     },
     "execution_count": 20,
     "metadata": {},
     "output_type": "execute_result"
    }
   ],
   "source": [
    "replace_restaurant(bo_data, 'Искр', 'Iskra Bar')"
   ]
  },
  {
   "cell_type": "markdown",
   "metadata": {},
   "source": [
    "### Выводы"
   ]
  },
  {
   "cell_type": "markdown",
   "metadata": {},
   "source": [
    "* были исправлены наименования столбцов и удалены ненужные символы в наименованиях столбцов\n",
    "* в столбце \"restaurant\" были выявлены 65 значений без наименования, которые были заменены на слово \"admin\"\n",
    "* были удалены дубликаты вместе со строками и был сделан их пересчет и строк получилось 1000, а не 1024\n",
    "* были исправилены наименования Iskra Bar и приведены к одному типу"
   ]
  },
  {
   "cell_type": "markdown",
   "metadata": {},
   "source": [
    "<h3><font color=\"#89DD00\">Комментарий ассистента</font></h3>\n",
    "\n",
    "Также без замечаний!"
   ]
  },
  {
   "cell_type": "markdown",
   "metadata": {},
   "source": [
    "## Распределение заказов в течение недели"
   ]
  },
  {
   "cell_type": "markdown",
   "metadata": {},
   "source": [
    "Считаем, на какие кафе приходится больше всего заказов."
   ]
  },
  {
   "cell_type": "code",
   "execution_count": 21,
   "metadata": {
    "scrolled": false
   },
   "outputs": [
    {
     "data": {
      "text/plain": [
       "Iskra Bar     287\n",
       "Там Ем        200\n",
       "Бар Сибирь    159\n",
       "Северия       107\n",
       "Крафтейнер     78\n",
       "Коворкафе      66\n",
       "Азия           62\n",
       "admin          41\n",
       "Name: restaurant, dtype: int64"
      ]
     },
     "execution_count": 21,
     "metadata": {},
     "output_type": "execute_result"
    }
   ],
   "source": [
    "bo_data['restaurant'].value_counts()"
   ]
  },
  {
   "cell_type": "markdown",
   "metadata": {},
   "source": [
    "Группируем по `weekday` и считаем, на какие дни приходится больше всего заказов."
   ]
  },
  {
   "cell_type": "code",
   "execution_count": 22,
   "metadata": {
    "scrolled": true
   },
   "outputs": [
    {
     "data": {
      "text/plain": [
       "weekday\n",
       "Tuesday      251\n",
       "Wednesday    242\n",
       "Thursday     180\n",
       "Monday       141\n",
       "Friday       110\n",
       "Saturday      52\n",
       "Sunday        24\n",
       "Name: restaurant, dtype: int64"
      ]
     },
     "execution_count": 22,
     "metadata": {},
     "output_type": "execute_result"
    }
   ],
   "source": [
    "bo_data.groupby('weekday')['restaurant'].count().sort_values(ascending=False)"
   ]
  },
  {
   "cell_type": "markdown",
   "metadata": {},
   "source": [
    "Объявляем функцию, которая возвращает количество заказов для ресторана в определенный день."
   ]
  },
  {
   "cell_type": "code",
   "execution_count": 23,
   "metadata": {
    "scrolled": true
   },
   "outputs": [],
   "source": [
    "def numbers_of_orders_per_day(dataset, restaurant, day):\n",
    "    numbers_of_orders = dataset[(dataset['restaurant'] == restaurant) & (dataset['weekday'] == day)]\n",
    "    return numbers_of_orders['restaurant'].count()"
   ]
  },
  {
   "cell_type": "markdown",
   "metadata": {},
   "source": [
    "Передадим ей заведения Iskra Bar и Там Ем — два флагманских места, по которым просили результаты прежде всего — и понедельник, среду и пятницу в качестве дня недели."
   ]
  },
  {
   "cell_type": "code",
   "execution_count": 24,
   "metadata": {},
   "outputs": [
    {
     "data": {
      "text/plain": [
       "48"
      ]
     },
     "execution_count": 24,
     "metadata": {},
     "output_type": "execute_result"
    }
   ],
   "source": [
    "numbers_of_orders_per_day(bo_data, 'Iskra Bar', 'Monday')"
   ]
  },
  {
   "cell_type": "code",
   "execution_count": 25,
   "metadata": {},
   "outputs": [
    {
     "data": {
      "text/plain": [
       "53"
      ]
     },
     "execution_count": 25,
     "metadata": {},
     "output_type": "execute_result"
    }
   ],
   "source": [
    "numbers_of_orders_per_day(bo_data, 'Iskra Bar', 'Wednesday')"
   ]
  },
  {
   "cell_type": "code",
   "execution_count": 26,
   "metadata": {},
   "outputs": [
    {
     "data": {
      "text/plain": [
       "29"
      ]
     },
     "execution_count": 26,
     "metadata": {},
     "output_type": "execute_result"
    }
   ],
   "source": [
    "numbers_of_orders_per_day(bo_data, 'Iskra Bar', 'Friday')"
   ]
  },
  {
   "cell_type": "code",
   "execution_count": 27,
   "metadata": {},
   "outputs": [
    {
     "data": {
      "text/plain": [
       "25"
      ]
     },
     "execution_count": 27,
     "metadata": {},
     "output_type": "execute_result"
    }
   ],
   "source": [
    "numbers_of_orders_per_day(bo_data, 'Там Ем', 'Monday')"
   ]
  },
  {
   "cell_type": "code",
   "execution_count": 28,
   "metadata": {},
   "outputs": [
    {
     "data": {
      "text/plain": [
       "52"
      ]
     },
     "execution_count": 28,
     "metadata": {},
     "output_type": "execute_result"
    }
   ],
   "source": [
    "numbers_of_orders_per_day(bo_data, 'Там Ем', 'Wednesday')"
   ]
  },
  {
   "cell_type": "code",
   "execution_count": 29,
   "metadata": {},
   "outputs": [
    {
     "data": {
      "text/plain": [
       "24"
      ]
     },
     "execution_count": 29,
     "metadata": {},
     "output_type": "execute_result"
    }
   ],
   "source": [
    "numbers_of_orders_per_day(bo_data, 'Там Ем', 'Friday')"
   ]
  },
  {
   "cell_type": "markdown",
   "metadata": {},
   "source": [
    "Сведем результат в таблицу."
   ]
  },
  {
   "cell_type": "code",
   "execution_count": 30,
   "metadata": {},
   "outputs": [
    {
     "data": {
      "text/html": [
       "<div>\n",
       "<style scoped>\n",
       "    .dataframe tbody tr th:only-of-type {\n",
       "        vertical-align: middle;\n",
       "    }\n",
       "\n",
       "    .dataframe tbody tr th {\n",
       "        vertical-align: top;\n",
       "    }\n",
       "\n",
       "    .dataframe thead th {\n",
       "        text-align: right;\n",
       "    }\n",
       "</style>\n",
       "<table border=\"1\" class=\"dataframe\">\n",
       "  <thead>\n",
       "    <tr style=\"text-align: right;\">\n",
       "      <th></th>\n",
       "      <th>Ресторан</th>\n",
       "      <th>Понедельник</th>\n",
       "      <th>Среда</th>\n",
       "      <th>Пятница</th>\n",
       "    </tr>\n",
       "  </thead>\n",
       "  <tbody>\n",
       "    <tr>\n",
       "      <th>0</th>\n",
       "      <td>Iskra Bar</td>\n",
       "      <td>48</td>\n",
       "      <td>53</td>\n",
       "      <td>29</td>\n",
       "    </tr>\n",
       "    <tr>\n",
       "      <th>1</th>\n",
       "      <td>Там Ем</td>\n",
       "      <td>25</td>\n",
       "      <td>52</td>\n",
       "      <td>24</td>\n",
       "    </tr>\n",
       "  </tbody>\n",
       "</table>\n",
       "</div>"
      ],
      "text/plain": [
       "    Ресторан  Понедельник  Среда  Пятница\n",
       "0  Iskra Bar           48     53       29\n",
       "1     Там Ем           25     52       24"
      ]
     },
     "execution_count": 30,
     "metadata": {},
     "output_type": "execute_result"
    }
   ],
   "source": [
    "isk_mon = numbers_of_orders_per_day(bo_data, 'Iskra Bar', 'Monday')\n",
    "isk_wed = numbers_of_orders_per_day(bo_data, 'Iskra Bar', 'Wednesday')\n",
    "isk_fri = numbers_of_orders_per_day(bo_data, 'Iskra Bar', 'Friday')\n",
    "tam_mon = numbers_of_orders_per_day(bo_data, 'Там Ем', 'Monday')\n",
    "tam_wed = numbers_of_orders_per_day(bo_data, 'Там Ем', 'Wednesday')\n",
    "tam_fri = numbers_of_orders_per_day(bo_data, 'Там Ем', 'Friday')\n",
    "\n",
    "data = [\n",
    "    ['Iskra Bar',isk_mon, isk_wed, isk_fri],\n",
    "    ['Там Ем', tam_mon, tam_wed, tam_fri]\n",
    "]\n",
    "columns = ['Ресторан', 'Понедельник', 'Среда', 'Пятница']\n",
    "\n",
    "result = pd.DataFrame(data=data, columns=columns)\n",
    "result"
   ]
  },
  {
   "cell_type": "markdown",
   "metadata": {},
   "source": [
    "### Выводы"
   ]
  },
  {
   "cell_type": "markdown",
   "metadata": {},
   "source": [
    "* больше всего заказов приходится на кафе Iskra bar\n",
    "* самые частые дени, на которые производятся заказы, вторник и среда\n",
    "* Iskra Bar - самое посещаемое заведение в понедельник, среду и пятницу"
   ]
  },
  {
   "cell_type": "markdown",
   "metadata": {},
   "source": [
    "## Распределение заказов в течение дня"
   ]
  },
  {
   "cell_type": "markdown",
   "metadata": {},
   "source": [
    "Сравним количества заказов, сделанных в обеденное и вечернее время — с 12 до 16 и с 16 до 22. Для этого объявим функцию, которая принимает данные и 2 аргумента времени."
   ]
  },
  {
   "cell_type": "code",
   "execution_count": 31,
   "metadata": {},
   "outputs": [],
   "source": [
    "lunch_start = '12:00'\n",
    "lunch_end = '15:59'\n",
    "dinner_start = '16:00'\n",
    "dinner_end = '21:59'\n",
    "\n",
    "def lunch_and_dinner_orders(dataset, start_time, end_time):\n",
    "    time = (dataset['order_time'] >= start_time) & (dataset['order_time'] < end_time)\n",
    "    \n",
    "    orders = dataset[time]\n",
    "    return orders['order_time'].count() "
   ]
  },
  {
   "cell_type": "markdown",
   "metadata": {},
   "source": [
    "Передадим промежуток с 12:00 и 16:00"
   ]
  },
  {
   "cell_type": "code",
   "execution_count": 32,
   "metadata": {
    "scrolled": false
   },
   "outputs": [
    {
     "data": {
      "text/plain": [
       "543"
      ]
     },
     "execution_count": 32,
     "metadata": {},
     "output_type": "execute_result"
    }
   ],
   "source": [
    "lunch_and_dinner_orders(bo_data, lunch_start, lunch_end)"
   ]
  },
  {
   "cell_type": "markdown",
   "metadata": {},
   "source": [
    "И с 16:00 до 22:00"
   ]
  },
  {
   "cell_type": "code",
   "execution_count": 33,
   "metadata": {
    "scrolled": false
   },
   "outputs": [
    {
     "data": {
      "text/plain": [
       "338"
      ]
     },
     "execution_count": 33,
     "metadata": {},
     "output_type": "execute_result"
    }
   ],
   "source": [
    "lunch_and_dinner_orders(bo_data, dinner_start, dinner_end)"
   ]
  },
  {
   "cell_type": "markdown",
   "metadata": {},
   "source": [
    "### Выводы"
   ]
  },
  {
   "cell_type": "markdown",
   "metadata": {},
   "source": [
    "* в обеденное время столиков заказывается больше, чем в вечернее\n",
    "* вероятно, что столики в обед заказывают больше офисные работники"
   ]
  },
  {
   "cell_type": "markdown",
   "metadata": {},
   "source": [
    "## Типичное количество человек за столиком"
   ]
  },
  {
   "cell_type": "markdown",
   "metadata": {},
   "source": [
    "Выясним, для какого количества человек обычно заказывают столик в разное время на примере Iskra Bar и Там Ем. Для этого напишем функцию, которая принимает данные, название ресторана, 2 времени и считает моду."
   ]
  },
  {
   "cell_type": "code",
   "execution_count": 34,
   "metadata": {},
   "outputs": [],
   "source": [
    "def number_of_persons(dataset, rest_name, start_time, end_time):\n",
    "    restaurant = dataset['restaurant'] == rest_name\n",
    "    time = (dataset['order_time'] >= start_time) & (dataset['order_time'] < end_time)\n",
    "    median_num = dataset[restaurant & time]\n",
    "    \n",
    "    return median_num['people_quantity'].mode()"
   ]
  },
  {
   "cell_type": "markdown",
   "metadata": {},
   "source": [
    "Проверим функцию на двух ресторанах, а также дневном и вечернем промежутке времени."
   ]
  },
  {
   "cell_type": "code",
   "execution_count": 35,
   "metadata": {},
   "outputs": [
    {
     "data": {
      "text/plain": [
       "0    2\n",
       "Name: people_quantity, dtype: int64"
      ]
     },
     "execution_count": 35,
     "metadata": {},
     "output_type": "execute_result"
    }
   ],
   "source": [
    "number_of_persons(bo_data, 'Iskra Bar', lunch_start, lunch_end)"
   ]
  },
  {
   "cell_type": "code",
   "execution_count": 36,
   "metadata": {},
   "outputs": [
    {
     "data": {
      "text/plain": [
       "0    1\n",
       "Name: people_quantity, dtype: int64"
      ]
     },
     "execution_count": 36,
     "metadata": {},
     "output_type": "execute_result"
    }
   ],
   "source": [
    "number_of_persons(bo_data, 'Iskra Bar', dinner_start, dinner_end)"
   ]
  },
  {
   "cell_type": "code",
   "execution_count": 37,
   "metadata": {},
   "outputs": [
    {
     "data": {
      "text/plain": [
       "0    2\n",
       "Name: people_quantity, dtype: int64"
      ]
     },
     "execution_count": 37,
     "metadata": {},
     "output_type": "execute_result"
    }
   ],
   "source": [
    "number_of_persons(bo_data, 'Там Ем', lunch_start, lunch_end)"
   ]
  },
  {
   "cell_type": "code",
   "execution_count": 38,
   "metadata": {},
   "outputs": [
    {
     "data": {
      "text/plain": [
       "0    1\n",
       "Name: people_quantity, dtype: int64"
      ]
     },
     "execution_count": 38,
     "metadata": {},
     "output_type": "execute_result"
    }
   ],
   "source": [
    "number_of_persons(bo_data, 'Там Ем', dinner_start, dinner_end)"
   ]
  },
  {
   "cell_type": "markdown",
   "metadata": {},
   "source": [
    "### Выводы"
   ]
  },
  {
   "cell_type": "markdown",
   "metadata": {},
   "source": [
    "В обеденное время в двух самых популярных заведениях столик бронируется на 2-х человек в чаще всего, а в вечернее время на одного. В результате этого можно предположить, что в заведениях редко бронируются столики для больших компаний и вечеринок."
   ]
  },
  {
   "cell_type": "markdown",
   "metadata": {},
   "source": [
    "## Общие выводы"
   ]
  },
  {
   "cell_type": "markdown",
   "metadata": {},
   "source": [
    "1. Была проведена работа по корректировке таблицы: заменены пустые ячейки, удалены дубликаты, рассчитаны значения  по дням, по количеству заказов в течение дня и количество человек\n",
    "2. На основании полученных данных можно сказать:\n",
    "    * самые популярные для заказа заведения: Iskra Bar - 287 и Там Ем - 200 заказов в неделю\n",
    "    * самые часто посещаемы дни - Вторник - 251, Среда - 242, Четверг - 180\n",
    "    * больше всего столики бронируются в обеденное время - 543, чем в вечернее - 338\n",
    "    * чаще всего обедают люди по 2 человека, а ужинают по одному. На основании этого можно сказать, что приложение не очень удобно для организации больших вечеринок и похода компании в заведения. Зато очень удобно забронировать столик на одного или двух человек, чтобы быстро пообедать или поужинать и пойти дальше по своим делам."
   ]
  },
  {
   "cell_type": "markdown",
   "metadata": {},
   "source": [
    "<h3><font color=\"#89DD00\">Комментарий ассистента</font></h3>\n",
    "\n",
    "Отличная работа!"
   ]
  }
 ],
 "metadata": {
  "colab": {
   "collapsed_sections": [],
   "name": "Копия блокнота \"notebook_03_username.ipynb\"",
   "provenance": [],
   "toc_visible": true
  },
  "kernelspec": {
   "display_name": "Python 3",
   "language": "python",
   "name": "python3"
  },
  "language_info": {
   "codemirror_mode": {
    "name": "ipython",
    "version": 3
   },
   "file_extension": ".py",
   "mimetype": "text/x-python",
   "name": "python",
   "nbconvert_exporter": "python",
   "pygments_lexer": "ipython3",
   "version": "3.8.3"
  }
 },
 "nbformat": 4,
 "nbformat_minor": 1
}

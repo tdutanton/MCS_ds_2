{
 "cells": [
  {
   "cell_type": "markdown",
   "metadata": {
    "id": "kPDZZbVEoUvu"
   },
   "source": [
    "<p><img src=\"https://files.cdn.thinkific.com/file_uploads/133292/images/997/f9b/3f9/C02N01.jpg\"></p>"
   ]
  },
  {
   "cell_type": "markdown",
   "metadata": {
    "id": "nvCIA9IooUvw"
   },
   "source": [
    "___\n",
    "<font color=\"#000000\">Знакомство с Pandas</font>\n",
    "<font color=\"#9A9A9A\"> → </font>\n",
    "<font color=\"#9A9A9A\">Доступ к значениям DataFrame</font>\n",
    "<font color=\"#9A9A9A\"> → </font>\n",
    "<font color=\"#9A9A9A\">Работа с пропусками</font>\n",
    "___"
   ]
  },
  {
   "cell_type": "markdown",
   "metadata": {
    "id": "_Vtl0zd2oUwM"
   },
   "source": [
    "*Студенческие ноутбуки с теорией и задачами в разработке. Для выполнения проектов обращайтесь к конспектам на платформе.*"
   ]
  }
 ],
 "metadata": {
  "colab": {
   "collapsed_sections": [],
   "name": "Копия блокнота \"notebook_03_username.ipynb\"",
   "provenance": [],
   "toc_visible": true
  },
  "kernelspec": {
   "display_name": "Python 3",
   "language": "python",
   "name": "python3"
  },
  "language_info": {
   "codemirror_mode": {
    "name": "ipython",
    "version": 3
   },
   "file_extension": ".py",
   "mimetype": "text/x-python",
   "name": "python",
   "nbconvert_exporter": "python",
   "pygments_lexer": "ipython3",
   "version": "3.8.3"
  }
 },
 "nbformat": 4,
 "nbformat_minor": 1
}
